{
  "cells": [
    {
      "cell_type": "markdown",
      "metadata": {
        "id": "view-in-github",
        "colab_type": "text"
      },
      "source": [
        "<a href=\"https://colab.research.google.com/github/Bitasml/cs110-crapsgame/blob/master/l3D_Segmentation_bita_11_29(2%3A40am).ipynb\" target=\"_parent\"><img src=\"https://colab.research.google.com/assets/colab-badge.svg\" alt=\"Open In Colab\"/></a>"
      ]
    },
    {
      "cell_type": "code",
      "execution_count": null,
      "metadata": {
        "id": "HrqfpsBpD_PE"
      },
      "outputs": [],
      "source": []
    },
    {
      "cell_type": "code",
      "execution_count": 1,
      "metadata": {
        "colab": {
          "base_uri": "https://localhost:8080/"
        },
        "id": "BXOsote6EIU_",
        "outputId": "763a9794-c17b-4269-da23-e66a0615e3be"
      },
      "outputs": [
        {
          "output_type": "stream",
          "name": "stdout",
          "text": [
            "Colab only includes TensorFlow 2.x; %tensorflow_version has no effect.\n"
          ]
        }
      ],
      "source": [
        "#Latest Tensorflow (2.4) is giving error for some of the libraries we will be using, \n",
        "# especially segmentation models 3D. \n",
        "#Therefore, I am defining TF version 1.x. \n",
        "#If you have your own 3D unet model, you can try the latest TF version.\n",
        "%tensorflow_version 2.x"
      ]
    },
    {
      "cell_type": "code",
      "execution_count": 2,
      "metadata": {
        "colab": {
          "base_uri": "https://localhost:8080/"
        },
        "id": "r-tT5ersETsV",
        "outputId": "fbf57877-76ef-4dfb-b51e-65a3f0b8dbee"
      },
      "outputs": [
        {
          "output_type": "stream",
          "name": "stdout",
          "text": [
            "Looking in indexes: https://pypi.org/simple, https://us-python.pkg.dev/colab-wheels/public/simple/\n",
            "Collecting classification-models-3D\n",
            "  Downloading classification_models_3D-1.0.6-py3-none-any.whl (62 kB)\n",
            "\u001b[K     |████████████████████████████████| 62 kB 596 kB/s \n",
            "\u001b[?25hInstalling collected packages: classification-models-3D\n",
            "Successfully installed classification-models-3D-1.0.6\n",
            "Looking in indexes: https://pypi.org/simple, https://us-python.pkg.dev/colab-wheels/public/simple/\n",
            "Collecting efficientnet-3D\n",
            "  Downloading efficientnet_3D-1.0.2-py3-none-any.whl (15 kB)\n",
            "Installing collected packages: efficientnet-3D\n",
            "Successfully installed efficientnet-3D-1.0.2\n",
            "Looking in indexes: https://pypi.org/simple, https://us-python.pkg.dev/colab-wheels/public/simple/\n",
            "Collecting segmentation-models-3D\n",
            "  Downloading segmentation_models_3D-1.0.4-py3-none-any.whl (33 kB)\n",
            "Requirement already satisfied: classification-models-3D>=1.0.6 in /usr/local/lib/python3.7/dist-packages (from segmentation-models-3D) (1.0.6)\n",
            "Requirement already satisfied: tensorflow>=2.8.0 in /usr/local/lib/python3.7/dist-packages (from segmentation-models-3D) (2.9.2)\n",
            "Collecting keras-applications>=1.0.8\n",
            "  Downloading Keras_Applications-1.0.8-py3-none-any.whl (50 kB)\n",
            "\u001b[K     |████████████████████████████████| 50 kB 5.7 MB/s \n",
            "\u001b[?25hRequirement already satisfied: h5py in /usr/local/lib/python3.7/dist-packages (from keras-applications>=1.0.8->segmentation-models-3D) (3.1.0)\n",
            "Requirement already satisfied: numpy>=1.9.1 in /usr/local/lib/python3.7/dist-packages (from keras-applications>=1.0.8->segmentation-models-3D) (1.21.6)\n",
            "Requirement already satisfied: grpcio<2.0,>=1.24.3 in /usr/local/lib/python3.7/dist-packages (from tensorflow>=2.8.0->segmentation-models-3D) (1.50.0)\n",
            "Requirement already satisfied: termcolor>=1.1.0 in /usr/local/lib/python3.7/dist-packages (from tensorflow>=2.8.0->segmentation-models-3D) (2.1.0)\n",
            "Requirement already satisfied: libclang>=13.0.0 in /usr/local/lib/python3.7/dist-packages (from tensorflow>=2.8.0->segmentation-models-3D) (14.0.6)\n",
            "Requirement already satisfied: protobuf<3.20,>=3.9.2 in /usr/local/lib/python3.7/dist-packages (from tensorflow>=2.8.0->segmentation-models-3D) (3.19.6)\n",
            "Requirement already satisfied: tensorboard<2.10,>=2.9 in /usr/local/lib/python3.7/dist-packages (from tensorflow>=2.8.0->segmentation-models-3D) (2.9.1)\n",
            "Requirement already satisfied: flatbuffers<2,>=1.12 in /usr/local/lib/python3.7/dist-packages (from tensorflow>=2.8.0->segmentation-models-3D) (1.12)\n",
            "Requirement already satisfied: keras<2.10.0,>=2.9.0rc0 in /usr/local/lib/python3.7/dist-packages (from tensorflow>=2.8.0->segmentation-models-3D) (2.9.0)\n",
            "Requirement already satisfied: tensorflow-estimator<2.10.0,>=2.9.0rc0 in /usr/local/lib/python3.7/dist-packages (from tensorflow>=2.8.0->segmentation-models-3D) (2.9.0)\n",
            "Requirement already satisfied: absl-py>=1.0.0 in /usr/local/lib/python3.7/dist-packages (from tensorflow>=2.8.0->segmentation-models-3D) (1.3.0)\n",
            "Requirement already satisfied: astunparse>=1.6.0 in /usr/local/lib/python3.7/dist-packages (from tensorflow>=2.8.0->segmentation-models-3D) (1.6.3)\n",
            "Requirement already satisfied: keras-preprocessing>=1.1.1 in /usr/local/lib/python3.7/dist-packages (from tensorflow>=2.8.0->segmentation-models-3D) (1.1.2)\n",
            "Requirement already satisfied: typing-extensions>=3.6.6 in /usr/local/lib/python3.7/dist-packages (from tensorflow>=2.8.0->segmentation-models-3D) (4.1.1)\n",
            "Requirement already satisfied: google-pasta>=0.1.1 in /usr/local/lib/python3.7/dist-packages (from tensorflow>=2.8.0->segmentation-models-3D) (0.2.0)\n",
            "Requirement already satisfied: setuptools in /usr/local/lib/python3.7/dist-packages (from tensorflow>=2.8.0->segmentation-models-3D) (57.4.0)\n",
            "Requirement already satisfied: wrapt>=1.11.0 in /usr/local/lib/python3.7/dist-packages (from tensorflow>=2.8.0->segmentation-models-3D) (1.14.1)\n",
            "Requirement already satisfied: six>=1.12.0 in /usr/local/lib/python3.7/dist-packages (from tensorflow>=2.8.0->segmentation-models-3D) (1.15.0)\n",
            "Requirement already satisfied: gast<=0.4.0,>=0.2.1 in /usr/local/lib/python3.7/dist-packages (from tensorflow>=2.8.0->segmentation-models-3D) (0.4.0)\n",
            "Requirement already satisfied: packaging in /usr/local/lib/python3.7/dist-packages (from tensorflow>=2.8.0->segmentation-models-3D) (21.3)\n",
            "Requirement already satisfied: tensorflow-io-gcs-filesystem>=0.23.1 in /usr/local/lib/python3.7/dist-packages (from tensorflow>=2.8.0->segmentation-models-3D) (0.27.0)\n",
            "Requirement already satisfied: opt-einsum>=2.3.2 in /usr/local/lib/python3.7/dist-packages (from tensorflow>=2.8.0->segmentation-models-3D) (3.3.0)\n",
            "Requirement already satisfied: wheel<1.0,>=0.23.0 in /usr/local/lib/python3.7/dist-packages (from astunparse>=1.6.0->tensorflow>=2.8.0->segmentation-models-3D) (0.38.4)\n",
            "Requirement already satisfied: cached-property in /usr/local/lib/python3.7/dist-packages (from h5py->keras-applications>=1.0.8->segmentation-models-3D) (1.5.2)\n",
            "Requirement already satisfied: requests<3,>=2.21.0 in /usr/local/lib/python3.7/dist-packages (from tensorboard<2.10,>=2.9->tensorflow>=2.8.0->segmentation-models-3D) (2.23.0)\n",
            "Requirement already satisfied: tensorboard-plugin-wit>=1.6.0 in /usr/local/lib/python3.7/dist-packages (from tensorboard<2.10,>=2.9->tensorflow>=2.8.0->segmentation-models-3D) (1.8.1)\n",
            "Requirement already satisfied: google-auth<3,>=1.6.3 in /usr/local/lib/python3.7/dist-packages (from tensorboard<2.10,>=2.9->tensorflow>=2.8.0->segmentation-models-3D) (2.14.1)\n",
            "Requirement already satisfied: werkzeug>=1.0.1 in /usr/local/lib/python3.7/dist-packages (from tensorboard<2.10,>=2.9->tensorflow>=2.8.0->segmentation-models-3D) (1.0.1)\n",
            "Requirement already satisfied: tensorboard-data-server<0.7.0,>=0.6.0 in /usr/local/lib/python3.7/dist-packages (from tensorboard<2.10,>=2.9->tensorflow>=2.8.0->segmentation-models-3D) (0.6.1)\n",
            "Requirement already satisfied: markdown>=2.6.8 in /usr/local/lib/python3.7/dist-packages (from tensorboard<2.10,>=2.9->tensorflow>=2.8.0->segmentation-models-3D) (3.4.1)\n",
            "Requirement already satisfied: google-auth-oauthlib<0.5,>=0.4.1 in /usr/local/lib/python3.7/dist-packages (from tensorboard<2.10,>=2.9->tensorflow>=2.8.0->segmentation-models-3D) (0.4.6)\n",
            "Requirement already satisfied: rsa<5,>=3.1.4 in /usr/local/lib/python3.7/dist-packages (from google-auth<3,>=1.6.3->tensorboard<2.10,>=2.9->tensorflow>=2.8.0->segmentation-models-3D) (4.9)\n",
            "Requirement already satisfied: pyasn1-modules>=0.2.1 in /usr/local/lib/python3.7/dist-packages (from google-auth<3,>=1.6.3->tensorboard<2.10,>=2.9->tensorflow>=2.8.0->segmentation-models-3D) (0.2.8)\n",
            "Requirement already satisfied: cachetools<6.0,>=2.0.0 in /usr/local/lib/python3.7/dist-packages (from google-auth<3,>=1.6.3->tensorboard<2.10,>=2.9->tensorflow>=2.8.0->segmentation-models-3D) (5.2.0)\n",
            "Requirement already satisfied: requests-oauthlib>=0.7.0 in /usr/local/lib/python3.7/dist-packages (from google-auth-oauthlib<0.5,>=0.4.1->tensorboard<2.10,>=2.9->tensorflow>=2.8.0->segmentation-models-3D) (1.3.1)\n",
            "Requirement already satisfied: importlib-metadata>=4.4 in /usr/local/lib/python3.7/dist-packages (from markdown>=2.6.8->tensorboard<2.10,>=2.9->tensorflow>=2.8.0->segmentation-models-3D) (4.13.0)\n",
            "Requirement already satisfied: zipp>=0.5 in /usr/local/lib/python3.7/dist-packages (from importlib-metadata>=4.4->markdown>=2.6.8->tensorboard<2.10,>=2.9->tensorflow>=2.8.0->segmentation-models-3D) (3.10.0)\n",
            "Requirement already satisfied: pyasn1<0.5.0,>=0.4.6 in /usr/local/lib/python3.7/dist-packages (from pyasn1-modules>=0.2.1->google-auth<3,>=1.6.3->tensorboard<2.10,>=2.9->tensorflow>=2.8.0->segmentation-models-3D) (0.4.8)\n",
            "Requirement already satisfied: chardet<4,>=3.0.2 in /usr/local/lib/python3.7/dist-packages (from requests<3,>=2.21.0->tensorboard<2.10,>=2.9->tensorflow>=2.8.0->segmentation-models-3D) (3.0.4)\n",
            "Requirement already satisfied: certifi>=2017.4.17 in /usr/local/lib/python3.7/dist-packages (from requests<3,>=2.21.0->tensorboard<2.10,>=2.9->tensorflow>=2.8.0->segmentation-models-3D) (2022.9.24)\n",
            "Requirement already satisfied: idna<3,>=2.5 in /usr/local/lib/python3.7/dist-packages (from requests<3,>=2.21.0->tensorboard<2.10,>=2.9->tensorflow>=2.8.0->segmentation-models-3D) (2.10)\n",
            "Requirement already satisfied: urllib3!=1.25.0,!=1.25.1,<1.26,>=1.21.1 in /usr/local/lib/python3.7/dist-packages (from requests<3,>=2.21.0->tensorboard<2.10,>=2.9->tensorflow>=2.8.0->segmentation-models-3D) (1.24.3)\n",
            "Requirement already satisfied: oauthlib>=3.0.0 in /usr/local/lib/python3.7/dist-packages (from requests-oauthlib>=0.7.0->google-auth-oauthlib<0.5,>=0.4.1->tensorboard<2.10,>=2.9->tensorflow>=2.8.0->segmentation-models-3D) (3.2.2)\n",
            "Requirement already satisfied: pyparsing!=3.0.5,>=2.0.2 in /usr/local/lib/python3.7/dist-packages (from packaging->tensorflow>=2.8.0->segmentation-models-3D) (3.0.9)\n",
            "Installing collected packages: keras-applications, segmentation-models-3D\n",
            "Successfully installed keras-applications-1.0.8 segmentation-models-3D-1.0.4\n"
          ]
        }
      ],
      "source": [
        "#Install all dependencies for sgementation-models-3D library.\n",
        "#We will use this library to call 3D unet.\n",
        "#Alternative, you can define your own Unet, if you have skills!\n",
        "!pip install classification-models-3D\n",
        "!pip install efficientnet-3D\n",
        "!pip install segmentation-models-3D"
      ]
    },
    {
      "cell_type": "code",
      "execution_count": 3,
      "metadata": {
        "colab": {
          "base_uri": "https://localhost:8080/"
        },
        "id": "BGHz6skHET0n",
        "outputId": "cb4e0fce-7e6d-4e7f-d526-90852d1d4e05"
      },
      "outputs": [
        {
          "output_type": "stream",
          "name": "stdout",
          "text": [
            "Looking in indexes: https://pypi.org/simple, https://us-python.pkg.dev/colab-wheels/public/simple/\n",
            "Collecting patchify\n",
            "  Downloading patchify-0.2.3-py3-none-any.whl (6.6 kB)\n",
            "Requirement already satisfied: numpy<2,>=1 in /usr/local/lib/python3.7/dist-packages (from patchify) (1.21.6)\n",
            "Installing collected packages: patchify\n",
            "Successfully installed patchify-0.2.3\n"
          ]
        }
      ],
      "source": [
        "#Use patchify to break large volumes into smaller for training \n",
        "#and also to put patches back together after prediction.\n",
        "!pip install patchify"
      ]
    },
    {
      "cell_type": "code",
      "execution_count": 4,
      "metadata": {
        "colab": {
          "base_uri": "https://localhost:8080/"
        },
        "id": "M6qhHngNET3I",
        "outputId": "17d94f58-e076-41d2-ed4d-7bd42a657d69"
      },
      "outputs": [
        {
          "output_type": "stream",
          "name": "stdout",
          "text": [
            "2.9.2\n",
            "2.9.0\n"
          ]
        }
      ],
      "source": [
        "import tensorflow as tf\n",
        "import keras\n",
        "print(tf.__version__)\n",
        "print(keras.__version__)\n",
        "\n"
      ]
    },
    {
      "cell_type": "code",
      "execution_count": 5,
      "metadata": {
        "id": "sqHcBjQWET6Q"
      },
      "outputs": [],
      "source": [
        "#Make sure the GPU is available. \n",
        "#import tensorflow as tf\n",
        "#device_name = tf.test.gpu_device_name()\n",
        "#if device_name != '/device:GPU:0':\n",
        " # raise SystemError('GPU device not found')\n",
        "#print('Found GPU at: {}'.format(device_name))"
      ]
    },
    {
      "cell_type": "code",
      "execution_count": 6,
      "metadata": {
        "colab": {
          "base_uri": "https://localhost:8080/"
        },
        "id": "jcnpuUDcGmRS",
        "outputId": "adfd7f75-e01c-40fe-a11c-3bbd66394dc4"
      },
      "outputs": [
        {
          "output_type": "stream",
          "name": "stdout",
          "text": [
            "Looking in indexes: https://pypi.org/simple, https://us-python.pkg.dev/colab-wheels/public/simple/\n",
            "Requirement already satisfied: segmentation-models-3D in /usr/local/lib/python3.7/dist-packages (1.0.4)\n",
            "Requirement already satisfied: keras-applications>=1.0.8 in /usr/local/lib/python3.7/dist-packages (from segmentation-models-3D) (1.0.8)\n",
            "Requirement already satisfied: tensorflow>=2.8.0 in /usr/local/lib/python3.7/dist-packages (from segmentation-models-3D) (2.9.2)\n",
            "Requirement already satisfied: classification-models-3D>=1.0.6 in /usr/local/lib/python3.7/dist-packages (from segmentation-models-3D) (1.0.6)\n",
            "Requirement already satisfied: h5py in /usr/local/lib/python3.7/dist-packages (from keras-applications>=1.0.8->segmentation-models-3D) (3.1.0)\n",
            "Requirement already satisfied: numpy>=1.9.1 in /usr/local/lib/python3.7/dist-packages (from keras-applications>=1.0.8->segmentation-models-3D) (1.21.6)\n",
            "Requirement already satisfied: flatbuffers<2,>=1.12 in /usr/local/lib/python3.7/dist-packages (from tensorflow>=2.8.0->segmentation-models-3D) (1.12)\n",
            "Requirement already satisfied: tensorboard<2.10,>=2.9 in /usr/local/lib/python3.7/dist-packages (from tensorflow>=2.8.0->segmentation-models-3D) (2.9.1)\n",
            "Requirement already satisfied: packaging in /usr/local/lib/python3.7/dist-packages (from tensorflow>=2.8.0->segmentation-models-3D) (21.3)\n",
            "Requirement already satisfied: astunparse>=1.6.0 in /usr/local/lib/python3.7/dist-packages (from tensorflow>=2.8.0->segmentation-models-3D) (1.6.3)\n",
            "Requirement already satisfied: typing-extensions>=3.6.6 in /usr/local/lib/python3.7/dist-packages (from tensorflow>=2.8.0->segmentation-models-3D) (4.1.1)\n",
            "Requirement already satisfied: six>=1.12.0 in /usr/local/lib/python3.7/dist-packages (from tensorflow>=2.8.0->segmentation-models-3D) (1.15.0)\n",
            "Requirement already satisfied: keras<2.10.0,>=2.9.0rc0 in /usr/local/lib/python3.7/dist-packages (from tensorflow>=2.8.0->segmentation-models-3D) (2.9.0)\n",
            "Requirement already satisfied: setuptools in /usr/local/lib/python3.7/dist-packages (from tensorflow>=2.8.0->segmentation-models-3D) (57.4.0)\n",
            "Requirement already satisfied: termcolor>=1.1.0 in /usr/local/lib/python3.7/dist-packages (from tensorflow>=2.8.0->segmentation-models-3D) (2.1.0)\n",
            "Requirement already satisfied: grpcio<2.0,>=1.24.3 in /usr/local/lib/python3.7/dist-packages (from tensorflow>=2.8.0->segmentation-models-3D) (1.50.0)\n",
            "Requirement already satisfied: gast<=0.4.0,>=0.2.1 in /usr/local/lib/python3.7/dist-packages (from tensorflow>=2.8.0->segmentation-models-3D) (0.4.0)\n",
            "Requirement already satisfied: protobuf<3.20,>=3.9.2 in /usr/local/lib/python3.7/dist-packages (from tensorflow>=2.8.0->segmentation-models-3D) (3.19.6)\n",
            "Requirement already satisfied: tensorflow-io-gcs-filesystem>=0.23.1 in /usr/local/lib/python3.7/dist-packages (from tensorflow>=2.8.0->segmentation-models-3D) (0.27.0)\n",
            "Requirement already satisfied: opt-einsum>=2.3.2 in /usr/local/lib/python3.7/dist-packages (from tensorflow>=2.8.0->segmentation-models-3D) (3.3.0)\n",
            "Requirement already satisfied: keras-preprocessing>=1.1.1 in /usr/local/lib/python3.7/dist-packages (from tensorflow>=2.8.0->segmentation-models-3D) (1.1.2)\n",
            "Requirement already satisfied: absl-py>=1.0.0 in /usr/local/lib/python3.7/dist-packages (from tensorflow>=2.8.0->segmentation-models-3D) (1.3.0)\n",
            "Requirement already satisfied: libclang>=13.0.0 in /usr/local/lib/python3.7/dist-packages (from tensorflow>=2.8.0->segmentation-models-3D) (14.0.6)\n",
            "Requirement already satisfied: wrapt>=1.11.0 in /usr/local/lib/python3.7/dist-packages (from tensorflow>=2.8.0->segmentation-models-3D) (1.14.1)\n",
            "Requirement already satisfied: google-pasta>=0.1.1 in /usr/local/lib/python3.7/dist-packages (from tensorflow>=2.8.0->segmentation-models-3D) (0.2.0)\n",
            "Requirement already satisfied: tensorflow-estimator<2.10.0,>=2.9.0rc0 in /usr/local/lib/python3.7/dist-packages (from tensorflow>=2.8.0->segmentation-models-3D) (2.9.0)\n",
            "Requirement already satisfied: wheel<1.0,>=0.23.0 in /usr/local/lib/python3.7/dist-packages (from astunparse>=1.6.0->tensorflow>=2.8.0->segmentation-models-3D) (0.38.4)\n",
            "Requirement already satisfied: cached-property in /usr/local/lib/python3.7/dist-packages (from h5py->keras-applications>=1.0.8->segmentation-models-3D) (1.5.2)\n",
            "Requirement already satisfied: tensorboard-plugin-wit>=1.6.0 in /usr/local/lib/python3.7/dist-packages (from tensorboard<2.10,>=2.9->tensorflow>=2.8.0->segmentation-models-3D) (1.8.1)\n",
            "Requirement already satisfied: markdown>=2.6.8 in /usr/local/lib/python3.7/dist-packages (from tensorboard<2.10,>=2.9->tensorflow>=2.8.0->segmentation-models-3D) (3.4.1)\n",
            "Requirement already satisfied: google-auth<3,>=1.6.3 in /usr/local/lib/python3.7/dist-packages (from tensorboard<2.10,>=2.9->tensorflow>=2.8.0->segmentation-models-3D) (2.14.1)\n",
            "Requirement already satisfied: requests<3,>=2.21.0 in /usr/local/lib/python3.7/dist-packages (from tensorboard<2.10,>=2.9->tensorflow>=2.8.0->segmentation-models-3D) (2.23.0)\n",
            "Requirement already satisfied: google-auth-oauthlib<0.5,>=0.4.1 in /usr/local/lib/python3.7/dist-packages (from tensorboard<2.10,>=2.9->tensorflow>=2.8.0->segmentation-models-3D) (0.4.6)\n",
            "Requirement already satisfied: werkzeug>=1.0.1 in /usr/local/lib/python3.7/dist-packages (from tensorboard<2.10,>=2.9->tensorflow>=2.8.0->segmentation-models-3D) (1.0.1)\n",
            "Requirement already satisfied: tensorboard-data-server<0.7.0,>=0.6.0 in /usr/local/lib/python3.7/dist-packages (from tensorboard<2.10,>=2.9->tensorflow>=2.8.0->segmentation-models-3D) (0.6.1)\n",
            "Requirement already satisfied: rsa<5,>=3.1.4 in /usr/local/lib/python3.7/dist-packages (from google-auth<3,>=1.6.3->tensorboard<2.10,>=2.9->tensorflow>=2.8.0->segmentation-models-3D) (4.9)\n",
            "Requirement already satisfied: cachetools<6.0,>=2.0.0 in /usr/local/lib/python3.7/dist-packages (from google-auth<3,>=1.6.3->tensorboard<2.10,>=2.9->tensorflow>=2.8.0->segmentation-models-3D) (5.2.0)\n",
            "Requirement already satisfied: pyasn1-modules>=0.2.1 in /usr/local/lib/python3.7/dist-packages (from google-auth<3,>=1.6.3->tensorboard<2.10,>=2.9->tensorflow>=2.8.0->segmentation-models-3D) (0.2.8)\n",
            "Requirement already satisfied: requests-oauthlib>=0.7.0 in /usr/local/lib/python3.7/dist-packages (from google-auth-oauthlib<0.5,>=0.4.1->tensorboard<2.10,>=2.9->tensorflow>=2.8.0->segmentation-models-3D) (1.3.1)\n",
            "Requirement already satisfied: importlib-metadata>=4.4 in /usr/local/lib/python3.7/dist-packages (from markdown>=2.6.8->tensorboard<2.10,>=2.9->tensorflow>=2.8.0->segmentation-models-3D) (4.13.0)\n",
            "Requirement already satisfied: zipp>=0.5 in /usr/local/lib/python3.7/dist-packages (from importlib-metadata>=4.4->markdown>=2.6.8->tensorboard<2.10,>=2.9->tensorflow>=2.8.0->segmentation-models-3D) (3.10.0)\n",
            "Requirement already satisfied: pyasn1<0.5.0,>=0.4.6 in /usr/local/lib/python3.7/dist-packages (from pyasn1-modules>=0.2.1->google-auth<3,>=1.6.3->tensorboard<2.10,>=2.9->tensorflow>=2.8.0->segmentation-models-3D) (0.4.8)\n",
            "Requirement already satisfied: idna<3,>=2.5 in /usr/local/lib/python3.7/dist-packages (from requests<3,>=2.21.0->tensorboard<2.10,>=2.9->tensorflow>=2.8.0->segmentation-models-3D) (2.10)\n",
            "Requirement already satisfied: chardet<4,>=3.0.2 in /usr/local/lib/python3.7/dist-packages (from requests<3,>=2.21.0->tensorboard<2.10,>=2.9->tensorflow>=2.8.0->segmentation-models-3D) (3.0.4)\n",
            "Requirement already satisfied: certifi>=2017.4.17 in /usr/local/lib/python3.7/dist-packages (from requests<3,>=2.21.0->tensorboard<2.10,>=2.9->tensorflow>=2.8.0->segmentation-models-3D) (2022.9.24)\n",
            "Requirement already satisfied: urllib3!=1.25.0,!=1.25.1,<1.26,>=1.21.1 in /usr/local/lib/python3.7/dist-packages (from requests<3,>=2.21.0->tensorboard<2.10,>=2.9->tensorflow>=2.8.0->segmentation-models-3D) (1.24.3)\n",
            "Requirement already satisfied: oauthlib>=3.0.0 in /usr/local/lib/python3.7/dist-packages (from requests-oauthlib>=0.7.0->google-auth-oauthlib<0.5,>=0.4.1->tensorboard<2.10,>=2.9->tensorflow>=2.8.0->segmentation-models-3D) (3.2.2)\n",
            "Requirement already satisfied: pyparsing!=3.0.5,>=2.0.2 in /usr/local/lib/python3.7/dist-packages (from packaging->tensorflow>=2.8.0->segmentation-models-3D) (3.0.9)\n"
          ]
        }
      ],
      "source": [
        "\n",
        "!pip install segmentation-models-3D"
      ]
    },
    {
      "cell_type": "code",
      "execution_count": 7,
      "metadata": {
        "colab": {
          "base_uri": "https://localhost:8080/"
        },
        "id": "zuwmrgyVGmZD",
        "outputId": "89df301d-1419-4950-e161-b4bfb7eb8ff5"
      },
      "outputs": [
        {
          "output_type": "stream",
          "name": "stdout",
          "text": [
            "Segmentation Models: using `tf.keras` framework.\n"
          ]
        }
      ],
      "source": [
        "import segmentation_models_3D as sm"
      ]
    },
    {
      "cell_type": "code",
      "execution_count": 8,
      "metadata": {
        "id": "sLkRPGLiGmbj"
      },
      "outputs": [],
      "source": [
        "from skimage import io\n",
        "from patchify import patchify, unpatchify\n",
        "import numpy as np\n",
        "from matplotlib import pyplot as plt\n",
        "from keras import backend as K\n",
        "from keras.utils import to_categorical\n",
        "from sklearn.model_selection import train_test_split"
      ]
    },
    {
      "cell_type": "code",
      "execution_count": 9,
      "metadata": {
        "id": "wMF8F0yXGmeH"
      },
      "outputs": [],
      "source": [
        "#Load input images and masks. \n",
        "#Here we load 256x256x256 pixel volume. We will break it into patches of 64x64x64 for training. \n",
        "image = io.imread('/content/drive/MyDrive/Colab Notebooks/data/composite-bright.tif')\n",
        "image = image.astype('float')\n",
        "img_patches = patchify(image, (64, 64, 64), step=64)  #Step=64 for 64 patches means no overlap\n",
        "\n",
        "\n",
        "mask = io.imread('/content/drive/MyDrive/Colab Notebooks/data/MASK_composite-bright_mask.tif')\n",
        "mask = mask.astype('float')\n",
        "mask_patches = patchify(mask, (64, 64, 64), step=64)  "
      ]
    },
    {
      "cell_type": "code",
      "execution_count": 10,
      "metadata": {
        "colab": {
          "base_uri": "https://localhost:8080/"
        },
        "id": "4IBXnwofkGQw",
        "outputId": "4e282551-f8a0-4b2a-cb9c-a2818a309d1e"
      },
      "outputs": [
        {
          "output_type": "stream",
          "name": "stdout",
          "text": [
            "(256, 256, 256)\n",
            "(4, 4, 4, 64, 64, 64)\n",
            "(4, 4, 4, 64, 64, 64)\n"
          ]
        }
      ],
      "source": [
        "print(image.shape)\n",
        "print(img_patches.shape)\n",
        "print(mask_patches.shape)"
      ]
    },
    {
      "cell_type": "code",
      "execution_count": 11,
      "metadata": {
        "colab": {
          "base_uri": "https://localhost:8080/"
        },
        "id": "CcINOcoNNzk3",
        "outputId": "0df47e10-ddca-45b2-ccdd-adbf8dc03a1b"
      },
      "outputs": [
        {
          "output_type": "stream",
          "name": "stdout",
          "text": [
            "(4, 4, 4, 64, 64, 64)\n"
          ]
        }
      ],
      "source": [
        "print(img_patches.shape)"
      ]
    },
    {
      "cell_type": "code",
      "source": [
        "plt.imshow(image[45])"
      ],
      "metadata": {
        "colab": {
          "base_uri": "https://localhost:8080/",
          "height": 286
        },
        "id": "WPmLfe1b9_JF",
        "outputId": "957688cf-9ee4-4588-ed92-81ddbe765564"
      },
      "execution_count": 12,
      "outputs": [
        {
          "output_type": "execute_result",
          "data": {
            "text/plain": [
              "<matplotlib.image.AxesImage at 0x7f6120aecc90>"
            ]
          },
          "metadata": {},
          "execution_count": 12
        },
        {
          "output_type": "display_data",
          "data": {
            "text/plain": [
              "<Figure size 432x288 with 1 Axes>"
            ],
            "image/png": "[encoded data removed]"
          },
          "metadata": {
            "needs_background": "light"
          }
        }
      ]
    },
    {
      "cell_type": "code",
      "source": [
        "plt.imshow(mask[45])"
      ],
      "metadata": {
        "colab": {
          "base_uri": "https://localhost:8080/",
          "height": 286
        },
        "id": "zaO5jA52-LIL",
        "outputId": "06a0df01-84c6-4ed7-c7cd-97cc573eb42b"
      },
      "execution_count": 13,
      "outputs": [
        {
          "output_type": "execute_result",
          "data": {
            "text/plain": [
              "<matplotlib.image.AxesImage at 0x7f611edded10>"
            ]
          },
          "metadata": {},
          "execution_count": 13
        },
        {
          "output_type": "display_data",
          "data": {
            "text/plain": [
              "<Figure size 432x288 with 1 Axes>"
            ],
            "image/png": "[encoded data removed]"
          },
          "metadata": {
            "needs_background": "light"
          }
        }
      ]
    },
    {
      "cell_type": "code",
      "execution_count": 14,
      "metadata": {
        "colab": {
          "base_uri": "https://localhost:8080/",
          "height": 285
        },
        "id": "IVnYyVZXNaaP",
        "outputId": "e312d799-6887-4d23-a9ad-e504e25e5289"
      },
      "outputs": [
        {
          "output_type": "execute_result",
          "data": {
            "text/plain": [
              "<matplotlib.image.AxesImage at 0x7f611ed4bd90>"
            ]
          },
          "metadata": {},
          "execution_count": 14
        },
        {
          "output_type": "display_data",
          "data": {
            "text/plain": [
              "<Figure size 432x288 with 1 Axes>"
            ],
            "image/png": "[encoded data removed]"
          },
          "metadata": {
            "needs_background": "light"
          }
        }
      ],
      "source": [
        "plt.imshow(img_patches[1,2,3,:,:,37])\n"
      ]
    },
    {
      "cell_type": "code",
      "execution_count": 15,
      "metadata": {
        "colab": {
          "base_uri": "https://localhost:8080/",
          "height": 285
        },
        "id": "y0LFuQLMwZKU",
        "outputId": "793fdff8-feab-41f2-b3ab-2c41709693b1"
      },
      "outputs": [
        {
          "output_type": "execute_result",
          "data": {
            "text/plain": [
              "<matplotlib.image.AxesImage at 0x7f611ecc6450>"
            ]
          },
          "metadata": {},
          "execution_count": 15
        },
        {
          "output_type": "display_data",
          "data": {
            "text/plain": [
              "<Figure size 432x288 with 1 Axes>"
            ],
            "image/png": "[encoded data removed]"
          },
          "metadata": {
            "needs_background": "light"
          }
        }
      ],
      "source": [
        "plt.imshow(mask_patches[1,2,3,:,:,37])"
      ]
    },
    {
      "cell_type": "code",
      "execution_count": 16,
      "metadata": {
        "colab": {
          "base_uri": "https://localhost:8080/"
        },
        "id": "ctPR2XPiNacx",
        "outputId": "fda3d6b2-5395-4b7e-ef58-c94357de93e4"
      },
      "outputs": [
        {
          "output_type": "stream",
          "name": "stdout",
          "text": [
            "(64, 64, 64, 64)\n",
            "(64, 64, 64, 64)\n"
          ]
        }
      ],
      "source": [
        "input_img = np.reshape(img_patches, (-1, img_patches.shape[3], img_patches.shape[4], img_patches.shape[5]))\n",
        "input_mask = np.reshape(mask_patches, (-1, mask_patches.shape[3], mask_patches.shape[4], mask_patches.shape[5]))\n",
        "\n",
        "print(input_img.shape)  # n_patches, x, y, z\n",
        "print(input_mask.shape)  # n_patches, x, y, z"
      ]
    },
    {
      "cell_type": "code",
      "execution_count": 39,
      "metadata": {
        "id": "4gOWbRsKNafI"
      },
      "outputs": [],
      "source": [
        "n_classes=2"
      ]
    },
    {
      "cell_type": "code",
      "execution_count": 40,
      "metadata": {
        "colab": {
          "base_uri": "https://localhost:8080/"
        },
        "id": "wuXIf_pTNaiP",
        "outputId": "902826ba-3f14-42da-e3f3-475af88d8b08"
      },
      "outputs": [
        {
          "output_type": "stream",
          "name": "stdout",
          "text": [
            "(64, 64, 64, 64, 3)\n",
            "(64, 64, 64, 64, 1)\n",
            "hi\n",
            "(64, 64, 64, 64, 2)\n",
            "(57, 64, 64, 64, 3)\n",
            "(7, 64, 64, 64, 3)\n",
            "2\n",
            "(57, 64, 64, 64, 2)\n",
            "(7, 64, 64, 64, 2)\n"
          ]
        }
      ],
      "source": [
        "from tensorflow.python import train\n",
        "#Convert grey image to 3 channels by copying channel 3 times.\n",
        "#We do this as our unet model expects 3 channel input. \n",
        "\n",
        "train_img = np.stack((input_img,)*3, axis=-1)\n",
        "train_mask = np.expand_dims((input_mask/128), axis=4)\n",
        "\n",
        "print(train_img.shape)\n",
        "print(train_mask.shape)\n",
        "#print(train_mask)\n",
        "print(\"hi\")\n",
        "\n",
        "\n",
        "train_mask_cat = to_categorical(train_mask, num_classes=n_classes)\n",
        "\n",
        "#train_mask_cat = tf.keras.utils.to_categorical(train_mask, num_classes=None, dtype='float32')\n",
        "\n",
        "#print(train_mask_cat.shape)\n",
        "\n",
        "\n",
        "X_train, X_test, y_train, y_test = train_test_split(train_img, train_mask_cat , test_size = 0.10, random_state = 0)\n",
        "\n",
        "print(train_mask_cat.shape)\n",
        "print(X_train.shape)\n",
        "print(X_test.shape)\n",
        "print(\"2\")\n",
        "\n",
        "print(y_train.shape)\n",
        "print(y_test.shape)"
      ]
    },
    {
      "cell_type": "markdown",
      "metadata": {
        "id": "c_p7lqFVvaeE"
      },
      "source": [
        "# New section"
      ]
    },
    {
      "cell_type": "code",
      "execution_count": 41,
      "metadata": {
        "id": "4vPniqpfOW3Z"
      },
      "outputs": [],
      "source": [
        "# Loss Function and coefficients to be used during training:\n",
        "def dice_coefficient(y_true, y_pred):\n",
        "    smoothing_factor = 1\n",
        "    flat_y_true = K.flatten(y_true)\n",
        "    flat_y_pred = K.flatten(y_pred)\n",
        "    return (2. * K.sum(flat_y_true * flat_y_pred) + smoothing_factor) / (K.sum(flat_y_true) + K.sum(flat_y_pred) + smoothing_factor)\n",
        "\n",
        "def dice_coefficient_loss(y_true, y_pred):\n",
        "    return 1 - dice_coefficient(y_true, y_pred)"
      ]
    },
    {
      "cell_type": "code",
      "execution_count": 51,
      "metadata": {
        "id": "bCE2wcEGOW6M"
      },
      "outputs": [],
      "source": [
        "#Define parameters for our model.\n",
        "\n",
        "encoder_weights = 'imagenet'\n",
        "BACKBONE = 'vgg16'  #Try vgg16, efficientnetb7, inceptionv3, resnet50\n",
        "activation = 'sigmoid'\n",
        "patch_size = 64\n",
        "n_classes = 2\n",
        "channels= 3\n",
        "\n",
        "\n",
        "\n",
        "LR = 0.0001\n",
        "optim = keras.optimizers.Adam(LR)\n",
        "\n",
        "\n",
        "# Segmentation models losses can be combined together by '+' and scaled by integer or float factor\n",
        "# set class weights for dice_loss (car: 1.; pedestrian: 2.; background: 0.5;)\n",
        "dice_loss = sm.losses.DiceLoss(class_weights=np.array([0.5, 0.5, 0, 0])) \n",
        "focal_loss = sm.losses.CategoricalFocalLoss()\n",
        "#total_loss = dice_loss + (1 * focal_loss)\n",
        "\n",
        "# actulally total_loss can be imported directly from library, above example just show you how to manipulate with losses\n",
        "total_loss = sm.losses.binary_focal_dice_loss # or sm.losses.categorical_focal_dice_loss \n",
        "\n",
        "metrics = [sm.metrics.IOUScore(threshold=0.5), sm.metrics.FScore(threshold=0.5)]\n",
        "#print(metrics)"
      ]
    },
    {
      "cell_type": "code",
      "execution_count": 52,
      "metadata": {
        "id": "J5qzNHN1OW97"
      },
      "outputs": [],
      "source": [
        "preprocess_input = sm.get_preprocessing(BACKBONE)"
      ]
    },
    {
      "cell_type": "code",
      "execution_count": 53,
      "metadata": {
        "colab": {
          "base_uri": "https://localhost:8080/"
        },
        "id": "OdVtPQJKOW_U",
        "outputId": "c23cc2ce-caa3-46b5-a356-edfbed871edf"
      },
      "outputs": [
        {
          "output_type": "stream",
          "name": "stdout",
          "text": [
            "(57, 64, 64, 64, 3)\n",
            "(7, 64, 64, 64, 3)\n"
          ]
        }
      ],
      "source": [
        "#Preprocess input data - otherwise you end up with garbage resutls \n",
        "# and potentially model that does not converge.\n",
        "X_train_prep = preprocess_input(X_train)\n",
        "X_test_prep = preprocess_input(X_test)\n",
        "\n",
        "print(X_train_prep.shape)\n",
        "print(X_test_prep.shape)"
      ]
    },
    {
      "cell_type": "code",
      "execution_count": 54,
      "metadata": {
        "colab": {
          "base_uri": "https://localhost:8080/"
        },
        "id": "1_QhoRA5OXBy",
        "outputId": "7045e26e-df03-47d5-fb93-b9781a1b7565"
      },
      "outputs": [
        {
          "output_type": "stream",
          "name": "stdout",
          "text": [
            "Model: \"model_3\"\n",
            "__________________________________________________________________________________________________\n",
            " Layer (type)                   Output Shape         Param #     Connected to                     \n",
            "==================================================================================================\n",
            " input_4 (InputLayer)           [(None, 64, 64, 64,  0           []                               \n",
            "                                 3)]                                                              \n",
            "                                                                                                  \n",
            " block1_conv1 (Conv3D)          (None, 64, 64, 64,   5248        ['input_4[0][0]']                \n",
            "                                64)                                                               \n",
            "                                                                                                  \n",
            " block1_conv2 (Conv3D)          (None, 64, 64, 64,   110656      ['block1_conv1[0][0]']           \n",
            "                                64)                                                               \n",
            "                                                                                                  \n",
            " block1_pool (MaxPooling3D)     (None, 32, 32, 32,   0           ['block1_conv2[0][0]']           \n",
            "                                64)                                                               \n",
            "                                                                                                  \n",
            " block2_conv1 (Conv3D)          (None, 32, 32, 32,   221312      ['block1_pool[0][0]']            \n",
            "                                128)                                                              \n",
            "                                                                                                  \n",
            " block2_conv2 (Conv3D)          (None, 32, 32, 32,   442496      ['block2_conv1[0][0]']           \n",
            "                                128)                                                              \n",
            "                                                                                                  \n",
            " block2_pool (MaxPooling3D)     (None, 16, 16, 16,   0           ['block2_conv2[0][0]']           \n",
            "                                128)                                                              \n",
            "                                                                                                  \n",
            " block3_conv1 (Conv3D)          (None, 16, 16, 16,   884992      ['block2_pool[0][0]']            \n",
            "                                256)                                                              \n",
            "                                                                                                  \n",
            " block3_conv2 (Conv3D)          (None, 16, 16, 16,   1769728     ['block3_conv1[0][0]']           \n",
            "                                256)                                                              \n",
            "                                                                                                  \n",
            " block3_conv3 (Conv3D)          (None, 16, 16, 16,   1769728     ['block3_conv2[0][0]']           \n",
            "                                256)                                                              \n",
            "                                                                                                  \n",
            " block3_pool (MaxPooling3D)     (None, 8, 8, 8, 256  0           ['block3_conv3[0][0]']           \n",
            "                                )                                                                 \n",
            "                                                                                                  \n",
            " block4_conv1 (Conv3D)          (None, 8, 8, 8, 512  3539456     ['block3_pool[0][0]']            \n",
            "                                )                                                                 \n",
            "                                                                                                  \n",
            " block4_conv2 (Conv3D)          (None, 8, 8, 8, 512  7078400     ['block4_conv1[0][0]']           \n",
            "                                )                                                                 \n",
            "                                                                                                  \n",
            " block4_conv3 (Conv3D)          (None, 8, 8, 8, 512  7078400     ['block4_conv2[0][0]']           \n",
            "                                )                                                                 \n",
            "                                                                                                  \n",
            " block4_pool (MaxPooling3D)     (None, 4, 4, 4, 512  0           ['block4_conv3[0][0]']           \n",
            "                                )                                                                 \n",
            "                                                                                                  \n",
            " block5_conv1 (Conv3D)          (None, 4, 4, 4, 512  7078400     ['block4_pool[0][0]']            \n",
            "                                )                                                                 \n",
            "                                                                                                  \n",
            " block5_conv2 (Conv3D)          (None, 4, 4, 4, 512  7078400     ['block5_conv1[0][0]']           \n",
            "                                )                                                                 \n",
            "                                                                                                  \n",
            " block5_conv3 (Conv3D)          (None, 4, 4, 4, 512  7078400     ['block5_conv2[0][0]']           \n",
            "                                )                                                                 \n",
            "                                                                                                  \n",
            " block5_pool (MaxPooling3D)     (None, 2, 2, 2, 512  0           ['block5_conv3[0][0]']           \n",
            "                                )                                                                 \n",
            "                                                                                                  \n",
            " center_block1_conv (Conv3D)    (None, 2, 2, 2, 512  7077888     ['block5_pool[0][0]']            \n",
            "                                )                                                                 \n",
            "                                                                                                  \n",
            " center_block1_bn (BatchNormali  (None, 2, 2, 2, 512  2048       ['center_block1_conv[0][0]']     \n",
            " zation)                        )                                                                 \n",
            "                                                                                                  \n",
            " center_block1_relu (Activation  (None, 2, 2, 2, 512  0          ['center_block1_bn[0][0]']       \n",
            " )                              )                                                                 \n",
            "                                                                                                  \n",
            " center_block2_conv (Conv3D)    (None, 2, 2, 2, 512  7077888     ['center_block1_relu[0][0]']     \n",
            "                                )                                                                 \n",
            "                                                                                                  \n",
            " center_block2_bn (BatchNormali  (None, 2, 2, 2, 512  2048       ['center_block2_conv[0][0]']     \n",
            " zation)                        )                                                                 \n",
            "                                                                                                  \n",
            " center_block2_relu (Activation  (None, 2, 2, 2, 512  0          ['center_block2_bn[0][0]']       \n",
            " )                              )                                                                 \n",
            "                                                                                                  \n",
            " decoder_stage0_upsampling (UpS  (None, 4, 4, 4, 512  0          ['center_block2_relu[0][0]']     \n",
            " ampling3D)                     )                                                                 \n",
            "                                                                                                  \n",
            " decoder_stage0_concat (Concate  (None, 4, 4, 4, 102  0          ['decoder_stage0_upsampling[0][0]\n",
            " nate)                          4)                               ',                               \n",
            "                                                                  'block5_conv3[0][0]']           \n",
            "                                                                                                  \n",
            " decoder_stage0a_conv (Conv3D)  (None, 4, 4, 4, 256  7077888     ['decoder_stage0_concat[0][0]']  \n",
            "                                )                                                                 \n",
            "                                                                                                  \n",
            " decoder_stage0a_bn (BatchNorma  (None, 4, 4, 4, 256  1024       ['decoder_stage0a_conv[0][0]']   \n",
            " lization)                      )                                                                 \n",
            "                                                                                                  \n",
            " decoder_stage0a_relu (Activati  (None, 4, 4, 4, 256  0          ['decoder_stage0a_bn[0][0]']     \n",
            " on)                            )                                                                 \n",
            "                                                                                                  \n",
            " decoder_stage0b_conv (Conv3D)  (None, 4, 4, 4, 256  1769472     ['decoder_stage0a_relu[0][0]']   \n",
            "                                )                                                                 \n",
            "                                                                                                  \n",
            " decoder_stage0b_bn (BatchNorma  (None, 4, 4, 4, 256  1024       ['decoder_stage0b_conv[0][0]']   \n",
            " lization)                      )                                                                 \n",
            "                                                                                                  \n",
            " decoder_stage0b_relu (Activati  (None, 4, 4, 4, 256  0          ['decoder_stage0b_bn[0][0]']     \n",
            " on)                            )                                                                 \n",
            "                                                                                                  \n",
            " decoder_stage1_upsampling (UpS  (None, 8, 8, 8, 256  0          ['decoder_stage0b_relu[0][0]']   \n",
            " ampling3D)                     )                                                                 \n",
            "                                                                                                  \n",
            " decoder_stage1_concat (Concate  (None, 8, 8, 8, 768  0          ['decoder_stage1_upsampling[0][0]\n",
            " nate)                          )                                ',                               \n",
            "                                                                  'block4_conv3[0][0]']           \n",
            "                                                                                                  \n",
            " decoder_stage1a_conv (Conv3D)  (None, 8, 8, 8, 128  2654208     ['decoder_stage1_concat[0][0]']  \n",
            "                                )                                                                 \n",
            "                                                                                                  \n",
            " decoder_stage1a_bn (BatchNorma  (None, 8, 8, 8, 128  512        ['decoder_stage1a_conv[0][0]']   \n",
            " lization)                      )                                                                 \n",
            "                                                                                                  \n",
            " decoder_stage1a_relu (Activati  (None, 8, 8, 8, 128  0          ['decoder_stage1a_bn[0][0]']     \n",
            " on)                            )                                                                 \n",
            "                                                                                                  \n",
            " decoder_stage1b_conv (Conv3D)  (None, 8, 8, 8, 128  442368      ['decoder_stage1a_relu[0][0]']   \n",
            "                                )                                                                 \n",
            "                                                                                                  \n",
            " decoder_stage1b_bn (BatchNorma  (None, 8, 8, 8, 128  512        ['decoder_stage1b_conv[0][0]']   \n",
            " lization)                      )                                                                 \n",
            "                                                                                                  \n",
            " decoder_stage1b_relu (Activati  (None, 8, 8, 8, 128  0          ['decoder_stage1b_bn[0][0]']     \n",
            " on)                            )                                                                 \n",
            "                                                                                                  \n",
            " decoder_stage2_upsampling (UpS  (None, 16, 16, 16,   0          ['decoder_stage1b_relu[0][0]']   \n",
            " ampling3D)                     128)                                                              \n",
            "                                                                                                  \n",
            " decoder_stage2_concat (Concate  (None, 16, 16, 16,   0          ['decoder_stage2_upsampling[0][0]\n",
            " nate)                          384)                             ',                               \n",
            "                                                                  'block3_conv3[0][0]']           \n",
            "                                                                                                  \n",
            " decoder_stage2a_conv (Conv3D)  (None, 16, 16, 16,   663552      ['decoder_stage2_concat[0][0]']  \n",
            "                                64)                                                               \n",
            "                                                                                                  \n",
            " decoder_stage2a_bn (BatchNorma  (None, 16, 16, 16,   256        ['decoder_stage2a_conv[0][0]']   \n",
            " lization)                      64)                                                               \n",
            "                                                                                                  \n",
            " decoder_stage2a_relu (Activati  (None, 16, 16, 16,   0          ['decoder_stage2a_bn[0][0]']     \n",
            " on)                            64)                                                               \n",
            "                                                                                                  \n",
            " decoder_stage2b_conv (Conv3D)  (None, 16, 16, 16,   110592      ['decoder_stage2a_relu[0][0]']   \n",
            "                                64)                                                               \n",
            "                                                                                                  \n",
            " decoder_stage2b_bn (BatchNorma  (None, 16, 16, 16,   256        ['decoder_stage2b_conv[0][0]']   \n",
            " lization)                      64)                                                               \n",
            "                                                                                                  \n",
            " decoder_stage2b_relu (Activati  (None, 16, 16, 16,   0          ['decoder_stage2b_bn[0][0]']     \n",
            " on)                            64)                                                               \n",
            "                                                                                                  \n",
            " decoder_stage3_upsampling (UpS  (None, 32, 32, 32,   0          ['decoder_stage2b_relu[0][0]']   \n",
            " ampling3D)                     64)                                                               \n",
            "                                                                                                  \n",
            " decoder_stage3_concat (Concate  (None, 32, 32, 32,   0          ['decoder_stage3_upsampling[0][0]\n",
            " nate)                          192)                             ',                               \n",
            "                                                                  'block2_conv2[0][0]']           \n",
            "                                                                                                  \n",
            " decoder_stage3a_conv (Conv3D)  (None, 32, 32, 32,   165888      ['decoder_stage3_concat[0][0]']  \n",
            "                                32)                                                               \n",
            "                                                                                                  \n",
            " decoder_stage3a_bn (BatchNorma  (None, 32, 32, 32,   128        ['decoder_stage3a_conv[0][0]']   \n",
            " lization)                      32)                                                               \n",
            "                                                                                                  \n",
            " decoder_stage3a_relu (Activati  (None, 32, 32, 32,   0          ['decoder_stage3a_bn[0][0]']     \n",
            " on)                            32)                                                               \n",
            "                                                                                                  \n",
            " decoder_stage3b_conv (Conv3D)  (None, 32, 32, 32,   27648       ['decoder_stage3a_relu[0][0]']   \n",
            "                                32)                                                               \n",
            "                                                                                                  \n",
            " decoder_stage3b_bn (BatchNorma  (None, 32, 32, 32,   128        ['decoder_stage3b_conv[0][0]']   \n",
            " lization)                      32)                                                               \n",
            "                                                                                                  \n",
            " decoder_stage3b_relu (Activati  (None, 32, 32, 32,   0          ['decoder_stage3b_bn[0][0]']     \n",
            " on)                            32)                                                               \n",
            "                                                                                                  \n",
            " decoder_stage4_upsampling (UpS  (None, 64, 64, 64,   0          ['decoder_stage3b_relu[0][0]']   \n",
            " ampling3D)                     32)                                                               \n",
            "                                                                                                  \n",
            " decoder_stage4a_conv (Conv3D)  (None, 64, 64, 64,   13824       ['decoder_stage4_upsampling[0][0]\n",
            "                                16)                              ']                               \n",
            "                                                                                                  \n",
            " decoder_stage4a_bn (BatchNorma  (None, 64, 64, 64,   64         ['decoder_stage4a_conv[0][0]']   \n",
            " lization)                      16)                                                               \n",
            "                                                                                                  \n",
            " decoder_stage4a_relu (Activati  (None, 64, 64, 64,   0          ['decoder_stage4a_bn[0][0]']     \n",
            " on)                            16)                                                               \n",
            "                                                                                                  \n",
            " decoder_stage4b_conv (Conv3D)  (None, 64, 64, 64,   6912        ['decoder_stage4a_relu[0][0]']   \n",
            "                                16)                                                               \n",
            "                                                                                                  \n",
            " decoder_stage4b_bn (BatchNorma  (None, 64, 64, 64,   64         ['decoder_stage4b_conv[0][0]']   \n",
            " lization)                      16)                                                               \n",
            "                                                                                                  \n",
            " decoder_stage4b_relu (Activati  (None, 64, 64, 64,   0          ['decoder_stage4b_bn[0][0]']     \n",
            " on)                            16)                                                               \n",
            "                                                                                                  \n",
            " final_conv (Conv3D)            (None, 64, 64, 64,   866         ['decoder_stage4b_relu[0][0]']   \n",
            "                                2)                                                                \n",
            "                                                                                                  \n",
            " sigmoid (Activation)           (None, 64, 64, 64,   0           ['final_conv[0][0]']             \n",
            "                                2)                                                                \n",
            "                                                                                                  \n",
            "==================================================================================================\n",
            "Total params: 71,232,674\n",
            "Trainable params: 71,228,642\n",
            "Non-trainable params: 4,032\n",
            "__________________________________________________________________________________________________\n",
            "None\n"
          ]
        }
      ],
      "source": [
        "#Define the model. Here we use Unet but we can also use other model architectures from the library.\n",
        "model = sm.Unet(BACKBONE, classes= n_classes, \n",
        "                input_shape=(patch_size, patch_size, patch_size, channels), \n",
        "                encoder_weights=encoder_weights,\n",
        "                activation=activation)\n",
        "\n",
        "#model.compile(optimizer = optim, loss= total_loss , metrics=metrics)\n",
        "\n",
        "model.compile(optimizer=optim, loss=keras.losses.categorical_crossentropy, metrics=metrics)\n",
        "\n",
        "print(model.summary())\n"
      ]
    },
    {
      "cell_type": "code",
      "execution_count": 55,
      "metadata": {
        "colab": {
          "base_uri": "https://localhost:8080/"
        },
        "id": "DvlDVfLPOnn7",
        "outputId": "d65cc982-ee92-456e-a845-2ed56f1174d8"
      },
      "outputs": [
        {
          "output_type": "stream",
          "name": "stdout",
          "text": [
            "Epoch 1/30\n",
            "8/8 [==============================] - 17s 2s/step - loss: 0.6827 - iou_score: 0.4757 - f1-score: 0.5047 - val_loss: 2.2770 - val_iou_score: 0.1933 - val_f1-score: 0.2900\n",
            "Epoch 2/30\n",
            "8/8 [==============================] - 12s 1s/step - loss: 0.6184 - iou_score: 0.5139 - f1-score: 0.5446 - val_loss: 1.1139 - val_iou_score: 0.4209 - val_f1-score: 0.4749\n",
            "Epoch 3/30\n",
            "8/8 [==============================] - 12s 2s/step - loss: 0.5885 - iou_score: 0.5773 - f1-score: 0.6413 - val_loss: 0.8376 - val_iou_score: 0.4749 - val_f1-score: 0.5082\n",
            "Epoch 4/30\n",
            "8/8 [==============================] - 12s 2s/step - loss: 0.5686 - iou_score: 0.6256 - f1-score: 0.7037 - val_loss: 0.6555 - val_iou_score: 0.5069 - val_f1-score: 0.5437\n",
            "Epoch 5/30\n",
            "8/8 [==============================] - 12s 2s/step - loss: 0.5536 - iou_score: 0.6658 - f1-score: 0.7505 - val_loss: 0.6392 - val_iou_score: 0.5108 - val_f1-score: 0.5475\n",
            "Epoch 6/30\n",
            "8/8 [==============================] - 12s 2s/step - loss: 0.5410 - iou_score: 0.6830 - f1-score: 0.7658 - val_loss: 0.7173 - val_iou_score: 0.4986 - val_f1-score: 0.5232\n",
            "Epoch 7/30\n",
            "8/8 [==============================] - 13s 2s/step - loss: 0.5308 - iou_score: 0.7114 - f1-score: 0.7946 - val_loss: 0.8189 - val_iou_score: 0.5002 - val_f1-score: 0.5229\n",
            "Epoch 8/30\n",
            "8/8 [==============================] - 13s 2s/step - loss: 0.5218 - iou_score: 0.7100 - f1-score: 0.7834 - val_loss: 0.7620 - val_iou_score: 0.5028 - val_f1-score: 0.5249\n",
            "Epoch 9/30\n",
            "8/8 [==============================] - 13s 2s/step - loss: 0.5139 - iou_score: 0.7648 - f1-score: 0.8464 - val_loss: 0.7312 - val_iou_score: 0.5039 - val_f1-score: 0.5262\n",
            "Epoch 10/30\n",
            "8/8 [==============================] - 13s 2s/step - loss: 0.5072 - iou_score: 0.7197 - f1-score: 0.7916 - val_loss: 0.7452 - val_iou_score: 0.5012 - val_f1-score: 0.5252\n",
            "Epoch 11/30\n",
            "8/8 [==============================] - 13s 2s/step - loss: 0.4992 - iou_score: 0.7407 - f1-score: 0.8109 - val_loss: 0.6888 - val_iou_score: 0.5000 - val_f1-score: 0.5269\n",
            "Epoch 12/30\n",
            "8/8 [==============================] - 13s 2s/step - loss: 0.4922 - iou_score: 0.7759 - f1-score: 0.8560 - val_loss: 0.6486 - val_iou_score: 0.5099 - val_f1-score: 0.5353\n",
            "Epoch 13/30\n",
            "8/8 [==============================] - 13s 2s/step - loss: 0.4857 - iou_score: 0.7499 - f1-score: 0.8178 - val_loss: 0.5692 - val_iou_score: 0.5398 - val_f1-score: 0.5816\n",
            "Epoch 14/30\n",
            "8/8 [==============================] - 13s 2s/step - loss: 0.4787 - iou_score: 0.7794 - f1-score: 0.8568 - val_loss: 0.5321 - val_iou_score: 0.6912 - val_f1-score: 0.7799\n",
            "Epoch 15/30\n",
            "8/8 [==============================] - 13s 2s/step - loss: 0.4717 - iou_score: 0.7579 - f1-score: 0.8247 - val_loss: 0.5169 - val_iou_score: 0.7392 - val_f1-score: 0.8260\n",
            "Epoch 16/30\n",
            "8/8 [==============================] - 13s 2s/step - loss: 0.4636 - iou_score: 0.8068 - f1-score: 0.8807 - val_loss: 0.4872 - val_iou_score: 0.8058 - val_f1-score: 0.8809\n",
            "Epoch 17/30\n",
            "8/8 [==============================] - 13s 2s/step - loss: 0.4568 - iou_score: 0.7965 - f1-score: 0.8721 - val_loss: 0.4700 - val_iou_score: 0.8289 - val_f1-score: 0.8980\n",
            "Epoch 18/30\n",
            "8/8 [==============================] - 13s 2s/step - loss: 0.4496 - iou_score: 0.7733 - f1-score: 0.8363 - val_loss: 0.4470 - val_iou_score: 0.8283 - val_f1-score: 0.8975\n",
            "Epoch 19/30\n",
            "8/8 [==============================] - 13s 2s/step - loss: 0.4390 - iou_score: 0.8014 - f1-score: 0.8747 - val_loss: 0.4446 - val_iou_score: 0.8449 - val_f1-score: 0.9092\n",
            "Epoch 20/30\n",
            "8/8 [==============================] - 13s 2s/step - loss: 0.4274 - iou_score: 0.8301 - f1-score: 0.8978 - val_loss: 0.4249 - val_iou_score: 0.8356 - val_f1-score: 0.9026\n",
            "Epoch 21/30\n",
            "8/8 [==============================] - 13s 2s/step - loss: 0.4171 - iou_score: 0.8318 - f1-score: 0.8984 - val_loss: 0.4148 - val_iou_score: 0.8315 - val_f1-score: 0.8997\n",
            "Epoch 22/30\n",
            "8/8 [==============================] - 13s 2s/step - loss: 0.4015 - iou_score: 0.8270 - f1-score: 0.8953 - val_loss: 0.4182 - val_iou_score: 0.7751 - val_f1-score: 0.8565\n",
            "Epoch 23/30\n",
            "8/8 [==============================] - 13s 2s/step - loss: 0.3810 - iou_score: 0.8443 - f1-score: 0.9077 - val_loss: 0.3743 - val_iou_score: 0.8441 - val_f1-score: 0.9084\n",
            "Epoch 24/30\n",
            "8/8 [==============================] - 13s 2s/step - loss: 0.3641 - iou_score: 0.8429 - f1-score: 0.9064 - val_loss: 0.3561 - val_iou_score: 0.8508 - val_f1-score: 0.9131\n",
            "Epoch 25/30\n",
            "8/8 [==============================] - 13s 2s/step - loss: 0.3410 - iou_score: 0.8482 - f1-score: 0.9104 - val_loss: 0.3181 - val_iou_score: 0.8745 - val_f1-score: 0.9288\n",
            "Epoch 26/30\n",
            "8/8 [==============================] - 13s 2s/step - loss: 0.3160 - iou_score: 0.8662 - f1-score: 0.9225 - val_loss: 0.3145 - val_iou_score: 0.8304 - val_f1-score: 0.8989\n",
            "Epoch 27/30\n",
            "8/8 [==============================] - 13s 2s/step - loss: 0.2931 - iou_score: 0.8573 - f1-score: 0.9156 - val_loss: 0.2828 - val_iou_score: 0.8625 - val_f1-score: 0.9210\n",
            "Epoch 28/30\n",
            "8/8 [==============================] - 13s 2s/step - loss: 0.2705 - iou_score: 0.8711 - f1-score: 0.9249 - val_loss: 0.2897 - val_iou_score: 0.8808 - val_f1-score: 0.9329\n",
            "Epoch 29/30\n",
            "8/8 [==============================] - 13s 2s/step - loss: 0.2420 - iou_score: 0.8680 - f1-score: 0.9209 - val_loss: 0.2413 - val_iou_score: 0.9047 - val_f1-score: 0.9478\n",
            "Epoch 30/30\n",
            "8/8 [==============================] - 13s 2s/step - loss: 0.2166 - iou_score: 0.8782 - f1-score: 0.9282 - val_loss: 0.2225 - val_iou_score: 0.8851 - val_f1-score: 0.9357\n"
          ]
        }
      ],
      "source": [
        "#Fit the model\n",
        "history=model.fit(X_train_prep, \n",
        "          y_train,\n",
        "          batch_size=8, \n",
        "          epochs=30,\n",
        "          verbose=1,\n",
        "          validation_data=(X_test_prep, y_test))"
      ]
    },
    {
      "cell_type": "code",
      "execution_count": 56,
      "metadata": {
        "id": "PRw1EiG-OnqZ"
      },
      "outputs": [],
      "source": [
        "#Save model for future use\n",
        "model.save('/content/drive/MyDrive/Colab Notebooks/data/composite5_model_outputs.h5')"
      ]
    },
    {
      "cell_type": "code",
      "execution_count": 57,
      "metadata": {
        "id": "696yT5BTOnuZ",
        "colab": {
          "base_uri": "https://localhost:8080/",
          "height": 573
        },
        "outputId": "4a3c57f2-82b5-400c-ca34-1d00363d4a00"
      },
      "outputs": [
        {
          "output_type": "display_data",
          "data": {
            "text/plain": [
              "<Figure size 432x288 with 1 Axes>"
            ],
            "image/png": "[encoded data removed]"
          },
          "metadata": {
            "needs_background": "light"
          }
        },
        {
          "output_type": "display_data",
          "data": {
            "text/plain": [
              "<Figure size 432x288 with 1 Axes>"
            ],
            "image/png": "[encoded data removed]"
          },
          "metadata": {
            "needs_background": "light"
          }
        }
      ],
      "source": [
        "###\n",
        "#plot the training and validation IoU and loss at each epoch\n",
        "loss = history.history['loss']\n",
        "val_loss = history.history['val_loss']\n",
        "epochs = range(1, len(loss) + 1)\n",
        "plt.plot(epochs, loss, 'y', label='Training loss')\n",
        "plt.plot(epochs, val_loss, 'r', label='Validation loss')\n",
        "plt.title('Training and validation loss')\n",
        "plt.xlabel('Epochs')\n",
        "plt.ylabel('Loss')\n",
        "plt.legend()\n",
        "plt.show()\n",
        "\n",
        "# loss=keras.losses.categorical_crossentropy\n",
        "\n",
        "\n",
        "accuracy = history.history['iou_score']\n",
        "val_accuracy = history.history['val_iou_score']\n",
        "\n",
        "#acc = history.history['binary_accuracy']\n",
        "#val_acc = history.history['val_binary_accuracy']\n",
        "\n",
        "plt.plot(epochs, accuracy, 'y', label='Training IOU')\n",
        "plt.plot(epochs, val_accuracy, 'r', label='Validation IOU')\n",
        "plt.title('Training and validation IOU')\n",
        "plt.xlabel('Epochs')\n",
        "plt.ylabel('IOU')\n",
        "plt.legend()\n",
        "plt.show()"
      ]
    },
    {
      "cell_type": "code",
      "execution_count": 58,
      "metadata": {
        "id": "7NVaffiNOwIL"
      },
      "outputs": [],
      "source": [
        "#Load the pretrained model for testing and predictions. \n",
        "from keras.models import load_model\n",
        "my_model = load_model('/content/drive/MyDrive/Colab Notebooks/data/composite5_model_outputs.h5', compile=False)\n",
        "#If you load a different model do not forget to preprocess accordingly. "
      ]
    },
    {
      "cell_type": "code",
      "execution_count": 59,
      "metadata": {
        "id": "ytG5otOVOwKq",
        "colab": {
          "base_uri": "https://localhost:8080/"
        },
        "outputId": "ff46e7a4-c3ca-408e-eac8-4b1ea9a547d5"
      },
      "outputs": [
        {
          "output_type": "stream",
          "name": "stdout",
          "text": [
            "1/1 [==============================] - 1s 537ms/step\n"
          ]
        }
      ],
      "source": [
        "#Predict on the test data\n",
        "y_pred=my_model.predict(X_test)\n",
        "y_pred_argmax=np.argmax(y_pred, axis=4)\n",
        "y_test_argmax = np.argmax(y_test, axis=4)"
      ]
    },
    {
      "cell_type": "code",
      "execution_count": 61,
      "metadata": {
        "id": "hzJWIvSwOwM9",
        "colab": {
          "base_uri": "https://localhost:8080/"
        },
        "outputId": "e5b32ade-42f5-49c4-a16e-bc819adbbcdd"
      },
      "outputs": [
        {
          "output_type": "stream",
          "name": "stdout",
          "text": [
            "(7, 64, 64, 64)\n",
            "(7, 64, 64, 64)\n",
            "[0 1]\n",
            "Mean IoU = 0.30080834\n"
          ]
        }
      ],
      "source": [
        "print(y_pred_argmax.shape)\n",
        "print(y_test_argmax.shape)\n",
        "print(np.unique(y_pred_argmax))\n",
        "#Using built in keras function for IoU\n",
        "#Only works on TF > 2.0\n",
        "from keras.metrics import MeanIoU\n",
        "from keras.metrics import MeanIoU\n",
        "n_classes = 4\n",
        "IOU_keras = MeanIoU(num_classes=n_classes)  \n",
        "IOU_keras.update_state(y_test_argmax, y_pred_argmax)\n",
        "print(\"Mean IoU =\", IOU_keras.result().numpy())"
      ]
    },
    {
      "cell_type": "code",
      "execution_count": 62,
      "metadata": {
        "id": "759UdgiSOwPh",
        "colab": {
          "base_uri": "https://localhost:8080/"
        },
        "outputId": "1cdd9613-72cf-48a4-ee27-0ea88ec21b12"
      },
      "outputs": [
        {
          "output_type": "stream",
          "name": "stdout",
          "text": [
            "1/1 [==============================] - 0s 28ms/step\n",
            "(64, 64, 64)\n"
          ]
        }
      ],
      "source": [
        "#Test some random images\n",
        "import random\n",
        "test_img_number = random.randint(0, len(X_test))\n",
        "test_img = X_test[test_img_number]\n",
        "ground_truth=y_test[test_img_number]\n",
        "\n",
        "test_img_input=np.expand_dims(test_img, 0)\n",
        "test_img_input1 = preprocess_input(test_img_input)\n",
        "\n",
        "test_pred1 = my_model.predict(test_img_input1)\n",
        "test_prediction1 = np.argmax(test_pred1, axis=4)[0,:,:,:]\n",
        "print(test_prediction1.shape)"
      ]
    },
    {
      "cell_type": "code",
      "execution_count": 63,
      "metadata": {
        "id": "hCtVSgJsOwRf",
        "colab": {
          "base_uri": "https://localhost:8080/"
        },
        "outputId": "22edf2ac-f87d-479f-b833-14b39cad53d3"
      },
      "outputs": [
        {
          "output_type": "stream",
          "name": "stdout",
          "text": [
            "(64, 64, 64, 3)\n"
          ]
        }
      ],
      "source": [
        "ground_truth_argmax = np.argmax(ground_truth, axis=3)\n",
        "print(test_img.shape)"
      ]
    },
    {
      "cell_type": "code",
      "execution_count": 84,
      "metadata": {
        "id": "IMPx6bb6OwT6",
        "colab": {
          "base_uri": "https://localhost:8080/",
          "height": 261
        },
        "outputId": "fb383ab1-2f72-4ae8-cf44-03bbd735404d"
      },
      "outputs": [
        {
          "output_type": "display_data",
          "data": {
            "text/plain": [
              "<Figure size 864x576 with 3 Axes>"
            ],
            "image/png": "[encoded data removed]"
          },
          "metadata": {
            "needs_background": "light"
          }
        }
      ],
      "source": [
        "#Plot individual slices from test predictions for verification\n",
        "slice = 4\n",
        "plt.figure(figsize=(12, 8))\n",
        "plt.subplot(231)\n",
        "plt.title('Testing Image')\n",
        "plt.imshow(test_img[slice,:,:,0], cmap='gray')\n",
        "plt.subplot(232)\n",
        "plt.title('Testing Label')\n",
        "plt.imshow(ground_truth_argmax[slice,:,:])\n",
        "plt.subplot(233)\n",
        "plt.title('Prediction on test image')\n",
        "plt.imshow(test_prediction1[slice,:,:])\n",
        "plt.show()"
      ]
    },
    {
      "cell_type": "code",
      "execution_count": null,
      "metadata": {
        "id": "1SfnNv2wO5f1"
      },
      "outputs": [],
      "source": [
        "#Break the large image (volume) into patches of same size as the training images (patches)\n",
        "large_image = io.imread('/content/drive/MyDrive/Colab Notebooks/data/512 size images/512x512x512.tiff')\n",
        "patches = patchify(large_image, (64, 64, 64), step=64)  #Step=256 for 256 patches means no overlap\n",
        "print(large_image.shape)\n",
        "print(patches.shape)"
      ]
    },
    {
      "cell_type": "code",
      "execution_count": null,
      "metadata": {
        "id": "OA1bJ9FqO5iG"
      },
      "outputs": [],
      "source": [
        "# Predict each 3D patch   \n",
        "predicted_patches = []\n",
        "for i in range(patches.shape[0]):\n",
        "  for j in range(patches.shape[1]):\n",
        "    for k in range(patches.shape[2]):\n",
        "      #print(i,j,k)\n",
        "      single_patch = patches[i,j,k, :,:,:]\n",
        "      single_patch_3ch = np.stack((single_patch,)*3, axis=-1)\n",
        "      single_patch_3ch_input = preprocess_input(np.expand_dims(single_patch_3ch, axis=0))\n",
        "      single_patch_prediction = my_model.predict(single_patch_3ch_input)\n",
        "      single_patch_prediction_argmax = np.argmax(single_patch_prediction, axis=4)[0,:,:,:]\n",
        "      predicted_patches.append(single_patch_prediction_argmax)\n",
        "      "
      ]
    },
    {
      "cell_type": "code",
      "execution_count": null,
      "metadata": {
        "id": "9kKj-pvMO5kX"
      },
      "outputs": [],
      "source": [
        "#Convert list to numpy array\n",
        "predicted_patches = np.array(predicted_patches)\n",
        "print(predicted_patches.shape)"
      ]
    },
    {
      "cell_type": "code",
      "execution_count": null,
      "metadata": {
        "id": "vrguJmthO5mo"
      },
      "outputs": [],
      "source": [
        "#Reshape to the shape we had after patchifying\n",
        "predicted_patches_reshaped = np.reshape(predicted_patches, \n",
        "                                        (patches.shape[0], patches.shape[1], patches.shape[2],\n",
        "                                         patches.shape[3], patches.shape[4], patches.shape[5]) )\n",
        "print(predicted_patches_reshaped.shape)"
      ]
    },
    {
      "cell_type": "code",
      "execution_count": null,
      "metadata": {
        "id": "BMo75-LIO5pJ"
      },
      "outputs": [],
      "source": [
        "#Repach individual patches into the orginal volume shape\n",
        "reconstructed_image = unpatchify(predicted_patches_reshaped, large_image.shape)\n",
        "print(reconstructed_image.shape)\n",
        "print(reconstructed_image.dtype)\n",
        "#Convert to uint8 so we can open image in most image viewing software packages\n",
        "reconstructed_image=reconstructed_image.astype(np.uint8)\n",
        "print(reconstructed_image.dtype)"
      ]
    },
    {
      "cell_type": "code",
      "execution_count": null,
      "metadata": {
        "id": "sf-yZ_CBPAqV"
      },
      "outputs": [],
      "source": [
        "#Now save it as segmented volume.\n",
        "from tifffile import imsave\n",
        "imsave('/content/drive/MyDrive/Colab Notebooks/data', reconstructed_image)"
      ]
    },
    {
      "cell_type": "code",
      "execution_count": null,
      "metadata": {
        "id": "gF0GawPXPAs2"
      },
      "outputs": [],
      "source": [
        "print(np.unique(reconstructed_image))"
      ]
    },
    {
      "cell_type": "code",
      "execution_count": null,
      "metadata": {
        "id": "uuTD4WlCPAvN"
      },
      "outputs": [],
      "source": [
        "#Seperate each channel/segment to be combined as multiple channels.\n",
        "num_segments=4\n",
        "segm0 = (reconstructed_image == 0)\n",
        "segm1 = (reconstructed_image == 1)\n",
        "segm2 = (reconstructed_image == 2)\n",
        "segm3 = (reconstructed_image == 3)\n",
        "\n",
        "final = np.empty((reconstructed_image.shape[0], reconstructed_image.shape[1], reconstructed_image.shape[2], num_segments))\n",
        "final[:,:,:,0] = segm0\n",
        "final[:,:,:,1] = segm1\n",
        "final[:,:,:,2] = segm2\n",
        "final[:,:,:,3] = segm3"
      ]
    },
    {
      "cell_type": "code",
      "execution_count": null,
      "metadata": {
        "id": "gME25udkPAxa"
      },
      "outputs": [],
      "source": [
        "#Use APEER OMETIFF library to read and write multidimensional images\n",
        "!pip install apeer-ometiff-library"
      ]
    },
    {
      "cell_type": "code",
      "execution_count": null,
      "metadata": {
        "id": "yCfAtMNvPA0j"
      },
      "outputs": [],
      "source": [
        "from apeer_ometiff_library import io"
      ]
    },
    {
      "cell_type": "code",
      "execution_count": null,
      "metadata": {
        "id": "B-7QGSnnPJnW"
      },
      "outputs": [],
      "source": [
        "# Expand image array to 5D of order (T, Z, C, X, Y)\n",
        "# This is the convention for OMETIFF format as written by APEER library\n",
        "final = np.expand_dims(final, axis=0)\n",
        "final=np.swapaxes(final, 2, 4)\n",
        "\n",
        "final = final.astype(np.int8)"
      ]
    },
    {
      "cell_type": "code",
      "execution_count": null,
      "metadata": {
        "id": "ZGg83I6qPJp5"
      },
      "outputs": [],
      "source": [
        "print(\"Shape of the segmented volume is: T, Z, C, X, Y \", final.shape)\n",
        "print(final.dtype)"
      ]
    },
    {
      "cell_type": "code",
      "execution_count": null,
      "metadata": {
        "id": "yTU18HovPJr-"
      },
      "outputs": [],
      "source": [
        "# Write dataset as multi-dimensional OMETIFF *image*\n",
        "io.write_ometiff(\"/content/drive/MyDrive/Colab Notebooks/data/segmented_multi_channel_bita.ome.tiff\", final)"
      ]
    },
    {
      "cell_type": "code",
      "execution_count": null,
      "metadata": {
        "id": "ntifiMfoPJuy"
      },
      "outputs": [],
      "source": []
    },
    {
      "cell_type": "code",
      "execution_count": null,
      "metadata": {
        "id": "PvoASjsdPJwy"
      },
      "outputs": [],
      "source": []
    }
  ],
  "metadata": {
    "accelerator": "GPU",
    "colab": {
      "provenance": [],
      "mount_file_id": "1V60_LVa3POuBDOtwbxfEAN4sw1BaY-Yq",
      "authorship_tag": "ABX9TyPuvLGLsKKUIMN6xvG1hFqE",
      "include_colab_link": true
    },
    "gpuClass": "standard",
    "kernelspec": {
      "display_name": "Python 3",
      "name": "python3"
    },
    "language_info": {
      "name": "python"
    }
  },
  "nbformat": 4,
  "nbformat_minor": 0
}