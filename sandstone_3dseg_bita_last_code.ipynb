{
  "nbformat": 4,
  "nbformat_minor": 0,
  "metadata": {
    "colab": {
      "provenance": [],
      "mount_file_id": "10u530Bt65Da_c8FKa8FbVDZnkskSY10N",
      "authorship_tag": "ABX9TyPr/KBCZkvHfXW8sdSeabsz",
      "include_colab_link": true
    },
    "kernelspec": {
      "name": "python3",
      "display_name": "Python 3"
    },
    "language_info": {
      "name": "python"
    },
    "accelerator": "GPU",
    "gpuClass": "standard"
  },
  "cells": [
    {
      "cell_type": "markdown",
      "metadata": {
        "id": "view-in-github",
        "colab_type": "text"
      },
      "source": [
        "<a href=\"https://colab.research.google.com/github/Bitasml/cs110-crapsgame/blob/master/sandstone_3dseg_bita_last_code.ipynb\" target=\"_parent\"><img src=\"https://colab.research.google.com/assets/colab-badge.svg\" alt=\"Open In Colab\"/></a>"
      ]
    },
    {
      "cell_type": "code",
      "execution_count": null,
      "metadata": {
        "id": "HrqfpsBpD_PE"
      },
      "outputs": [],
      "source": []
    },
    {
      "cell_type": "code",
      "source": [
        "#Latest Tensorflow (2.4) is giving error for some of the libraries we will be using, \n",
        "# especially segmentation models 3D. \n",
        "#Therefore, I am defining TF version 1.x. \n",
        "#If you have your own 3D unet model, you can try the latest TF version.\n",
        "%tensorflow_version 2.x"
      ],
      "metadata": {
        "colab": {
          "base_uri": "https://localhost:8080/"
        },
        "id": "BXOsote6EIU_",
        "outputId": "ca755ee6-7c14-4ce6-ac8f-11fc3d8885d5"
      },
      "execution_count": 1,
      "outputs": [
        {
          "output_type": "stream",
          "name": "stdout",
          "text": [
            "Colab only includes TensorFlow 2.x; %tensorflow_version has no effect.\n"
          ]
        }
      ]
    },
    {
      "cell_type": "code",
      "source": [
        "#Install all dependencies for sgementation-models-3D library.\n",
        "#We will use this library to call 3D unet.\n",
        "#Alternative, you can define your own Unet, if you have skills!\n",
        "!pip install classification-models-3D\n",
        "!pip install efficientnet-3D\n",
        "!pip install segmentation-models-3D"
      ],
      "metadata": {
        "colab": {
          "base_uri": "https://localhost:8080/"
        },
        "id": "r-tT5ersETsV",
        "outputId": "ccf83b50-8a3e-4284-a249-a45e04ea3fe8"
      },
      "execution_count": 2,
      "outputs": [
        {
          "output_type": "stream",
          "name": "stdout",
          "text": [
            "Looking in indexes: https://pypi.org/simple, https://us-python.pkg.dev/colab-wheels/public/simple/\n",
            "Collecting classification-models-3D\n",
            "  Downloading classification_models_3D-1.0.6-py3-none-any.whl (62 kB)\n",
            "\u001b[K     |████████████████████████████████| 62 kB 201 kB/s \n",
            "\u001b[?25hInstalling collected packages: classification-models-3D\n",
            "Successfully installed classification-models-3D-1.0.6\n",
            "Looking in indexes: https://pypi.org/simple, https://us-python.pkg.dev/colab-wheels/public/simple/\n",
            "Collecting efficientnet-3D\n",
            "  Downloading efficientnet_3D-1.0.2-py3-none-any.whl (15 kB)\n",
            "Installing collected packages: efficientnet-3D\n",
            "Successfully installed efficientnet-3D-1.0.2\n",
            "Looking in indexes: https://pypi.org/simple, https://us-python.pkg.dev/colab-wheels/public/simple/\n",
            "Collecting segmentation-models-3D\n",
            "  Downloading segmentation_models_3D-1.0.4-py3-none-any.whl (33 kB)\n",
            "Requirement already satisfied: tensorflow>=2.8.0 in /usr/local/lib/python3.7/dist-packages (from segmentation-models-3D) (2.9.2)\n",
            "Collecting keras-applications>=1.0.8\n",
            "  Downloading Keras_Applications-1.0.8-py3-none-any.whl (50 kB)\n",
            "\u001b[K     |████████████████████████████████| 50 kB 6.5 MB/s \n",
            "\u001b[?25hRequirement already satisfied: classification-models-3D>=1.0.6 in /usr/local/lib/python3.7/dist-packages (from segmentation-models-3D) (1.0.6)\n",
            "Requirement already satisfied: h5py in /usr/local/lib/python3.7/dist-packages (from keras-applications>=1.0.8->segmentation-models-3D) (3.1.0)\n",
            "Requirement already satisfied: numpy>=1.9.1 in /usr/local/lib/python3.7/dist-packages (from keras-applications>=1.0.8->segmentation-models-3D) (1.21.6)\n",
            "Requirement already satisfied: absl-py>=1.0.0 in /usr/local/lib/python3.7/dist-packages (from tensorflow>=2.8.0->segmentation-models-3D) (1.3.0)\n",
            "Requirement already satisfied: libclang>=13.0.0 in /usr/local/lib/python3.7/dist-packages (from tensorflow>=2.8.0->segmentation-models-3D) (14.0.6)\n",
            "Requirement already satisfied: keras-preprocessing>=1.1.1 in /usr/local/lib/python3.7/dist-packages (from tensorflow>=2.8.0->segmentation-models-3D) (1.1.2)\n",
            "Requirement already satisfied: typing-extensions>=3.6.6 in /usr/local/lib/python3.7/dist-packages (from tensorflow>=2.8.0->segmentation-models-3D) (4.1.1)\n",
            "Requirement already satisfied: keras<2.10.0,>=2.9.0rc0 in /usr/local/lib/python3.7/dist-packages (from tensorflow>=2.8.0->segmentation-models-3D) (2.9.0)\n",
            "Requirement already satisfied: packaging in /usr/local/lib/python3.7/dist-packages (from tensorflow>=2.8.0->segmentation-models-3D) (21.3)\n",
            "Requirement already satisfied: astunparse>=1.6.0 in /usr/local/lib/python3.7/dist-packages (from tensorflow>=2.8.0->segmentation-models-3D) (1.6.3)\n",
            "Requirement already satisfied: flatbuffers<2,>=1.12 in /usr/local/lib/python3.7/dist-packages (from tensorflow>=2.8.0->segmentation-models-3D) (1.12)\n",
            "Requirement already satisfied: setuptools in /usr/local/lib/python3.7/dist-packages (from tensorflow>=2.8.0->segmentation-models-3D) (57.4.0)\n",
            "Requirement already satisfied: tensorflow-estimator<2.10.0,>=2.9.0rc0 in /usr/local/lib/python3.7/dist-packages (from tensorflow>=2.8.0->segmentation-models-3D) (2.9.0)\n",
            "Requirement already satisfied: wrapt>=1.11.0 in /usr/local/lib/python3.7/dist-packages (from tensorflow>=2.8.0->segmentation-models-3D) (1.14.1)\n",
            "Requirement already satisfied: tensorflow-io-gcs-filesystem>=0.23.1 in /usr/local/lib/python3.7/dist-packages (from tensorflow>=2.8.0->segmentation-models-3D) (0.27.0)\n",
            "Requirement already satisfied: google-pasta>=0.1.1 in /usr/local/lib/python3.7/dist-packages (from tensorflow>=2.8.0->segmentation-models-3D) (0.2.0)\n",
            "Requirement already satisfied: six>=1.12.0 in /usr/local/lib/python3.7/dist-packages (from tensorflow>=2.8.0->segmentation-models-3D) (1.15.0)\n",
            "Requirement already satisfied: termcolor>=1.1.0 in /usr/local/lib/python3.7/dist-packages (from tensorflow>=2.8.0->segmentation-models-3D) (2.1.0)\n",
            "Requirement already satisfied: tensorboard<2.10,>=2.9 in /usr/local/lib/python3.7/dist-packages (from tensorflow>=2.8.0->segmentation-models-3D) (2.9.1)\n",
            "Requirement already satisfied: grpcio<2.0,>=1.24.3 in /usr/local/lib/python3.7/dist-packages (from tensorflow>=2.8.0->segmentation-models-3D) (1.50.0)\n",
            "Requirement already satisfied: gast<=0.4.0,>=0.2.1 in /usr/local/lib/python3.7/dist-packages (from tensorflow>=2.8.0->segmentation-models-3D) (0.4.0)\n",
            "Requirement already satisfied: opt-einsum>=2.3.2 in /usr/local/lib/python3.7/dist-packages (from tensorflow>=2.8.0->segmentation-models-3D) (3.3.0)\n",
            "Requirement already satisfied: protobuf<3.20,>=3.9.2 in /usr/local/lib/python3.7/dist-packages (from tensorflow>=2.8.0->segmentation-models-3D) (3.19.6)\n",
            "Requirement already satisfied: wheel<1.0,>=0.23.0 in /usr/local/lib/python3.7/dist-packages (from astunparse>=1.6.0->tensorflow>=2.8.0->segmentation-models-3D) (0.38.4)\n",
            "Requirement already satisfied: cached-property in /usr/local/lib/python3.7/dist-packages (from h5py->keras-applications>=1.0.8->segmentation-models-3D) (1.5.2)\n",
            "Requirement already satisfied: tensorboard-data-server<0.7.0,>=0.6.0 in /usr/local/lib/python3.7/dist-packages (from tensorboard<2.10,>=2.9->tensorflow>=2.8.0->segmentation-models-3D) (0.6.1)\n",
            "Requirement already satisfied: werkzeug>=1.0.1 in /usr/local/lib/python3.7/dist-packages (from tensorboard<2.10,>=2.9->tensorflow>=2.8.0->segmentation-models-3D) (1.0.1)\n",
            "Requirement already satisfied: markdown>=2.6.8 in /usr/local/lib/python3.7/dist-packages (from tensorboard<2.10,>=2.9->tensorflow>=2.8.0->segmentation-models-3D) (3.4.1)\n",
            "Requirement already satisfied: google-auth<3,>=1.6.3 in /usr/local/lib/python3.7/dist-packages (from tensorboard<2.10,>=2.9->tensorflow>=2.8.0->segmentation-models-3D) (2.14.1)\n",
            "Requirement already satisfied: google-auth-oauthlib<0.5,>=0.4.1 in /usr/local/lib/python3.7/dist-packages (from tensorboard<2.10,>=2.9->tensorflow>=2.8.0->segmentation-models-3D) (0.4.6)\n",
            "Requirement already satisfied: tensorboard-plugin-wit>=1.6.0 in /usr/local/lib/python3.7/dist-packages (from tensorboard<2.10,>=2.9->tensorflow>=2.8.0->segmentation-models-3D) (1.8.1)\n",
            "Requirement already satisfied: requests<3,>=2.21.0 in /usr/local/lib/python3.7/dist-packages (from tensorboard<2.10,>=2.9->tensorflow>=2.8.0->segmentation-models-3D) (2.23.0)\n",
            "Requirement already satisfied: cachetools<6.0,>=2.0.0 in /usr/local/lib/python3.7/dist-packages (from google-auth<3,>=1.6.3->tensorboard<2.10,>=2.9->tensorflow>=2.8.0->segmentation-models-3D) (5.2.0)\n",
            "Requirement already satisfied: rsa<5,>=3.1.4 in /usr/local/lib/python3.7/dist-packages (from google-auth<3,>=1.6.3->tensorboard<2.10,>=2.9->tensorflow>=2.8.0->segmentation-models-3D) (4.9)\n",
            "Requirement already satisfied: pyasn1-modules>=0.2.1 in /usr/local/lib/python3.7/dist-packages (from google-auth<3,>=1.6.3->tensorboard<2.10,>=2.9->tensorflow>=2.8.0->segmentation-models-3D) (0.2.8)\n",
            "Requirement already satisfied: requests-oauthlib>=0.7.0 in /usr/local/lib/python3.7/dist-packages (from google-auth-oauthlib<0.5,>=0.4.1->tensorboard<2.10,>=2.9->tensorflow>=2.8.0->segmentation-models-3D) (1.3.1)\n",
            "Requirement already satisfied: importlib-metadata>=4.4 in /usr/local/lib/python3.7/dist-packages (from markdown>=2.6.8->tensorboard<2.10,>=2.9->tensorflow>=2.8.0->segmentation-models-3D) (4.13.0)\n",
            "Requirement already satisfied: zipp>=0.5 in /usr/local/lib/python3.7/dist-packages (from importlib-metadata>=4.4->markdown>=2.6.8->tensorboard<2.10,>=2.9->tensorflow>=2.8.0->segmentation-models-3D) (3.10.0)\n",
            "Requirement already satisfied: pyasn1<0.5.0,>=0.4.6 in /usr/local/lib/python3.7/dist-packages (from pyasn1-modules>=0.2.1->google-auth<3,>=1.6.3->tensorboard<2.10,>=2.9->tensorflow>=2.8.0->segmentation-models-3D) (0.4.8)\n",
            "Requirement already satisfied: idna<3,>=2.5 in /usr/local/lib/python3.7/dist-packages (from requests<3,>=2.21.0->tensorboard<2.10,>=2.9->tensorflow>=2.8.0->segmentation-models-3D) (2.10)\n",
            "Requirement already satisfied: certifi>=2017.4.17 in /usr/local/lib/python3.7/dist-packages (from requests<3,>=2.21.0->tensorboard<2.10,>=2.9->tensorflow>=2.8.0->segmentation-models-3D) (2022.9.24)\n",
            "Requirement already satisfied: chardet<4,>=3.0.2 in /usr/local/lib/python3.7/dist-packages (from requests<3,>=2.21.0->tensorboard<2.10,>=2.9->tensorflow>=2.8.0->segmentation-models-3D) (3.0.4)\n",
            "Requirement already satisfied: urllib3!=1.25.0,!=1.25.1,<1.26,>=1.21.1 in /usr/local/lib/python3.7/dist-packages (from requests<3,>=2.21.0->tensorboard<2.10,>=2.9->tensorflow>=2.8.0->segmentation-models-3D) (1.24.3)\n",
            "Requirement already satisfied: oauthlib>=3.0.0 in /usr/local/lib/python3.7/dist-packages (from requests-oauthlib>=0.7.0->google-auth-oauthlib<0.5,>=0.4.1->tensorboard<2.10,>=2.9->tensorflow>=2.8.0->segmentation-models-3D) (3.2.2)\n",
            "Requirement already satisfied: pyparsing!=3.0.5,>=2.0.2 in /usr/local/lib/python3.7/dist-packages (from packaging->tensorflow>=2.8.0->segmentation-models-3D) (3.0.9)\n",
            "Installing collected packages: keras-applications, segmentation-models-3D\n",
            "Successfully installed keras-applications-1.0.8 segmentation-models-3D-1.0.4\n"
          ]
        }
      ]
    },
    {
      "cell_type": "code",
      "source": [
        "#Use patchify to break large volumes into smaller for training \n",
        "#and also to put patches back together after prediction.\n",
        "!pip install patchify"
      ],
      "metadata": {
        "colab": {
          "base_uri": "https://localhost:8080/"
        },
        "id": "BGHz6skHET0n",
        "outputId": "528561f4-9c77-49ab-bf39-64b01f51b401"
      },
      "execution_count": 3,
      "outputs": [
        {
          "output_type": "stream",
          "name": "stdout",
          "text": [
            "Looking in indexes: https://pypi.org/simple, https://us-python.pkg.dev/colab-wheels/public/simple/\n",
            "Collecting patchify\n",
            "  Downloading patchify-0.2.3-py3-none-any.whl (6.6 kB)\n",
            "Requirement already satisfied: numpy<2,>=1 in /usr/local/lib/python3.7/dist-packages (from patchify) (1.21.6)\n",
            "Installing collected packages: patchify\n",
            "Successfully installed patchify-0.2.3\n"
          ]
        }
      ]
    },
    {
      "cell_type": "code",
      "source": [
        "import tensorflow as tf\n",
        "import keras\n",
        "print(tf.__version__)\n",
        "print(keras.__version__)\n",
        "\n"
      ],
      "metadata": {
        "colab": {
          "base_uri": "https://localhost:8080/"
        },
        "id": "M6qhHngNET3I",
        "outputId": "48909675-517d-43b2-d6f8-63696959a92f"
      },
      "execution_count": 4,
      "outputs": [
        {
          "output_type": "stream",
          "name": "stdout",
          "text": [
            "2.9.2\n",
            "2.9.0\n"
          ]
        }
      ]
    },
    {
      "cell_type": "code",
      "source": [
        "#Make sure the GPU is available. \n",
        "import tensorflow as tf\n",
        "device_name = tf.test.gpu_device_name()\n",
        "if device_name != '/device:GPU:0':\n",
        "  raise SystemError('GPU device not found')\n",
        "print('Found GPU at: {}'.format(device_name))"
      ],
      "metadata": {
        "colab": {
          "base_uri": "https://localhost:8080/"
        },
        "id": "sqHcBjQWET6Q",
        "outputId": "21d9512c-1296-4403-ceac-ab839032d436"
      },
      "execution_count": 5,
      "outputs": [
        {
          "output_type": "stream",
          "name": "stdout",
          "text": [
            "Found GPU at: /device:GPU:0\n"
          ]
        }
      ]
    },
    {
      "cell_type": "code",
      "source": [
        "\n",
        "!pip install segmentation-models-3D"
      ],
      "metadata": {
        "colab": {
          "base_uri": "https://localhost:8080/"
        },
        "id": "jcnpuUDcGmRS",
        "outputId": "29e352ee-05aa-4da6-83f8-51067f94bd6e"
      },
      "execution_count": 6,
      "outputs": [
        {
          "output_type": "stream",
          "name": "stdout",
          "text": [
            "Looking in indexes: https://pypi.org/simple, https://us-python.pkg.dev/colab-wheels/public/simple/\n",
            "Requirement already satisfied: segmentation-models-3D in /usr/local/lib/python3.7/dist-packages (1.0.4)\n",
            "Requirement already satisfied: classification-models-3D>=1.0.6 in /usr/local/lib/python3.7/dist-packages (from segmentation-models-3D) (1.0.6)\n",
            "Requirement already satisfied: keras-applications>=1.0.8 in /usr/local/lib/python3.7/dist-packages (from segmentation-models-3D) (1.0.8)\n",
            "Requirement already satisfied: tensorflow>=2.8.0 in /usr/local/lib/python3.7/dist-packages (from segmentation-models-3D) (2.9.2)\n",
            "Requirement already satisfied: h5py in /usr/local/lib/python3.7/dist-packages (from keras-applications>=1.0.8->segmentation-models-3D) (3.1.0)\n",
            "Requirement already satisfied: numpy>=1.9.1 in /usr/local/lib/python3.7/dist-packages (from keras-applications>=1.0.8->segmentation-models-3D) (1.21.6)\n",
            "Requirement already satisfied: absl-py>=1.0.0 in /usr/local/lib/python3.7/dist-packages (from tensorflow>=2.8.0->segmentation-models-3D) (1.3.0)\n",
            "Requirement already satisfied: tensorflow-estimator<2.10.0,>=2.9.0rc0 in /usr/local/lib/python3.7/dist-packages (from tensorflow>=2.8.0->segmentation-models-3D) (2.9.0)\n",
            "Requirement already satisfied: protobuf<3.20,>=3.9.2 in /usr/local/lib/python3.7/dist-packages (from tensorflow>=2.8.0->segmentation-models-3D) (3.19.6)\n",
            "Requirement already satisfied: setuptools in /usr/local/lib/python3.7/dist-packages (from tensorflow>=2.8.0->segmentation-models-3D) (57.4.0)\n",
            "Requirement already satisfied: flatbuffers<2,>=1.12 in /usr/local/lib/python3.7/dist-packages (from tensorflow>=2.8.0->segmentation-models-3D) (1.12)\n",
            "Requirement already satisfied: tensorflow-io-gcs-filesystem>=0.23.1 in /usr/local/lib/python3.7/dist-packages (from tensorflow>=2.8.0->segmentation-models-3D) (0.27.0)\n",
            "Requirement already satisfied: libclang>=13.0.0 in /usr/local/lib/python3.7/dist-packages (from tensorflow>=2.8.0->segmentation-models-3D) (14.0.6)\n",
            "Requirement already satisfied: astunparse>=1.6.0 in /usr/local/lib/python3.7/dist-packages (from tensorflow>=2.8.0->segmentation-models-3D) (1.6.3)\n",
            "Requirement already satisfied: typing-extensions>=3.6.6 in /usr/local/lib/python3.7/dist-packages (from tensorflow>=2.8.0->segmentation-models-3D) (4.1.1)\n",
            "Requirement already satisfied: termcolor>=1.1.0 in /usr/local/lib/python3.7/dist-packages (from tensorflow>=2.8.0->segmentation-models-3D) (2.1.0)\n",
            "Requirement already satisfied: packaging in /usr/local/lib/python3.7/dist-packages (from tensorflow>=2.8.0->segmentation-models-3D) (21.3)\n",
            "Requirement already satisfied: tensorboard<2.10,>=2.9 in /usr/local/lib/python3.7/dist-packages (from tensorflow>=2.8.0->segmentation-models-3D) (2.9.1)\n",
            "Requirement already satisfied: keras<2.10.0,>=2.9.0rc0 in /usr/local/lib/python3.7/dist-packages (from tensorflow>=2.8.0->segmentation-models-3D) (2.9.0)\n",
            "Requirement already satisfied: google-pasta>=0.1.1 in /usr/local/lib/python3.7/dist-packages (from tensorflow>=2.8.0->segmentation-models-3D) (0.2.0)\n",
            "Requirement already satisfied: wrapt>=1.11.0 in /usr/local/lib/python3.7/dist-packages (from tensorflow>=2.8.0->segmentation-models-3D) (1.14.1)\n",
            "Requirement already satisfied: gast<=0.4.0,>=0.2.1 in /usr/local/lib/python3.7/dist-packages (from tensorflow>=2.8.0->segmentation-models-3D) (0.4.0)\n",
            "Requirement already satisfied: keras-preprocessing>=1.1.1 in /usr/local/lib/python3.7/dist-packages (from tensorflow>=2.8.0->segmentation-models-3D) (1.1.2)\n",
            "Requirement already satisfied: opt-einsum>=2.3.2 in /usr/local/lib/python3.7/dist-packages (from tensorflow>=2.8.0->segmentation-models-3D) (3.3.0)\n",
            "Requirement already satisfied: six>=1.12.0 in /usr/local/lib/python3.7/dist-packages (from tensorflow>=2.8.0->segmentation-models-3D) (1.15.0)\n",
            "Requirement already satisfied: grpcio<2.0,>=1.24.3 in /usr/local/lib/python3.7/dist-packages (from tensorflow>=2.8.0->segmentation-models-3D) (1.50.0)\n",
            "Requirement already satisfied: wheel<1.0,>=0.23.0 in /usr/local/lib/python3.7/dist-packages (from astunparse>=1.6.0->tensorflow>=2.8.0->segmentation-models-3D) (0.38.4)\n",
            "Requirement already satisfied: cached-property in /usr/local/lib/python3.7/dist-packages (from h5py->keras-applications>=1.0.8->segmentation-models-3D) (1.5.2)\n",
            "Requirement already satisfied: tensorboard-data-server<0.7.0,>=0.6.0 in /usr/local/lib/python3.7/dist-packages (from tensorboard<2.10,>=2.9->tensorflow>=2.8.0->segmentation-models-3D) (0.6.1)\n",
            "Requirement already satisfied: werkzeug>=1.0.1 in /usr/local/lib/python3.7/dist-packages (from tensorboard<2.10,>=2.9->tensorflow>=2.8.0->segmentation-models-3D) (1.0.1)\n",
            "Requirement already satisfied: markdown>=2.6.8 in /usr/local/lib/python3.7/dist-packages (from tensorboard<2.10,>=2.9->tensorflow>=2.8.0->segmentation-models-3D) (3.4.1)\n",
            "Requirement already satisfied: google-auth-oauthlib<0.5,>=0.4.1 in /usr/local/lib/python3.7/dist-packages (from tensorboard<2.10,>=2.9->tensorflow>=2.8.0->segmentation-models-3D) (0.4.6)\n",
            "Requirement already satisfied: requests<3,>=2.21.0 in /usr/local/lib/python3.7/dist-packages (from tensorboard<2.10,>=2.9->tensorflow>=2.8.0->segmentation-models-3D) (2.23.0)\n",
            "Requirement already satisfied: tensorboard-plugin-wit>=1.6.0 in /usr/local/lib/python3.7/dist-packages (from tensorboard<2.10,>=2.9->tensorflow>=2.8.0->segmentation-models-3D) (1.8.1)\n",
            "Requirement already satisfied: google-auth<3,>=1.6.3 in /usr/local/lib/python3.7/dist-packages (from tensorboard<2.10,>=2.9->tensorflow>=2.8.0->segmentation-models-3D) (2.14.1)\n",
            "Requirement already satisfied: cachetools<6.0,>=2.0.0 in /usr/local/lib/python3.7/dist-packages (from google-auth<3,>=1.6.3->tensorboard<2.10,>=2.9->tensorflow>=2.8.0->segmentation-models-3D) (5.2.0)\n",
            "Requirement already satisfied: pyasn1-modules>=0.2.1 in /usr/local/lib/python3.7/dist-packages (from google-auth<3,>=1.6.3->tensorboard<2.10,>=2.9->tensorflow>=2.8.0->segmentation-models-3D) (0.2.8)\n",
            "Requirement already satisfied: rsa<5,>=3.1.4 in /usr/local/lib/python3.7/dist-packages (from google-auth<3,>=1.6.3->tensorboard<2.10,>=2.9->tensorflow>=2.8.0->segmentation-models-3D) (4.9)\n",
            "Requirement already satisfied: requests-oauthlib>=0.7.0 in /usr/local/lib/python3.7/dist-packages (from google-auth-oauthlib<0.5,>=0.4.1->tensorboard<2.10,>=2.9->tensorflow>=2.8.0->segmentation-models-3D) (1.3.1)\n",
            "Requirement already satisfied: importlib-metadata>=4.4 in /usr/local/lib/python3.7/dist-packages (from markdown>=2.6.8->tensorboard<2.10,>=2.9->tensorflow>=2.8.0->segmentation-models-3D) (4.13.0)\n",
            "Requirement already satisfied: zipp>=0.5 in /usr/local/lib/python3.7/dist-packages (from importlib-metadata>=4.4->markdown>=2.6.8->tensorboard<2.10,>=2.9->tensorflow>=2.8.0->segmentation-models-3D) (3.10.0)\n",
            "Requirement already satisfied: pyasn1<0.5.0,>=0.4.6 in /usr/local/lib/python3.7/dist-packages (from pyasn1-modules>=0.2.1->google-auth<3,>=1.6.3->tensorboard<2.10,>=2.9->tensorflow>=2.8.0->segmentation-models-3D) (0.4.8)\n",
            "Requirement already satisfied: chardet<4,>=3.0.2 in /usr/local/lib/python3.7/dist-packages (from requests<3,>=2.21.0->tensorboard<2.10,>=2.9->tensorflow>=2.8.0->segmentation-models-3D) (3.0.4)\n",
            "Requirement already satisfied: certifi>=2017.4.17 in /usr/local/lib/python3.7/dist-packages (from requests<3,>=2.21.0->tensorboard<2.10,>=2.9->tensorflow>=2.8.0->segmentation-models-3D) (2022.9.24)\n",
            "Requirement already satisfied: urllib3!=1.25.0,!=1.25.1,<1.26,>=1.21.1 in /usr/local/lib/python3.7/dist-packages (from requests<3,>=2.21.0->tensorboard<2.10,>=2.9->tensorflow>=2.8.0->segmentation-models-3D) (1.24.3)\n",
            "Requirement already satisfied: idna<3,>=2.5 in /usr/local/lib/python3.7/dist-packages (from requests<3,>=2.21.0->tensorboard<2.10,>=2.9->tensorflow>=2.8.0->segmentation-models-3D) (2.10)\n",
            "Requirement already satisfied: oauthlib>=3.0.0 in /usr/local/lib/python3.7/dist-packages (from requests-oauthlib>=0.7.0->google-auth-oauthlib<0.5,>=0.4.1->tensorboard<2.10,>=2.9->tensorflow>=2.8.0->segmentation-models-3D) (3.2.2)\n",
            "Requirement already satisfied: pyparsing!=3.0.5,>=2.0.2 in /usr/local/lib/python3.7/dist-packages (from packaging->tensorflow>=2.8.0->segmentation-models-3D) (3.0.9)\n"
          ]
        }
      ]
    },
    {
      "cell_type": "code",
      "source": [
        "import segmentation_models_3D as sm"
      ],
      "metadata": {
        "id": "zuwmrgyVGmZD",
        "colab": {
          "base_uri": "https://localhost:8080/"
        },
        "outputId": "b35c0175-a620-466d-ff2f-a82f133f7caa"
      },
      "execution_count": 7,
      "outputs": [
        {
          "output_type": "stream",
          "name": "stdout",
          "text": [
            "Segmentation Models: using `tf.keras` framework.\n"
          ]
        }
      ]
    },
    {
      "cell_type": "code",
      "source": [
        "from skimage import io\n",
        "from patchify import patchify, unpatchify\n",
        "import numpy as np\n",
        "from matplotlib import pyplot as plt\n",
        "from keras import backend as K\n",
        "from keras.utils import to_categorical\n",
        "from sklearn.model_selection import train_test_split"
      ],
      "metadata": {
        "id": "sLkRPGLiGmbj"
      },
      "execution_count": 8,
      "outputs": []
    },
    {
      "cell_type": "code",
      "source": [
        "#Load input images and masks. \n",
        "#Here we load 256x256x256 pixel volume. We will break it into patches of 64x64x64 for training. \n",
        "image = io.imread('/content/drive/MyDrive/Colab Notebooks/data/train_images_256_256_256.tif')\n",
        "img_patches = patchify(image, (64, 64, 64), step=64)  #Step=64 for 64 patches means no overlap\n",
        "\n",
        "mask = io.imread('/content/drive/MyDrive/Colab Notebooks/data/train_masks_256_256_256.tif')\n",
        "mask_patches = patchify(mask, (64, 64, 64), step=64)  "
      ],
      "metadata": {
        "id": "wMF8F0yXGmeH"
      },
      "execution_count": 10,
      "outputs": []
    },
    {
      "cell_type": "code",
      "source": [
        "print(image.shape)\n",
        "print(img_patches.shape)\n",
        "print(mask_patches.shape)"
      ],
      "metadata": {
        "id": "4IBXnwofkGQw",
        "colab": {
          "base_uri": "https://localhost:8080/"
        },
        "outputId": "14e03cb7-9640-437d-9821-5960e356051e"
      },
      "execution_count": 11,
      "outputs": [
        {
          "output_type": "stream",
          "name": "stdout",
          "text": [
            "(256, 256, 256)\n",
            "(4, 4, 4, 64, 64, 64)\n",
            "(4, 4, 4, 64, 64, 64)\n"
          ]
        }
      ]
    },
    {
      "cell_type": "code",
      "source": [
        "print(img_patches.shape)"
      ],
      "metadata": {
        "colab": {
          "base_uri": "https://localhost:8080/"
        },
        "id": "CcINOcoNNzk3",
        "outputId": "acd484ab-29c7-4f7b-dcdd-de5593a321ab"
      },
      "execution_count": 12,
      "outputs": [
        {
          "output_type": "stream",
          "name": "stdout",
          "text": [
            "(4, 4, 4, 64, 64, 64)\n"
          ]
        }
      ]
    },
    {
      "cell_type": "code",
      "source": [
        "plt.imshow(mask_patches[1,2,3,:,:,60])"
      ],
      "metadata": {
        "id": "edeuK_EJyfwW",
        "colab": {
          "base_uri": "https://localhost:8080/",
          "height": 285
        },
        "outputId": "d11de3e3-9127-4346-eb3e-eb6aaadee63a"
      },
      "execution_count": 14,
      "outputs": [
        {
          "output_type": "execute_result",
          "data": {
            "text/plain": [
              "<matplotlib.image.AxesImage at 0x7f7640d75b90>"
            ]
          },
          "metadata": {},
          "execution_count": 14
        },
        {
          "output_type": "display_data",
          "data": {
            "text/plain": [
              "<Figure size 432x288 with 1 Axes>"
            ],
            "image/png": "[encoded data removed]"
          },
          "metadata": {
            "needs_background": "light"
          }
        }
      ]
    },
    {
      "cell_type": "code",
      "source": [
        "plt.imshow(img_patches[1,2,3,:,:,60])\n"
      ],
      "metadata": {
        "colab": {
          "base_uri": "https://localhost:8080/",
          "height": 285
        },
        "id": "IVnYyVZXNaaP",
        "outputId": "93474b7e-37ba-47a1-8098-3feba4009a14"
      },
      "execution_count": 13,
      "outputs": [
        {
          "output_type": "execute_result",
          "data": {
            "text/plain": [
              "<matplotlib.image.AxesImage at 0x7f7641292710>"
            ]
          },
          "metadata": {},
          "execution_count": 13
        },
        {
          "output_type": "display_data",
          "data": {
            "text/plain": [
              "<Figure size 432x288 with 1 Axes>"
            ],
            "image/png": "[encoded data removed]"
          },
          "metadata": {
            "needs_background": "light"
          }
        }
      ]
    },
    {
      "cell_type": "code",
      "source": [
        "input_img = np.reshape(img_patches, (-1, img_patches.shape[3], img_patches.shape[4], img_patches.shape[5]))\n",
        "input_mask = np.reshape(mask_patches, (-1, mask_patches.shape[3], mask_patches.shape[4], mask_patches.shape[5]))\n",
        "\n",
        "print(input_img.shape)  # n_patches, x, y, z"
      ],
      "metadata": {
        "colab": {
          "base_uri": "https://localhost:8080/"
        },
        "id": "ctPR2XPiNacx",
        "outputId": "da75caa5-10d1-438f-dd69-ab81a1bce98c"
      },
      "execution_count": 15,
      "outputs": [
        {
          "output_type": "stream",
          "name": "stdout",
          "text": [
            "(64, 64, 64, 64)\n"
          ]
        }
      ]
    },
    {
      "cell_type": "code",
      "source": [
        "n_classes=4"
      ],
      "metadata": {
        "id": "4gOWbRsKNafI"
      },
      "execution_count": 16,
      "outputs": []
    },
    {
      "cell_type": "code",
      "source": [
        "#Convert grey image to 3 channels by copying channel 3 times.\n",
        "#We do this as our unet model expects 3 channel input. \n",
        "\n",
        "train_img = np.stack((input_img,)*3, axis=-1)\n",
        "train_mask = np.expand_dims(input_mask, axis=4)\n",
        "\n",
        "\n",
        "print(train_img.shape)\n",
        "\n",
        "\n",
        "train_mask_cat = to_categorical(train_mask, num_classes=n_classes)\n",
        "\n",
        "\n",
        "X_train, X_test, y_train, y_test = train_test_split(train_img, train_mask_cat, test_size = 0.10, random_state = 0)"
      ],
      "metadata": {
        "id": "wuXIf_pTNaiP",
        "colab": {
          "base_uri": "https://localhost:8080/"
        },
        "outputId": "8b811c10-f4db-4e30-c25a-82a350f438b3"
      },
      "execution_count": 17,
      "outputs": [
        {
          "output_type": "stream",
          "name": "stdout",
          "text": [
            "(64, 64, 64, 64, 3)\n"
          ]
        }
      ]
    },
    {
      "cell_type": "code",
      "source": [
        "# Loss Function and coefficients to be used during training:\n",
        "def dice_coefficient(y_true, y_pred):\n",
        "    smoothing_factor = 1\n",
        "    flat_y_true = K.flatten(y_true)\n",
        "    flat_y_pred = K.flatten(y_pred)\n",
        "    return (2. * K.sum(flat_y_true * flat_y_pred) + smoothing_factor) / (K.sum(flat_y_true) + K.sum(flat_y_pred) + smoothing_factor)\n",
        "\n",
        "def dice_coefficient_loss(y_true, y_pred):\n",
        "    return 1 - dice_coefficient(y_true, y_pred)"
      ],
      "metadata": {
        "id": "4vPniqpfOW3Z"
      },
      "execution_count": 18,
      "outputs": []
    },
    {
      "cell_type": "code",
      "source": [
        "#Define parameters for our model.\n",
        "\n",
        "encoder_weights = 'imagenet'\n",
        "BACKBONE = 'vgg16'  #Try vgg16, efficientnetb7, inceptionv3, resnet50\n",
        "activation = 'softmax'\n",
        "patch_size = 64\n",
        "n_classes = 4\n",
        "channels=3\n",
        "\n",
        "LR = 0.0001\n",
        "optim = keras.optimizers.Adam(LR)\n",
        "\n",
        "# Segmentation models losses can be combined together by '+' and scaled by integer or float factor\n",
        "# set class weights for dice_loss (car: 1.; pedestrian: 2.; background: 0.5;)\n",
        "dice_loss = sm.losses.DiceLoss(class_weights=np.array([0.25, 0.25, 0.25, 0.25])) \n",
        "focal_loss = sm.losses.CategoricalFocalLoss()\n",
        "total_loss = dice_loss + (1 * focal_loss)\n",
        "\n",
        "# actulally total_loss can be imported directly from library, above example just show you how to manipulate with losses\n",
        "# total_loss = sm.losses.binary_focal_dice_loss # or sm.losses.categorical_focal_dice_loss \n",
        "\n",
        "metrics = [sm.metrics.IOUScore(threshold=0.5), sm.metrics.FScore(threshold=0.5)]"
      ],
      "metadata": {
        "id": "bCE2wcEGOW6M"
      },
      "execution_count": 19,
      "outputs": []
    },
    {
      "cell_type": "code",
      "source": [
        "preprocess_input = sm.get_preprocessing(BACKBONE)"
      ],
      "metadata": {
        "id": "J5qzNHN1OW97"
      },
      "execution_count": 20,
      "outputs": []
    },
    {
      "cell_type": "code",
      "source": [
        "#Preprocess input data - otherwise you end up with garbage resutls \n",
        "# and potentially model that does not converge.\n",
        "X_train_prep = preprocess_input(X_train)\n",
        "X_test_prep = preprocess_input(X_test)"
      ],
      "metadata": {
        "id": "OdVtPQJKOW_U"
      },
      "execution_count": 21,
      "outputs": []
    },
    {
      "cell_type": "code",
      "source": [
        "#Define the model. Here we use Unet but we can also use other model architectures from the library.\n",
        "model = sm.Unet(BACKBONE, classes=n_classes, \n",
        "                input_shape=(patch_size, patch_size, patch_size, channels), \n",
        "                encoder_weights=encoder_weights,\n",
        "                activation=activation)\n",
        "\n",
        "model.compile(optimizer = optim, loss=total_loss, metrics=metrics)\n",
        "print(model.summary())"
      ],
      "metadata": {
        "colab": {
          "base_uri": "https://localhost:8080/"
        },
        "id": "1_QhoRA5OXBy",
        "outputId": "263b12f2-b3f2-42d8-c9d9-8661782e251c"
      },
      "execution_count": 22,
      "outputs": [
        {
          "output_type": "stream",
          "name": "stdout",
          "text": [
            "Downloading data from https://github.com/ZFTurbo/classification_models_3D/releases/download/v1.0.4/vgg16_inp_channel_3_tch_0_top_False.h5\n",
            "176606448/176606448 [==============================] - 31s 0us/step\n",
            "Model: \"model\"\n",
            "__________________________________________________________________________________________________\n",
            " Layer (type)                   Output Shape         Param #     Connected to                     \n",
            "==================================================================================================\n",
            " input_1 (InputLayer)           [(None, 64, 64, 64,  0           []                               \n",
            "                                 3)]                                                              \n",
            "                                                                                                  \n",
            " block1_conv1 (Conv3D)          (None, 64, 64, 64,   5248        ['input_1[0][0]']                \n",
            "                                64)                                                               \n",
            "                                                                                                  \n",
            " block1_conv2 (Conv3D)          (None, 64, 64, 64,   110656      ['block1_conv1[0][0]']           \n",
            "                                64)                                                               \n",
            "                                                                                                  \n",
            " block1_pool (MaxPooling3D)     (None, 32, 32, 32,   0           ['block1_conv2[0][0]']           \n",
            "                                64)                                                               \n",
            "                                                                                                  \n",
            " block2_conv1 (Conv3D)          (None, 32, 32, 32,   221312      ['block1_pool[0][0]']            \n",
            "                                128)                                                              \n",
            "                                                                                                  \n",
            " block2_conv2 (Conv3D)          (None, 32, 32, 32,   442496      ['block2_conv1[0][0]']           \n",
            "                                128)                                                              \n",
            "                                                                                                  \n",
            " block2_pool (MaxPooling3D)     (None, 16, 16, 16,   0           ['block2_conv2[0][0]']           \n",
            "                                128)                                                              \n",
            "                                                                                                  \n",
            " block3_conv1 (Conv3D)          (None, 16, 16, 16,   884992      ['block2_pool[0][0]']            \n",
            "                                256)                                                              \n",
            "                                                                                                  \n",
            " block3_conv2 (Conv3D)          (None, 16, 16, 16,   1769728     ['block3_conv1[0][0]']           \n",
            "                                256)                                                              \n",
            "                                                                                                  \n",
            " block3_conv3 (Conv3D)          (None, 16, 16, 16,   1769728     ['block3_conv2[0][0]']           \n",
            "                                256)                                                              \n",
            "                                                                                                  \n",
            " block3_pool (MaxPooling3D)     (None, 8, 8, 8, 256  0           ['block3_conv3[0][0]']           \n",
            "                                )                                                                 \n",
            "                                                                                                  \n",
            " block4_conv1 (Conv3D)          (None, 8, 8, 8, 512  3539456     ['block3_pool[0][0]']            \n",
            "                                )                                                                 \n",
            "                                                                                                  \n",
            " block4_conv2 (Conv3D)          (None, 8, 8, 8, 512  7078400     ['block4_conv1[0][0]']           \n",
            "                                )                                                                 \n",
            "                                                                                                  \n",
            " block4_conv3 (Conv3D)          (None, 8, 8, 8, 512  7078400     ['block4_conv2[0][0]']           \n",
            "                                )                                                                 \n",
            "                                                                                                  \n",
            " block4_pool (MaxPooling3D)     (None, 4, 4, 4, 512  0           ['block4_conv3[0][0]']           \n",
            "                                )                                                                 \n",
            "                                                                                                  \n",
            " block5_conv1 (Conv3D)          (None, 4, 4, 4, 512  7078400     ['block4_pool[0][0]']            \n",
            "                                )                                                                 \n",
            "                                                                                                  \n",
            " block5_conv2 (Conv3D)          (None, 4, 4, 4, 512  7078400     ['block5_conv1[0][0]']           \n",
            "                                )                                                                 \n",
            "                                                                                                  \n",
            " block5_conv3 (Conv3D)          (None, 4, 4, 4, 512  7078400     ['block5_conv2[0][0]']           \n",
            "                                )                                                                 \n",
            "                                                                                                  \n",
            " block5_pool (MaxPooling3D)     (None, 2, 2, 2, 512  0           ['block5_conv3[0][0]']           \n",
            "                                )                                                                 \n",
            "                                                                                                  \n",
            " center_block1_conv (Conv3D)    (None, 2, 2, 2, 512  7077888     ['block5_pool[0][0]']            \n",
            "                                )                                                                 \n",
            "                                                                                                  \n",
            " center_block1_bn (BatchNormali  (None, 2, 2, 2, 512  2048       ['center_block1_conv[0][0]']     \n",
            " zation)                        )                                                                 \n",
            "                                                                                                  \n",
            " center_block1_relu (Activation  (None, 2, 2, 2, 512  0          ['center_block1_bn[0][0]']       \n",
            " )                              )                                                                 \n",
            "                                                                                                  \n",
            " center_block2_conv (Conv3D)    (None, 2, 2, 2, 512  7077888     ['center_block1_relu[0][0]']     \n",
            "                                )                                                                 \n",
            "                                                                                                  \n",
            " center_block2_bn (BatchNormali  (None, 2, 2, 2, 512  2048       ['center_block2_conv[0][0]']     \n",
            " zation)                        )                                                                 \n",
            "                                                                                                  \n",
            " center_block2_relu (Activation  (None, 2, 2, 2, 512  0          ['center_block2_bn[0][0]']       \n",
            " )                              )                                                                 \n",
            "                                                                                                  \n",
            " decoder_stage0_upsampling (UpS  (None, 4, 4, 4, 512  0          ['center_block2_relu[0][0]']     \n",
            " ampling3D)                     )                                                                 \n",
            "                                                                                                  \n",
            " decoder_stage0_concat (Concate  (None, 4, 4, 4, 102  0          ['decoder_stage0_upsampling[0][0]\n",
            " nate)                          4)                               ',                               \n",
            "                                                                  'block5_conv3[0][0]']           \n",
            "                                                                                                  \n",
            " decoder_stage0a_conv (Conv3D)  (None, 4, 4, 4, 256  7077888     ['decoder_stage0_concat[0][0]']  \n",
            "                                )                                                                 \n",
            "                                                                                                  \n",
            " decoder_stage0a_bn (BatchNorma  (None, 4, 4, 4, 256  1024       ['decoder_stage0a_conv[0][0]']   \n",
            " lization)                      )                                                                 \n",
            "                                                                                                  \n",
            " decoder_stage0a_relu (Activati  (None, 4, 4, 4, 256  0          ['decoder_stage0a_bn[0][0]']     \n",
            " on)                            )                                                                 \n",
            "                                                                                                  \n",
            " decoder_stage0b_conv (Conv3D)  (None, 4, 4, 4, 256  1769472     ['decoder_stage0a_relu[0][0]']   \n",
            "                                )                                                                 \n",
            "                                                                                                  \n",
            " decoder_stage0b_bn (BatchNorma  (None, 4, 4, 4, 256  1024       ['decoder_stage0b_conv[0][0]']   \n",
            " lization)                      )                                                                 \n",
            "                                                                                                  \n",
            " decoder_stage0b_relu (Activati  (None, 4, 4, 4, 256  0          ['decoder_stage0b_bn[0][0]']     \n",
            " on)                            )                                                                 \n",
            "                                                                                                  \n",
            " decoder_stage1_upsampling (UpS  (None, 8, 8, 8, 256  0          ['decoder_stage0b_relu[0][0]']   \n",
            " ampling3D)                     )                                                                 \n",
            "                                                                                                  \n",
            " decoder_stage1_concat (Concate  (None, 8, 8, 8, 768  0          ['decoder_stage1_upsampling[0][0]\n",
            " nate)                          )                                ',                               \n",
            "                                                                  'block4_conv3[0][0]']           \n",
            "                                                                                                  \n",
            " decoder_stage1a_conv (Conv3D)  (None, 8, 8, 8, 128  2654208     ['decoder_stage1_concat[0][0]']  \n",
            "                                )                                                                 \n",
            "                                                                                                  \n",
            " decoder_stage1a_bn (BatchNorma  (None, 8, 8, 8, 128  512        ['decoder_stage1a_conv[0][0]']   \n",
            " lization)                      )                                                                 \n",
            "                                                                                                  \n",
            " decoder_stage1a_relu (Activati  (None, 8, 8, 8, 128  0          ['decoder_stage1a_bn[0][0]']     \n",
            " on)                            )                                                                 \n",
            "                                                                                                  \n",
            " decoder_stage1b_conv (Conv3D)  (None, 8, 8, 8, 128  442368      ['decoder_stage1a_relu[0][0]']   \n",
            "                                )                                                                 \n",
            "                                                                                                  \n",
            " decoder_stage1b_bn (BatchNorma  (None, 8, 8, 8, 128  512        ['decoder_stage1b_conv[0][0]']   \n",
            " lization)                      )                                                                 \n",
            "                                                                                                  \n",
            " decoder_stage1b_relu (Activati  (None, 8, 8, 8, 128  0          ['decoder_stage1b_bn[0][0]']     \n",
            " on)                            )                                                                 \n",
            "                                                                                                  \n",
            " decoder_stage2_upsampling (UpS  (None, 16, 16, 16,   0          ['decoder_stage1b_relu[0][0]']   \n",
            " ampling3D)                     128)                                                              \n",
            "                                                                                                  \n",
            " decoder_stage2_concat (Concate  (None, 16, 16, 16,   0          ['decoder_stage2_upsampling[0][0]\n",
            " nate)                          384)                             ',                               \n",
            "                                                                  'block3_conv3[0][0]']           \n",
            "                                                                                                  \n",
            " decoder_stage2a_conv (Conv3D)  (None, 16, 16, 16,   663552      ['decoder_stage2_concat[0][0]']  \n",
            "                                64)                                                               \n",
            "                                                                                                  \n",
            " decoder_stage2a_bn (BatchNorma  (None, 16, 16, 16,   256        ['decoder_stage2a_conv[0][0]']   \n",
            " lization)                      64)                                                               \n",
            "                                                                                                  \n",
            " decoder_stage2a_relu (Activati  (None, 16, 16, 16,   0          ['decoder_stage2a_bn[0][0]']     \n",
            " on)                            64)                                                               \n",
            "                                                                                                  \n",
            " decoder_stage2b_conv (Conv3D)  (None, 16, 16, 16,   110592      ['decoder_stage2a_relu[0][0]']   \n",
            "                                64)                                                               \n",
            "                                                                                                  \n",
            " decoder_stage2b_bn (BatchNorma  (None, 16, 16, 16,   256        ['decoder_stage2b_conv[0][0]']   \n",
            " lization)                      64)                                                               \n",
            "                                                                                                  \n",
            " decoder_stage2b_relu (Activati  (None, 16, 16, 16,   0          ['decoder_stage2b_bn[0][0]']     \n",
            " on)                            64)                                                               \n",
            "                                                                                                  \n",
            " decoder_stage3_upsampling (UpS  (None, 32, 32, 32,   0          ['decoder_stage2b_relu[0][0]']   \n",
            " ampling3D)                     64)                                                               \n",
            "                                                                                                  \n",
            " decoder_stage3_concat (Concate  (None, 32, 32, 32,   0          ['decoder_stage3_upsampling[0][0]\n",
            " nate)                          192)                             ',                               \n",
            "                                                                  'block2_conv2[0][0]']           \n",
            "                                                                                                  \n",
            " decoder_stage3a_conv (Conv3D)  (None, 32, 32, 32,   165888      ['decoder_stage3_concat[0][0]']  \n",
            "                                32)                                                               \n",
            "                                                                                                  \n",
            " decoder_stage3a_bn (BatchNorma  (None, 32, 32, 32,   128        ['decoder_stage3a_conv[0][0]']   \n",
            " lization)                      32)                                                               \n",
            "                                                                                                  \n",
            " decoder_stage3a_relu (Activati  (None, 32, 32, 32,   0          ['decoder_stage3a_bn[0][0]']     \n",
            " on)                            32)                                                               \n",
            "                                                                                                  \n",
            " decoder_stage3b_conv (Conv3D)  (None, 32, 32, 32,   27648       ['decoder_stage3a_relu[0][0]']   \n",
            "                                32)                                                               \n",
            "                                                                                                  \n",
            " decoder_stage3b_bn (BatchNorma  (None, 32, 32, 32,   128        ['decoder_stage3b_conv[0][0]']   \n",
            " lization)                      32)                                                               \n",
            "                                                                                                  \n",
            " decoder_stage3b_relu (Activati  (None, 32, 32, 32,   0          ['decoder_stage3b_bn[0][0]']     \n",
            " on)                            32)                                                               \n",
            "                                                                                                  \n",
            " decoder_stage4_upsampling (UpS  (None, 64, 64, 64,   0          ['decoder_stage3b_relu[0][0]']   \n",
            " ampling3D)                     32)                                                               \n",
            "                                                                                                  \n",
            " decoder_stage4a_conv (Conv3D)  (None, 64, 64, 64,   13824       ['decoder_stage4_upsampling[0][0]\n",
            "                                16)                              ']                               \n",
            "                                                                                                  \n",
            " decoder_stage4a_bn (BatchNorma  (None, 64, 64, 64,   64         ['decoder_stage4a_conv[0][0]']   \n",
            " lization)                      16)                                                               \n",
            "                                                                                                  \n",
            " decoder_stage4a_relu (Activati  (None, 64, 64, 64,   0          ['decoder_stage4a_bn[0][0]']     \n",
            " on)                            16)                                                               \n",
            "                                                                                                  \n",
            " decoder_stage4b_conv (Conv3D)  (None, 64, 64, 64,   6912        ['decoder_stage4a_relu[0][0]']   \n",
            "                                16)                                                               \n",
            "                                                                                                  \n",
            " decoder_stage4b_bn (BatchNorma  (None, 64, 64, 64,   64         ['decoder_stage4b_conv[0][0]']   \n",
            " lization)                      16)                                                               \n",
            "                                                                                                  \n",
            " decoder_stage4b_relu (Activati  (None, 64, 64, 64,   0          ['decoder_stage4b_bn[0][0]']     \n",
            " on)                            16)                                                               \n",
            "                                                                                                  \n",
            " final_conv (Conv3D)            (None, 64, 64, 64,   1732        ['decoder_stage4b_relu[0][0]']   \n",
            "                                4)                                                                \n",
            "                                                                                                  \n",
            " softmax (Activation)           (None, 64, 64, 64,   0           ['final_conv[0][0]']             \n",
            "                                4)                                                                \n",
            "                                                                                                  \n",
            "==================================================================================================\n",
            "Total params: 71,233,540\n",
            "Trainable params: 71,229,508\n",
            "Non-trainable params: 4,032\n",
            "__________________________________________________________________________________________________\n",
            "None\n"
          ]
        }
      ]
    },
    {
      "cell_type": "code",
      "source": [
        "#Fit the model\n",
        "history=model.fit(X_train_prep, \n",
        "          y_train,\n",
        "          batch_size=8, \n",
        "          epochs=50,\n",
        "          verbose=1,\n",
        "          validation_data=(X_test_prep, y_test))"
      ],
      "metadata": {
        "colab": {
          "base_uri": "https://localhost:8080/"
        },
        "id": "DvlDVfLPOnn7",
        "outputId": "82695e4c-a406-4eef-b56f-6f578466709f"
      },
      "execution_count": 23,
      "outputs": [
        {
          "output_type": "stream",
          "name": "stdout",
          "text": [
            "Epoch 1/50\n",
            "8/8 [==============================] - 45s 3s/step - loss: 1.0018 - iou_score: 0.0640 - f1-score: 0.1124 - val_loss: 1.3829 - val_iou_score: 0.0455 - val_f1-score: 0.0796\n",
            "Epoch 2/50\n",
            "8/8 [==============================] - 13s 2s/step - loss: 0.9666 - iou_score: 0.2139 - f1-score: 0.3149 - val_loss: 1.2162 - val_iou_score: 0.0601 - val_f1-score: 0.1030\n",
            "Epoch 3/50\n",
            "8/8 [==============================] - 13s 2s/step - loss: 0.9483 - iou_score: 0.3315 - f1-score: 0.4482 - val_loss: 1.0252 - val_iou_score: 0.1665 - val_f1-score: 0.2583\n",
            "Epoch 4/50\n",
            "8/8 [==============================] - 13s 2s/step - loss: 0.9370 - iou_score: 0.3659 - f1-score: 0.4709 - val_loss: 1.0650 - val_iou_score: 0.1093 - val_f1-score: 0.1715\n",
            "Epoch 5/50\n",
            "8/8 [==============================] - 13s 2s/step - loss: 0.9279 - iou_score: 0.4081 - f1-score: 0.5100 - val_loss: 1.0287 - val_iou_score: 0.1375 - val_f1-score: 0.2070\n",
            "Epoch 6/50\n",
            "8/8 [==============================] - 13s 2s/step - loss: 0.9197 - iou_score: 0.4502 - f1-score: 0.5515 - val_loss: 1.0019 - val_iou_score: 0.1650 - val_f1-score: 0.2404\n",
            "Epoch 7/50\n",
            "8/8 [==============================] - 13s 2s/step - loss: 0.9122 - iou_score: 0.4729 - f1-score: 0.5707 - val_loss: 0.9789 - val_iou_score: 0.2087 - val_f1-score: 0.3014\n",
            "Epoch 8/50\n",
            "8/8 [==============================] - 13s 2s/step - loss: 0.9074 - iou_score: 0.4789 - f1-score: 0.5705 - val_loss: 0.9614 - val_iou_score: 0.2683 - val_f1-score: 0.3804\n",
            "Epoch 9/50\n",
            "8/8 [==============================] - 13s 2s/step - loss: 0.9023 - iou_score: 0.4920 - f1-score: 0.5782 - val_loss: 0.9426 - val_iou_score: 0.3316 - val_f1-score: 0.4434\n",
            "Epoch 10/50\n",
            "8/8 [==============================] - 13s 2s/step - loss: 0.8982 - iou_score: 0.4816 - f1-score: 0.5602 - val_loss: 0.9352 - val_iou_score: 0.3749 - val_f1-score: 0.4898\n",
            "Epoch 11/50\n",
            "8/8 [==============================] - 13s 2s/step - loss: 0.8942 - iou_score: 0.5015 - f1-score: 0.5863 - val_loss: 0.9313 - val_iou_score: 0.4117 - val_f1-score: 0.5269\n",
            "Epoch 12/50\n",
            "8/8 [==============================] - 13s 2s/step - loss: 0.8877 - iou_score: 0.5320 - f1-score: 0.6137 - val_loss: 0.9161 - val_iou_score: 0.4639 - val_f1-score: 0.5691\n",
            "Epoch 13/50\n",
            "8/8 [==============================] - 13s 2s/step - loss: 0.8803 - iou_score: 0.5557 - f1-score: 0.6488 - val_loss: 0.9188 - val_iou_score: 0.4665 - val_f1-score: 0.5726\n",
            "Epoch 14/50\n",
            "8/8 [==============================] - 13s 2s/step - loss: 0.8756 - iou_score: 0.6076 - f1-score: 0.7253 - val_loss: 0.8977 - val_iou_score: 0.5417 - val_f1-score: 0.6278\n",
            "Epoch 15/50\n",
            "8/8 [==============================] - 13s 2s/step - loss: 0.8691 - iou_score: 0.6150 - f1-score: 0.7263 - val_loss: 0.8954 - val_iou_score: 0.5515 - val_f1-score: 0.6442\n",
            "Epoch 16/50\n",
            "8/8 [==============================] - 13s 2s/step - loss: 0.8631 - iou_score: 0.6472 - f1-score: 0.7610 - val_loss: 0.8864 - val_iou_score: 0.6011 - val_f1-score: 0.7075\n",
            "Epoch 17/50\n",
            "8/8 [==============================] - 13s 2s/step - loss: 0.8617 - iou_score: 0.6507 - f1-score: 0.7685 - val_loss: 0.8781 - val_iou_score: 0.6536 - val_f1-score: 0.7625\n",
            "Epoch 18/50\n",
            "8/8 [==============================] - 13s 2s/step - loss: 0.8547 - iou_score: 0.6542 - f1-score: 0.7667 - val_loss: 0.8783 - val_iou_score: 0.6526 - val_f1-score: 0.7676\n",
            "Epoch 19/50\n",
            "8/8 [==============================] - 13s 2s/step - loss: 0.8536 - iou_score: 0.6611 - f1-score: 0.7752 - val_loss: 0.8739 - val_iou_score: 0.6766 - val_f1-score: 0.7955\n",
            "Epoch 20/50\n",
            "8/8 [==============================] - 13s 2s/step - loss: 0.8509 - iou_score: 0.6698 - f1-score: 0.7834 - val_loss: 0.8827 - val_iou_score: 0.6122 - val_f1-score: 0.7165\n",
            "Epoch 21/50\n",
            "8/8 [==============================] - 13s 2s/step - loss: 0.8471 - iou_score: 0.6573 - f1-score: 0.7660 - val_loss: 0.8670 - val_iou_score: 0.6843 - val_f1-score: 0.7956\n",
            "Epoch 22/50\n",
            "8/8 [==============================] - 13s 2s/step - loss: 0.8431 - iou_score: 0.6768 - f1-score: 0.7860 - val_loss: 0.8654 - val_iou_score: 0.6981 - val_f1-score: 0.8092\n",
            "Epoch 23/50\n",
            "8/8 [==============================] - 13s 2s/step - loss: 0.8445 - iou_score: 0.6595 - f1-score: 0.7643 - val_loss: 0.8582 - val_iou_score: 0.6986 - val_f1-score: 0.8035\n",
            "Epoch 24/50\n",
            "8/8 [==============================] - 13s 2s/step - loss: 0.8399 - iou_score: 0.6721 - f1-score: 0.7750 - val_loss: 0.8576 - val_iou_score: 0.7050 - val_f1-score: 0.8084\n",
            "Epoch 25/50\n",
            "8/8 [==============================] - 13s 2s/step - loss: 0.8355 - iou_score: 0.6986 - f1-score: 0.8041 - val_loss: 0.8532 - val_iou_score: 0.7266 - val_f1-score: 0.8298\n",
            "Epoch 26/50\n",
            "8/8 [==============================] - 13s 2s/step - loss: 0.8346 - iou_score: 0.6966 - f1-score: 0.8013 - val_loss: 0.8519 - val_iou_score: 0.7217 - val_f1-score: 0.8219\n",
            "Epoch 27/50\n",
            "8/8 [==============================] - 13s 2s/step - loss: 0.8381 - iou_score: 0.6832 - f1-score: 0.7903 - val_loss: 0.8501 - val_iou_score: 0.7189 - val_f1-score: 0.8243\n",
            "Epoch 28/50\n",
            "8/8 [==============================] - 13s 2s/step - loss: 0.8352 - iou_score: 0.6866 - f1-score: 0.7944 - val_loss: 0.8464 - val_iou_score: 0.7408 - val_f1-score: 0.8403\n",
            "Epoch 29/50\n",
            "8/8 [==============================] - 13s 2s/step - loss: 0.8279 - iou_score: 0.6961 - f1-score: 0.8011 - val_loss: 0.8495 - val_iou_score: 0.7089 - val_f1-score: 0.8072\n",
            "Epoch 30/50\n",
            "8/8 [==============================] - 13s 2s/step - loss: 0.8309 - iou_score: 0.7081 - f1-score: 0.8126 - val_loss: 0.8471 - val_iou_score: 0.7298 - val_f1-score: 0.8329\n",
            "Epoch 31/50\n",
            "8/8 [==============================] - 13s 2s/step - loss: 0.8266 - iou_score: 0.6866 - f1-score: 0.7890 - val_loss: 0.8435 - val_iou_score: 0.7147 - val_f1-score: 0.8135\n",
            "Epoch 32/50\n",
            "8/8 [==============================] - 13s 2s/step - loss: 0.8298 - iou_score: 0.6975 - f1-score: 0.8008 - val_loss: 0.8526 - val_iou_score: 0.6844 - val_f1-score: 0.7983\n",
            "Epoch 33/50\n",
            "8/8 [==============================] - 13s 2s/step - loss: 0.8263 - iou_score: 0.6915 - f1-score: 0.7905 - val_loss: 0.8357 - val_iou_score: 0.7332 - val_f1-score: 0.8306\n",
            "Epoch 34/50\n",
            "8/8 [==============================] - 13s 2s/step - loss: 0.8214 - iou_score: 0.7247 - f1-score: 0.8264 - val_loss: 0.8334 - val_iou_score: 0.7495 - val_f1-score: 0.8464\n",
            "Epoch 35/50\n",
            "8/8 [==============================] - 13s 2s/step - loss: 0.8214 - iou_score: 0.7070 - f1-score: 0.8092 - val_loss: 0.8369 - val_iou_score: 0.7278 - val_f1-score: 0.8316\n",
            "Epoch 36/50\n",
            "8/8 [==============================] - 13s 2s/step - loss: 0.8251 - iou_score: 0.6587 - f1-score: 0.7607 - val_loss: 0.8298 - val_iou_score: 0.7464 - val_f1-score: 0.8451\n",
            "Epoch 37/50\n",
            "8/8 [==============================] - 13s 2s/step - loss: 0.8235 - iou_score: 0.7076 - f1-score: 0.8110 - val_loss: 0.8250 - val_iou_score: 0.7502 - val_f1-score: 0.8463\n",
            "Epoch 38/50\n",
            "8/8 [==============================] - 13s 2s/step - loss: 0.8173 - iou_score: 0.7313 - f1-score: 0.8318 - val_loss: 0.8275 - val_iou_score: 0.7362 - val_f1-score: 0.8384\n",
            "Epoch 39/50\n",
            "8/8 [==============================] - 13s 2s/step - loss: 0.8183 - iou_score: 0.7268 - f1-score: 0.8280 - val_loss: 0.8230 - val_iou_score: 0.7502 - val_f1-score: 0.8476\n",
            "Epoch 40/50\n",
            "8/8 [==============================] - 13s 2s/step - loss: 0.8127 - iou_score: 0.7148 - f1-score: 0.8075 - val_loss: 0.8350 - val_iou_score: 0.6794 - val_f1-score: 0.7947\n",
            "Epoch 41/50\n",
            "8/8 [==============================] - 13s 2s/step - loss: 0.8121 - iou_score: 0.7096 - f1-score: 0.8036 - val_loss: 0.8255 - val_iou_score: 0.7279 - val_f1-score: 0.8327\n",
            "Epoch 42/50\n",
            "8/8 [==============================] - 13s 2s/step - loss: 0.8133 - iou_score: 0.7203 - f1-score: 0.8187 - val_loss: 0.8260 - val_iou_score: 0.7113 - val_f1-score: 0.8071\n",
            "Epoch 43/50\n",
            "8/8 [==============================] - 13s 2s/step - loss: 0.8112 - iou_score: 0.7189 - f1-score: 0.8120 - val_loss: 0.8163 - val_iou_score: 0.7495 - val_f1-score: 0.8466\n",
            "Epoch 44/50\n",
            "8/8 [==============================] - 13s 2s/step - loss: 0.8116 - iou_score: 0.7433 - f1-score: 0.8403 - val_loss: 0.8308 - val_iou_score: 0.6832 - val_f1-score: 0.7988\n",
            "Epoch 45/50\n",
            "8/8 [==============================] - 13s 2s/step - loss: 0.8102 - iou_score: 0.7223 - f1-score: 0.8167 - val_loss: 0.8206 - val_iou_score: 0.7233 - val_f1-score: 0.8248\n",
            "Epoch 46/50\n",
            "8/8 [==============================] - 13s 2s/step - loss: 0.8057 - iou_score: 0.7542 - f1-score: 0.8501 - val_loss: 0.8290 - val_iou_score: 0.6921 - val_f1-score: 0.8000\n",
            "Epoch 47/50\n",
            "8/8 [==============================] - 13s 2s/step - loss: 0.8136 - iou_score: 0.7173 - f1-score: 0.8172 - val_loss: 0.8170 - val_iou_score: 0.7381 - val_f1-score: 0.8375\n",
            "Epoch 48/50\n",
            "8/8 [==============================] - 13s 2s/step - loss: 0.8064 - iou_score: 0.7468 - f1-score: 0.8414 - val_loss: 0.8157 - val_iou_score: 0.7447 - val_f1-score: 0.8423\n",
            "Epoch 49/50\n",
            "8/8 [==============================] - 13s 2s/step - loss: 0.8083 - iou_score: 0.7386 - f1-score: 0.8316 - val_loss: 0.8199 - val_iou_score: 0.7206 - val_f1-score: 0.8231\n",
            "Epoch 50/50\n",
            "8/8 [==============================] - 13s 2s/step - loss: 0.8090 - iou_score: 0.7509 - f1-score: 0.8449 - val_loss: 0.8157 - val_iou_score: 0.7400 - val_f1-score: 0.8397\n"
          ]
        }
      ]
    },
    {
      "cell_type": "code",
      "source": [
        "#Save model for future use\n",
        "model.save('/content/drive/MyDrive/Colab Notebooks/data_for_3D_Unet/outputs_sandstone_bita.h5')"
      ],
      "metadata": {
        "id": "PRw1EiG-OnqZ"
      },
      "execution_count": 24,
      "outputs": []
    },
    {
      "cell_type": "code",
      "source": [
        "###\n",
        "#plot the training and validation IoU and loss at each epoch\n",
        "loss = history.history['loss']\n",
        "val_loss = history.history['val_loss']\n",
        "epochs = range(1, len(loss) + 1)\n",
        "plt.plot(epochs, loss, 'y', label='Training loss')\n",
        "plt.plot(epochs, val_loss, 'r', label='Validation loss')\n",
        "plt.title('Training and validation loss')\n",
        "plt.xlabel('Epochs')\n",
        "plt.ylabel('Loss')\n",
        "plt.legend()\n",
        "plt.show()\n",
        "\n",
        "acc = history.history['iou_score']\n",
        "val_acc = history.history['val_iou_score']\n",
        "\n",
        "plt.plot(epochs, acc, 'y', label='Training IOU')\n",
        "plt.plot(epochs, val_acc, 'r', label='Validation IOU')\n",
        "plt.title('Training and validation IOU')\n",
        "plt.xlabel('Epochs')\n",
        "plt.ylabel('IOU')\n",
        "plt.legend()\n",
        "plt.show()"
      ],
      "metadata": {
        "colab": {
          "base_uri": "https://localhost:8080/",
          "height": 573
        },
        "id": "696yT5BTOnuZ",
        "outputId": "99df04a7-4b9e-409a-ab41-a23c8cb9823d"
      },
      "execution_count": 25,
      "outputs": [
        {
          "output_type": "display_data",
          "data": {
            "text/plain": [
              "<Figure size 432x288 with 1 Axes>"
            ],
            "image/png": "[encoded data removed]"
          },
          "metadata": {
            "needs_background": "light"
          }
        },
        {
          "output_type": "display_data",
          "data": {
            "text/plain": [
              "<Figure size 432x288 with 1 Axes>"
            ],
            "image/png": "[encoded data removed]"
          },
          "metadata": {
            "needs_background": "light"
          }
        }
      ]
    },
    {
      "cell_type": "code",
      "source": [
        "#Load the pretrained model for testing and predictions. \n",
        "from keras.models import load_model\n",
        "my_model = load_model('/content/drive/MyDrive/Colab Notebooks/data_for_3D_Unet/outputs_sandstone_bita.h5', compile=False)\n",
        "#If you load a different model do not forget to preprocess accordingly. "
      ],
      "metadata": {
        "id": "7NVaffiNOwIL"
      },
      "execution_count": 26,
      "outputs": []
    },
    {
      "cell_type": "code",
      "source": [
        "#Predict on the test data\n",
        "y_pred=my_model.predict(X_test)\n",
        "y_pred_argmax=np.argmax(y_pred, axis=4)\n",
        "y_test_argmax = np.argmax(y_test, axis=4)"
      ],
      "metadata": {
        "colab": {
          "base_uri": "https://localhost:8080/"
        },
        "id": "ytG5otOVOwKq",
        "outputId": "7edb0d42-e9c7-43a5-c499-5e80b25c0077"
      },
      "execution_count": 27,
      "outputs": [
        {
          "output_type": "stream",
          "name": "stdout",
          "text": [
            "1/1 [==============================] - 1s 568ms/step\n"
          ]
        }
      ]
    },
    {
      "cell_type": "code",
      "source": [
        "print(y_pred_argmax.shape)\n",
        "print(y_test_argmax.shape)\n",
        "print(np.unique(y_pred_argmax))\n",
        "#Using built in keras function for IoU\n",
        "#Only works on TF > 2.0\n",
        "from keras.metrics import MeanIoU\n",
        "from keras.metrics import MeanIoU\n",
        "n_classes = 4\n",
        "IOU_keras = MeanIoU(num_classes=n_classes)  \n",
        "IOU_keras.update_state(y_test_argmax, y_pred_argmax)\n",
        "print(\"Mean IoU =\", IOU_keras.result().numpy())"
      ],
      "metadata": {
        "colab": {
          "base_uri": "https://localhost:8080/"
        },
        "id": "hzJWIvSwOwM9",
        "outputId": "106c1b85-a1e6-499b-bf1d-cb16dd8d2c0f"
      },
      "execution_count": 28,
      "outputs": [
        {
          "output_type": "stream",
          "name": "stdout",
          "text": [
            "(7, 64, 64, 64)\n",
            "(7, 64, 64, 64)\n",
            "[0 2 3]\n",
            "Mean IoU = 0.007063377\n"
          ]
        }
      ]
    },
    {
      "cell_type": "code",
      "source": [
        "#Test some random images\n",
        "import random\n",
        "test_img_number = random.randint(0, len(X_test))\n",
        "test_img = X_test[test_img_number]\n",
        "ground_truth=y_test[test_img_number]\n",
        "\n",
        "test_img_input=np.expand_dims(test_img, 0)\n",
        "test_img_input1 = preprocess_input(test_img_input)\n",
        "\n",
        "test_pred1 = my_model.predict(test_img_input1)\n",
        "test_prediction1 = np.argmax(test_pred1, axis=4)[0,:,:,:]\n",
        "print(test_prediction1.shape)"
      ],
      "metadata": {
        "colab": {
          "base_uri": "https://localhost:8080/"
        },
        "id": "759UdgiSOwPh",
        "outputId": "1e4d44de-3af7-425d-a142-03c67b5f19b5"
      },
      "execution_count": 29,
      "outputs": [
        {
          "output_type": "stream",
          "name": "stdout",
          "text": [
            "1/1 [==============================] - 0s 447ms/step\n",
            "(64, 64, 64)\n"
          ]
        }
      ]
    },
    {
      "cell_type": "code",
      "source": [
        "ground_truth_argmax = np.argmax(ground_truth, axis=3)\n",
        "print(test_img.shape)"
      ],
      "metadata": {
        "colab": {
          "base_uri": "https://localhost:8080/"
        },
        "id": "hCtVSgJsOwRf",
        "outputId": "c2cecd2e-ca2f-430c-c4e9-a28eb4282f0d"
      },
      "execution_count": 30,
      "outputs": [
        {
          "output_type": "stream",
          "name": "stdout",
          "text": [
            "(64, 64, 64, 3)\n"
          ]
        }
      ]
    },
    {
      "cell_type": "code",
      "source": [
        "#Plot individual slices from test predictions for verification\n",
        "slice = 60\n",
        "plt.figure(figsize=(12, 8))\n",
        "plt.subplot(231)\n",
        "plt.title('Testing Image')\n",
        "plt.imshow(test_img[slice,:,:,0], cmap='gray')\n",
        "plt.subplot(232)\n",
        "plt.title('Testing Label')\n",
        "plt.imshow(ground_truth_argmax[slice,:,:])\n",
        "plt.subplot(233)\n",
        "plt.title('Prediction on test image')\n",
        "plt.imshow(test_prediction1[slice,:,:])\n",
        "plt.show()"
      ],
      "metadata": {
        "colab": {
          "base_uri": "https://localhost:8080/",
          "height": 261
        },
        "id": "IMPx6bb6OwT6",
        "outputId": "d583184f-5c8e-4b48-a627-9f9af534f742"
      },
      "execution_count": 32,
      "outputs": [
        {
          "output_type": "display_data",
          "data": {
            "text/plain": [
              "<Figure size 864x576 with 3 Axes>"
            ],
            "image/png": "[encoded data removed]"
          },
          "metadata": {
            "needs_background": "light"
          }
        }
      ]
    },
    {
      "cell_type": "code",
      "source": [
        "#Break the large image (volume) into patches of same size as the training images (patches)\n",
        "large_image = io.imread('/content/drive/MyDrive/Colab Notebooks/data_for_3D_Unet/448_images_512x512.tif')\n",
        "patches = patchify(large_image, (64, 64, 64), step=64)  #Step=256 for 256 patches means no overlap\n",
        "print(large_image.shape)\n",
        "print(patches.shape)"
      ],
      "metadata": {
        "colab": {
          "base_uri": "https://localhost:8080/"
        },
        "id": "1SfnNv2wO5f1",
        "outputId": "4d1faa54-2486-495e-9309-bb9709f8f83e"
      },
      "execution_count": null,
      "outputs": [
        {
          "output_type": "stream",
          "name": "stdout",
          "text": [
            "(448, 512, 512)\n",
            "(7, 8, 8, 64, 64, 64)\n"
          ]
        }
      ]
    },
    {
      "cell_type": "code",
      "source": [
        "# Predict each 3D patch   \n",
        "predicted_patches = []\n",
        "for i in range(patches.shape[0]):\n",
        "  for j in range(patches.shape[1]):\n",
        "    for k in range(patches.shape[2]):\n",
        "      #print(i,j,k)\n",
        "      single_patch = patches[i,j,k, :,:,:]\n",
        "      single_patch_3ch = np.stack((single_patch,)*3, axis=-1)\n",
        "      single_patch_3ch_input = preprocess_input(np.expand_dims(single_patch_3ch, axis=0))\n",
        "      single_patch_prediction = my_model.predict(single_patch_3ch_input)\n",
        "      single_patch_prediction_argmax = np.argmax(single_patch_prediction, axis=4)[0,:,:,:]\n",
        "      predicted_patches.append(single_patch_prediction_argmax)\n",
        "      "
      ],
      "metadata": {
        "colab": {
          "base_uri": "https://localhost:8080/"
        },
        "id": "OA1bJ9FqO5iG",
        "outputId": "260d3598-44e7-4b57-c9e6-bc9c4dd45671"
      },
      "execution_count": null,
      "outputs": [
        {
          "output_type": "stream",
          "name": "stdout",
          "text": [
            "1/1 [==============================] - 0s 23ms/step\n",
            "1/1 [==============================] - 0s 29ms/step\n",
            "1/1 [==============================] - 0s 27ms/step\n",
            "1/1 [==============================] - 0s 23ms/step\n",
            "1/1 [==============================] - 0s 24ms/step\n",
            "1/1 [==============================] - 0s 23ms/step\n",
            "1/1 [==============================] - 0s 35ms/step\n",
            "1/1 [==============================] - 0s 23ms/step\n",
            "1/1 [==============================] - 0s 24ms/step\n",
            "1/1 [==============================] - 0s 23ms/step\n",
            "1/1 [==============================] - 0s 24ms/step\n",
            "1/1 [==============================] - 0s 25ms/step\n",
            "1/1 [==============================] - 0s 30ms/step\n",
            "1/1 [==============================] - 0s 30ms/step\n",
            "1/1 [==============================] - 0s 27ms/step\n",
            "1/1 [==============================] - 0s 24ms/step\n",
            "1/1 [==============================] - 0s 23ms/step\n",
            "1/1 [==============================] - 0s 24ms/step\n",
            "1/1 [==============================] - 0s 26ms/step\n",
            "1/1 [==============================] - 0s 23ms/step\n",
            "1/1 [==============================] - 0s 24ms/step\n",
            "1/1 [==============================] - 0s 26ms/step\n",
            "1/1 [==============================] - 0s 25ms/step\n",
            "1/1 [==============================] - 0s 25ms/step\n",
            "1/1 [==============================] - 0s 28ms/step\n",
            "1/1 [==============================] - 0s 24ms/step\n",
            "1/1 [==============================] - 0s 27ms/step\n",
            "1/1 [==============================] - 0s 22ms/step\n",
            "1/1 [==============================] - 0s 23ms/step\n",
            "1/1 [==============================] - 0s 27ms/step\n",
            "1/1 [==============================] - 0s 23ms/step\n",
            "1/1 [==============================] - 0s 27ms/step\n",
            "1/1 [==============================] - 0s 24ms/step\n",
            "1/1 [==============================] - 0s 27ms/step\n",
            "1/1 [==============================] - 0s 26ms/step\n",
            "1/1 [==============================] - 0s 25ms/step\n",
            "1/1 [==============================] - 0s 23ms/step\n",
            "1/1 [==============================] - 0s 23ms/step\n",
            "1/1 [==============================] - 0s 24ms/step\n",
            "1/1 [==============================] - 0s 29ms/step\n",
            "1/1 [==============================] - 0s 25ms/step\n",
            "1/1 [==============================] - 0s 23ms/step\n",
            "1/1 [==============================] - 0s 23ms/step\n",
            "1/1 [==============================] - 0s 23ms/step\n",
            "1/1 [==============================] - 0s 28ms/step\n",
            "1/1 [==============================] - 0s 24ms/step\n",
            "1/1 [==============================] - 0s 24ms/step\n",
            "1/1 [==============================] - 0s 24ms/step\n",
            "1/1 [==============================] - 0s 22ms/step\n",
            "1/1 [==============================] - 0s 25ms/step\n",
            "1/1 [==============================] - 0s 25ms/step\n",
            "1/1 [==============================] - 0s 24ms/step\n",
            "1/1 [==============================] - 0s 24ms/step\n",
            "1/1 [==============================] - 0s 24ms/step\n",
            "1/1 [==============================] - 0s 24ms/step\n",
            "1/1 [==============================] - 0s 23ms/step\n",
            "1/1 [==============================] - 0s 30ms/step\n",
            "1/1 [==============================] - 0s 25ms/step\n",
            "1/1 [==============================] - 0s 23ms/step\n",
            "1/1 [==============================] - 0s 23ms/step\n",
            "1/1 [==============================] - 0s 26ms/step\n",
            "1/1 [==============================] - 0s 24ms/step\n",
            "1/1 [==============================] - 0s 25ms/step\n",
            "1/1 [==============================] - 0s 28ms/step\n",
            "1/1 [==============================] - 0s 28ms/step\n",
            "1/1 [==============================] - 0s 24ms/step\n",
            "1/1 [==============================] - 0s 27ms/step\n",
            "1/1 [==============================] - 0s 24ms/step\n",
            "1/1 [==============================] - 0s 25ms/step\n",
            "1/1 [==============================] - 0s 27ms/step\n",
            "1/1 [==============================] - 0s 25ms/step\n",
            "1/1 [==============================] - 0s 27ms/step\n",
            "1/1 [==============================] - 0s 28ms/step\n",
            "1/1 [==============================] - 0s 24ms/step\n",
            "1/1 [==============================] - 0s 23ms/step\n",
            "1/1 [==============================] - 0s 25ms/step\n",
            "1/1 [==============================] - 0s 33ms/step\n",
            "1/1 [==============================] - 0s 26ms/step\n",
            "1/1 [==============================] - 0s 29ms/step\n",
            "1/1 [==============================] - 0s 31ms/step\n",
            "1/1 [==============================] - 0s 35ms/step\n",
            "1/1 [==============================] - 0s 35ms/step\n",
            "1/1 [==============================] - 0s 38ms/step\n",
            "1/1 [==============================] - 0s 33ms/step\n",
            "1/1 [==============================] - 0s 39ms/step\n",
            "1/1 [==============================] - 0s 32ms/step\n",
            "1/1 [==============================] - 0s 36ms/step\n",
            "1/1 [==============================] - 0s 41ms/step\n",
            "1/1 [==============================] - 0s 36ms/step\n",
            "1/1 [==============================] - 0s 32ms/step\n",
            "1/1 [==============================] - 0s 38ms/step\n",
            "1/1 [==============================] - 0s 38ms/step\n",
            "1/1 [==============================] - 0s 33ms/step\n",
            "1/1 [==============================] - 0s 43ms/step\n",
            "1/1 [==============================] - 0s 35ms/step\n",
            "1/1 [==============================] - 0s 40ms/step\n",
            "1/1 [==============================] - 0s 32ms/step\n",
            "1/1 [==============================] - 0s 25ms/step\n",
            "1/1 [==============================] - 0s 27ms/step\n",
            "1/1 [==============================] - 0s 29ms/step\n",
            "1/1 [==============================] - 0s 24ms/step\n",
            "1/1 [==============================] - 0s 25ms/step\n",
            "1/1 [==============================] - 0s 25ms/step\n",
            "1/1 [==============================] - 0s 23ms/step\n",
            "1/1 [==============================] - 0s 25ms/step\n",
            "1/1 [==============================] - 0s 27ms/step\n",
            "1/1 [==============================] - 0s 34ms/step\n",
            "1/1 [==============================] - 0s 28ms/step\n",
            "1/1 [==============================] - 0s 26ms/step\n",
            "1/1 [==============================] - 0s 25ms/step\n",
            "1/1 [==============================] - 0s 23ms/step\n",
            "1/1 [==============================] - 0s 24ms/step\n",
            "1/1 [==============================] - 0s 29ms/step\n",
            "1/1 [==============================] - 0s 23ms/step\n",
            "1/1 [==============================] - 0s 24ms/step\n",
            "1/1 [==============================] - 0s 23ms/step\n",
            "1/1 [==============================] - 0s 26ms/step\n",
            "1/1 [==============================] - 0s 27ms/step\n",
            "1/1 [==============================] - 0s 27ms/step\n",
            "1/1 [==============================] - 0s 25ms/step\n",
            "1/1 [==============================] - 0s 24ms/step\n",
            "1/1 [==============================] - 0s 25ms/step\n",
            "1/1 [==============================] - 0s 26ms/step\n",
            "1/1 [==============================] - 0s 23ms/step\n",
            "1/1 [==============================] - 0s 27ms/step\n",
            "1/1 [==============================] - 0s 25ms/step\n",
            "1/1 [==============================] - 0s 24ms/step\n",
            "1/1 [==============================] - 0s 24ms/step\n",
            "1/1 [==============================] - 0s 38ms/step\n",
            "1/1 [==============================] - 0s 38ms/step\n",
            "1/1 [==============================] - 0s 39ms/step\n",
            "1/1 [==============================] - 0s 77ms/step\n",
            "1/1 [==============================] - 0s 51ms/step\n",
            "1/1 [==============================] - 0s 92ms/step\n",
            "1/1 [==============================] - 0s 57ms/step\n",
            "1/1 [==============================] - 0s 23ms/step\n",
            "1/1 [==============================] - 0s 26ms/step\n",
            "1/1 [==============================] - 0s 24ms/step\n",
            "1/1 [==============================] - 0s 28ms/step\n",
            "1/1 [==============================] - 0s 28ms/step\n",
            "1/1 [==============================] - 0s 27ms/step\n",
            "1/1 [==============================] - 0s 27ms/step\n",
            "1/1 [==============================] - 0s 30ms/step\n",
            "1/1 [==============================] - 0s 23ms/step\n",
            "1/1 [==============================] - 0s 24ms/step\n",
            "1/1 [==============================] - 0s 24ms/step\n",
            "1/1 [==============================] - 0s 26ms/step\n",
            "1/1 [==============================] - 0s 24ms/step\n",
            "1/1 [==============================] - 0s 28ms/step\n",
            "1/1 [==============================] - 0s 28ms/step\n",
            "1/1 [==============================] - 0s 24ms/step\n",
            "1/1 [==============================] - 0s 24ms/step\n",
            "1/1 [==============================] - 0s 28ms/step\n",
            "1/1 [==============================] - 0s 27ms/step\n",
            "1/1 [==============================] - 0s 24ms/step\n",
            "1/1 [==============================] - 0s 26ms/step\n",
            "1/1 [==============================] - 0s 32ms/step\n",
            "1/1 [==============================] - 0s 23ms/step\n",
            "1/1 [==============================] - 0s 24ms/step\n",
            "1/1 [==============================] - 0s 24ms/step\n",
            "1/1 [==============================] - 0s 23ms/step\n",
            "1/1 [==============================] - 0s 24ms/step\n",
            "1/1 [==============================] - 0s 25ms/step\n",
            "1/1 [==============================] - 0s 24ms/step\n",
            "1/1 [==============================] - 0s 27ms/step\n",
            "1/1 [==============================] - 0s 24ms/step\n",
            "1/1 [==============================] - 0s 26ms/step\n",
            "1/1 [==============================] - 0s 24ms/step\n",
            "1/1 [==============================] - 0s 25ms/step\n",
            "1/1 [==============================] - 0s 35ms/step\n",
            "1/1 [==============================] - 0s 28ms/step\n",
            "1/1 [==============================] - 0s 24ms/step\n",
            "1/1 [==============================] - 0s 25ms/step\n",
            "1/1 [==============================] - 0s 24ms/step\n",
            "1/1 [==============================] - 0s 24ms/step\n",
            "1/1 [==============================] - 0s 23ms/step\n",
            "1/1 [==============================] - 0s 31ms/step\n",
            "1/1 [==============================] - 0s 24ms/step\n",
            "1/1 [==============================] - 0s 24ms/step\n",
            "1/1 [==============================] - 0s 24ms/step\n",
            "1/1 [==============================] - 0s 24ms/step\n",
            "1/1 [==============================] - 0s 25ms/step\n",
            "1/1 [==============================] - 0s 26ms/step\n",
            "1/1 [==============================] - 0s 24ms/step\n",
            "1/1 [==============================] - 0s 24ms/step\n",
            "1/1 [==============================] - 0s 26ms/step\n",
            "1/1 [==============================] - 0s 26ms/step\n",
            "1/1 [==============================] - 0s 26ms/step\n",
            "1/1 [==============================] - 0s 25ms/step\n",
            "1/1 [==============================] - 0s 23ms/step\n",
            "1/1 [==============================] - 0s 24ms/step\n",
            "1/1 [==============================] - 0s 23ms/step\n",
            "1/1 [==============================] - 0s 23ms/step\n",
            "1/1 [==============================] - 0s 25ms/step\n",
            "1/1 [==============================] - 0s 26ms/step\n",
            "1/1 [==============================] - 0s 26ms/step\n",
            "1/1 [==============================] - 0s 25ms/step\n",
            "1/1 [==============================] - 0s 26ms/step\n",
            "1/1 [==============================] - 0s 30ms/step\n",
            "1/1 [==============================] - 0s 24ms/step\n",
            "1/1 [==============================] - 0s 24ms/step\n",
            "1/1 [==============================] - 0s 24ms/step\n",
            "1/1 [==============================] - 0s 25ms/step\n",
            "1/1 [==============================] - 0s 24ms/step\n",
            "1/1 [==============================] - 0s 24ms/step\n",
            "1/1 [==============================] - 0s 25ms/step\n",
            "1/1 [==============================] - 0s 26ms/step\n",
            "1/1 [==============================] - 0s 23ms/step\n",
            "1/1 [==============================] - 0s 24ms/step\n",
            "1/1 [==============================] - 0s 24ms/step\n",
            "1/1 [==============================] - 0s 23ms/step\n",
            "1/1 [==============================] - 0s 23ms/step\n",
            "1/1 [==============================] - 0s 24ms/step\n",
            "1/1 [==============================] - 0s 23ms/step\n",
            "1/1 [==============================] - 0s 28ms/step\n",
            "1/1 [==============================] - 0s 23ms/step\n",
            "1/1 [==============================] - 0s 26ms/step\n",
            "1/1 [==============================] - 0s 31ms/step\n",
            "1/1 [==============================] - 0s 24ms/step\n",
            "1/1 [==============================] - 0s 23ms/step\n",
            "1/1 [==============================] - 0s 24ms/step\n",
            "1/1 [==============================] - 0s 24ms/step\n",
            "1/1 [==============================] - 0s 23ms/step\n",
            "1/1 [==============================] - 0s 26ms/step\n",
            "1/1 [==============================] - 0s 23ms/step\n",
            "1/1 [==============================] - 0s 25ms/step\n",
            "1/1 [==============================] - 0s 26ms/step\n",
            "1/1 [==============================] - 0s 23ms/step\n",
            "1/1 [==============================] - 0s 25ms/step\n",
            "1/1 [==============================] - 0s 25ms/step\n",
            "1/1 [==============================] - 0s 24ms/step\n",
            "1/1 [==============================] - 0s 23ms/step\n",
            "1/1 [==============================] - 0s 28ms/step\n",
            "1/1 [==============================] - 0s 24ms/step\n",
            "1/1 [==============================] - 0s 29ms/step\n",
            "1/1 [==============================] - 0s 23ms/step\n",
            "1/1 [==============================] - 0s 30ms/step\n",
            "1/1 [==============================] - 0s 27ms/step\n",
            "1/1 [==============================] - 0s 24ms/step\n",
            "1/1 [==============================] - 0s 24ms/step\n",
            "1/1 [==============================] - 0s 24ms/step\n",
            "1/1 [==============================] - 0s 23ms/step\n",
            "1/1 [==============================] - 0s 24ms/step\n",
            "1/1 [==============================] - 0s 30ms/step\n",
            "1/1 [==============================] - 0s 25ms/step\n",
            "1/1 [==============================] - 0s 24ms/step\n",
            "1/1 [==============================] - 0s 24ms/step\n",
            "1/1 [==============================] - 0s 27ms/step\n",
            "1/1 [==============================] - 0s 23ms/step\n",
            "1/1 [==============================] - 0s 24ms/step\n",
            "1/1 [==============================] - 0s 24ms/step\n",
            "1/1 [==============================] - 0s 25ms/step\n",
            "1/1 [==============================] - 0s 26ms/step\n",
            "1/1 [==============================] - 0s 24ms/step\n",
            "1/1 [==============================] - 0s 23ms/step\n",
            "1/1 [==============================] - 0s 24ms/step\n",
            "1/1 [==============================] - 0s 23ms/step\n",
            "1/1 [==============================] - 0s 32ms/step\n",
            "1/1 [==============================] - 0s 25ms/step\n",
            "1/1 [==============================] - 0s 24ms/step\n",
            "1/1 [==============================] - 0s 27ms/step\n",
            "1/1 [==============================] - 0s 23ms/step\n",
            "1/1 [==============================] - 0s 25ms/step\n",
            "1/1 [==============================] - 0s 28ms/step\n",
            "1/1 [==============================] - 0s 26ms/step\n",
            "1/1 [==============================] - 0s 25ms/step\n",
            "1/1 [==============================] - 0s 27ms/step\n",
            "1/1 [==============================] - 0s 27ms/step\n",
            "1/1 [==============================] - 0s 24ms/step\n",
            "1/1 [==============================] - 0s 24ms/step\n",
            "1/1 [==============================] - 0s 89ms/step\n",
            "1/1 [==============================] - 0s 60ms/step\n",
            "1/1 [==============================] - 0s 24ms/step\n",
            "1/1 [==============================] - 0s 27ms/step\n",
            "1/1 [==============================] - 0s 26ms/step\n",
            "1/1 [==============================] - 0s 29ms/step\n",
            "1/1 [==============================] - 0s 27ms/step\n",
            "1/1 [==============================] - 0s 23ms/step\n",
            "1/1 [==============================] - 0s 24ms/step\n",
            "1/1 [==============================] - 0s 24ms/step\n",
            "1/1 [==============================] - 0s 24ms/step\n",
            "1/1 [==============================] - 0s 26ms/step\n",
            "1/1 [==============================] - 0s 24ms/step\n",
            "1/1 [==============================] - 0s 25ms/step\n",
            "1/1 [==============================] - 0s 24ms/step\n",
            "1/1 [==============================] - 0s 24ms/step\n",
            "1/1 [==============================] - 0s 24ms/step\n",
            "1/1 [==============================] - 0s 23ms/step\n",
            "1/1 [==============================] - 0s 26ms/step\n",
            "1/1 [==============================] - 0s 25ms/step\n",
            "1/1 [==============================] - 0s 24ms/step\n",
            "1/1 [==============================] - 0s 24ms/step\n",
            "1/1 [==============================] - 0s 25ms/step\n",
            "1/1 [==============================] - 0s 23ms/step\n",
            "1/1 [==============================] - 0s 24ms/step\n",
            "1/1 [==============================] - 0s 25ms/step\n",
            "1/1 [==============================] - 0s 24ms/step\n",
            "1/1 [==============================] - 0s 26ms/step\n",
            "1/1 [==============================] - 0s 24ms/step\n",
            "1/1 [==============================] - 0s 24ms/step\n",
            "1/1 [==============================] - 0s 31ms/step\n",
            "1/1 [==============================] - 0s 25ms/step\n",
            "1/1 [==============================] - 0s 23ms/step\n",
            "1/1 [==============================] - 0s 25ms/step\n",
            "1/1 [==============================] - 0s 23ms/step\n",
            "1/1 [==============================] - 0s 28ms/step\n",
            "1/1 [==============================] - 0s 27ms/step\n",
            "1/1 [==============================] - 0s 24ms/step\n",
            "1/1 [==============================] - 0s 24ms/step\n",
            "1/1 [==============================] - 0s 26ms/step\n",
            "1/1 [==============================] - 0s 26ms/step\n",
            "1/1 [==============================] - 0s 24ms/step\n",
            "1/1 [==============================] - 0s 28ms/step\n",
            "1/1 [==============================] - 0s 24ms/step\n",
            "1/1 [==============================] - 0s 23ms/step\n",
            "1/1 [==============================] - 0s 24ms/step\n",
            "1/1 [==============================] - 0s 24ms/step\n",
            "1/1 [==============================] - 0s 25ms/step\n",
            "1/1 [==============================] - 0s 23ms/step\n",
            "1/1 [==============================] - 0s 23ms/step\n",
            "1/1 [==============================] - 0s 30ms/step\n",
            "1/1 [==============================] - 0s 27ms/step\n",
            "1/1 [==============================] - 0s 30ms/step\n",
            "1/1 [==============================] - 0s 24ms/step\n",
            "1/1 [==============================] - 0s 26ms/step\n",
            "1/1 [==============================] - 0s 27ms/step\n",
            "1/1 [==============================] - 0s 29ms/step\n",
            "1/1 [==============================] - 0s 25ms/step\n",
            "1/1 [==============================] - 0s 23ms/step\n",
            "1/1 [==============================] - 0s 24ms/step\n",
            "1/1 [==============================] - 0s 24ms/step\n",
            "1/1 [==============================] - 0s 27ms/step\n",
            "1/1 [==============================] - 0s 27ms/step\n",
            "1/1 [==============================] - 0s 25ms/step\n",
            "1/1 [==============================] - 0s 23ms/step\n",
            "1/1 [==============================] - 0s 24ms/step\n",
            "1/1 [==============================] - 0s 26ms/step\n",
            "1/1 [==============================] - 0s 30ms/step\n",
            "1/1 [==============================] - 0s 23ms/step\n",
            "1/1 [==============================] - 0s 23ms/step\n",
            "1/1 [==============================] - 0s 24ms/step\n",
            "1/1 [==============================] - 0s 24ms/step\n",
            "1/1 [==============================] - 0s 29ms/step\n",
            "1/1 [==============================] - 0s 24ms/step\n",
            "1/1 [==============================] - 0s 28ms/step\n",
            "1/1 [==============================] - 0s 23ms/step\n",
            "1/1 [==============================] - 0s 25ms/step\n",
            "1/1 [==============================] - 0s 26ms/step\n",
            "1/1 [==============================] - 0s 25ms/step\n",
            "1/1 [==============================] - 0s 24ms/step\n",
            "1/1 [==============================] - 0s 27ms/step\n",
            "1/1 [==============================] - 0s 24ms/step\n",
            "1/1 [==============================] - 0s 29ms/step\n",
            "1/1 [==============================] - 0s 35ms/step\n",
            "1/1 [==============================] - 0s 23ms/step\n",
            "1/1 [==============================] - 0s 25ms/step\n",
            "1/1 [==============================] - 0s 22ms/step\n",
            "1/1 [==============================] - 0s 23ms/step\n",
            "1/1 [==============================] - 0s 29ms/step\n",
            "1/1 [==============================] - 0s 24ms/step\n",
            "1/1 [==============================] - 0s 23ms/step\n",
            "1/1 [==============================] - 0s 26ms/step\n",
            "1/1 [==============================] - 0s 31ms/step\n",
            "1/1 [==============================] - 0s 24ms/step\n",
            "1/1 [==============================] - 0s 25ms/step\n",
            "1/1 [==============================] - 0s 23ms/step\n",
            "1/1 [==============================] - 0s 23ms/step\n",
            "1/1 [==============================] - 0s 25ms/step\n",
            "1/1 [==============================] - 0s 23ms/step\n",
            "1/1 [==============================] - 0s 28ms/step\n",
            "1/1 [==============================] - 0s 23ms/step\n",
            "1/1 [==============================] - 0s 27ms/step\n",
            "1/1 [==============================] - 0s 26ms/step\n",
            "1/1 [==============================] - 0s 47ms/step\n",
            "1/1 [==============================] - 0s 24ms/step\n",
            "1/1 [==============================] - 0s 27ms/step\n",
            "1/1 [==============================] - 0s 27ms/step\n",
            "1/1 [==============================] - 0s 24ms/step\n",
            "1/1 [==============================] - 0s 24ms/step\n",
            "1/1 [==============================] - 0s 24ms/step\n",
            "1/1 [==============================] - 0s 28ms/step\n",
            "1/1 [==============================] - 0s 25ms/step\n",
            "1/1 [==============================] - 0s 23ms/step\n",
            "1/1 [==============================] - 0s 25ms/step\n",
            "1/1 [==============================] - 0s 23ms/step\n",
            "1/1 [==============================] - 0s 23ms/step\n",
            "1/1 [==============================] - 0s 23ms/step\n",
            "1/1 [==============================] - 0s 26ms/step\n",
            "1/1 [==============================] - 0s 23ms/step\n",
            "1/1 [==============================] - 0s 23ms/step\n",
            "1/1 [==============================] - 0s 25ms/step\n",
            "1/1 [==============================] - 0s 24ms/step\n",
            "1/1 [==============================] - 0s 23ms/step\n",
            "1/1 [==============================] - 0s 27ms/step\n",
            "1/1 [==============================] - 0s 25ms/step\n",
            "1/1 [==============================] - 0s 24ms/step\n",
            "1/1 [==============================] - 0s 24ms/step\n",
            "1/1 [==============================] - 0s 24ms/step\n",
            "1/1 [==============================] - 0s 32ms/step\n",
            "1/1 [==============================] - 0s 23ms/step\n",
            "1/1 [==============================] - 0s 23ms/step\n",
            "1/1 [==============================] - 0s 32ms/step\n",
            "1/1 [==============================] - 0s 25ms/step\n",
            "1/1 [==============================] - 0s 23ms/step\n",
            "1/1 [==============================] - 0s 22ms/step\n",
            "1/1 [==============================] - 0s 27ms/step\n",
            "1/1 [==============================] - 0s 22ms/step\n",
            "1/1 [==============================] - 0s 25ms/step\n",
            "1/1 [==============================] - 0s 25ms/step\n",
            "1/1 [==============================] - 0s 24ms/step\n",
            "1/1 [==============================] - 0s 23ms/step\n",
            "1/1 [==============================] - 0s 24ms/step\n",
            "1/1 [==============================] - 0s 23ms/step\n",
            "1/1 [==============================] - 0s 25ms/step\n",
            "1/1 [==============================] - 0s 25ms/step\n",
            "1/1 [==============================] - 0s 25ms/step\n",
            "1/1 [==============================] - 0s 25ms/step\n",
            "1/1 [==============================] - 0s 24ms/step\n",
            "1/1 [==============================] - 0s 22ms/step\n",
            "1/1 [==============================] - 0s 23ms/step\n",
            "1/1 [==============================] - 0s 34ms/step\n",
            "1/1 [==============================] - 0s 24ms/step\n",
            "1/1 [==============================] - 0s 26ms/step\n",
            "1/1 [==============================] - 0s 24ms/step\n",
            "1/1 [==============================] - 0s 25ms/step\n",
            "1/1 [==============================] - 0s 24ms/step\n",
            "1/1 [==============================] - 0s 25ms/step\n",
            "1/1 [==============================] - 0s 23ms/step\n",
            "1/1 [==============================] - 0s 26ms/step\n",
            "1/1 [==============================] - 0s 28ms/step\n",
            "1/1 [==============================] - 0s 23ms/step\n",
            "1/1 [==============================] - 0s 23ms/step\n",
            "1/1 [==============================] - 0s 23ms/step\n",
            "1/1 [==============================] - 0s 24ms/step\n",
            "1/1 [==============================] - 0s 23ms/step\n",
            "1/1 [==============================] - 0s 23ms/step\n",
            "1/1 [==============================] - 0s 23ms/step\n",
            "1/1 [==============================] - 0s 23ms/step\n",
            "1/1 [==============================] - 0s 23ms/step\n",
            "1/1 [==============================] - 0s 25ms/step\n",
            "1/1 [==============================] - 0s 26ms/step\n",
            "1/1 [==============================] - 0s 24ms/step\n",
            "1/1 [==============================] - 0s 25ms/step\n",
            "1/1 [==============================] - 0s 27ms/step\n",
            "1/1 [==============================] - 0s 24ms/step\n",
            "1/1 [==============================] - 0s 23ms/step\n",
            "1/1 [==============================] - 0s 22ms/step\n",
            "1/1 [==============================] - 0s 23ms/step\n"
          ]
        }
      ]
    },
    {
      "cell_type": "code",
      "source": [
        "#Convert list to numpy array\n",
        "predicted_patches = np.array(predicted_patches)\n",
        "print(predicted_patches.shape)"
      ],
      "metadata": {
        "colab": {
          "base_uri": "https://localhost:8080/"
        },
        "id": "9kKj-pvMO5kX",
        "outputId": "46b3a7ec-e299-4829-f470-124341504061"
      },
      "execution_count": null,
      "outputs": [
        {
          "output_type": "stream",
          "name": "stdout",
          "text": [
            "(448, 64, 64, 64)\n"
          ]
        }
      ]
    },
    {
      "cell_type": "code",
      "source": [
        "#Reshape to the shape we had after patchifying\n",
        "predicted_patches_reshaped = np.reshape(predicted_patches, \n",
        "                                        (patches.shape[0], patches.shape[1], patches.shape[2],\n",
        "                                         patches.shape[3], patches.shape[4], patches.shape[5]) )\n",
        "print(predicted_patches_reshaped.shape)"
      ],
      "metadata": {
        "colab": {
          "base_uri": "https://localhost:8080/"
        },
        "id": "vrguJmthO5mo",
        "outputId": "0179c23d-b221-45bd-8b2b-7008bac2a81d"
      },
      "execution_count": null,
      "outputs": [
        {
          "output_type": "stream",
          "name": "stdout",
          "text": [
            "(7, 8, 8, 64, 64, 64)\n"
          ]
        }
      ]
    },
    {
      "cell_type": "code",
      "source": [
        "#Repach individual patches into the orginal volume shape\n",
        "reconstructed_image = unpatchify(predicted_patches_reshaped, large_image.shape)\n",
        "print(reconstructed_image.shape)\n",
        "print(reconstructed_image.dtype)\n",
        "#Convert to uint8 so we can open image in most image viewing software packages\n",
        "reconstructed_image=reconstructed_image.astype(np.uint8)\n",
        "print(reconstructed_image.dtype)"
      ],
      "metadata": {
        "colab": {
          "base_uri": "https://localhost:8080/"
        },
        "id": "BMo75-LIO5pJ",
        "outputId": "57af90d7-5a52-4209-b04d-6d790c84ec0f"
      },
      "execution_count": null,
      "outputs": [
        {
          "output_type": "stream",
          "name": "stdout",
          "text": [
            "(448, 512, 512)\n",
            "int64\n",
            "uint8\n"
          ]
        }
      ]
    },
    {
      "cell_type": "code",
      "source": [
        "#Now save it as segmented volume.\n",
        "from tifffile import imsave\n",
        "imsave('/content/drive/MyDrive/Colab Notebooks/data_for_3D_Unet/segmented_bita.tif', reconstructed_image)"
      ],
      "metadata": {
        "id": "sf-yZ_CBPAqV"
      },
      "execution_count": null,
      "outputs": []
    },
    {
      "cell_type": "code",
      "source": [
        "print(np.unique(reconstructed_image))"
      ],
      "metadata": {
        "colab": {
          "base_uri": "https://localhost:8080/"
        },
        "id": "gF0GawPXPAs2",
        "outputId": "d74885b5-e975-4cf0-e744-b64c955c536f"
      },
      "execution_count": null,
      "outputs": [
        {
          "output_type": "stream",
          "name": "stdout",
          "text": [
            "[0 1 2 3]\n"
          ]
        }
      ]
    },
    {
      "cell_type": "code",
      "source": [
        "#Seperate each channel/segment to be combined as multiple channels.\n",
        "num_segments=4\n",
        "segm0 = (reconstructed_image == 0)\n",
        "segm1 = (reconstructed_image == 1)\n",
        "segm2 = (reconstructed_image == 2)\n",
        "segm3 = (reconstructed_image == 3)\n",
        "\n",
        "final = np.empty((reconstructed_image.shape[0], reconstructed_image.shape[1], reconstructed_image.shape[2], num_segments))\n",
        "final[:,:,:,0] = segm0\n",
        "final[:,:,:,1] = segm1\n",
        "final[:,:,:,2] = segm2\n",
        "final[:,:,:,3] = segm3"
      ],
      "metadata": {
        "id": "uuTD4WlCPAvN"
      },
      "execution_count": null,
      "outputs": []
    },
    {
      "cell_type": "code",
      "source": [
        "#Use APEER OMETIFF library to read and write multidimensional images\n",
        "!pip install apeer-ometiff-library"
      ],
      "metadata": {
        "colab": {
          "base_uri": "https://localhost:8080/",
          "height": 399
        },
        "id": "gME25udkPAxa",
        "outputId": "89ef778a-673a-4eae-c665-7ceaa669b110"
      },
      "execution_count": null,
      "outputs": [
        {
          "output_type": "stream",
          "name": "stdout",
          "text": [
            "Looking in indexes: https://pypi.org/simple, https://us-python.pkg.dev/colab-wheels/public/simple/\n",
            "Collecting apeer-ometiff-library\n",
            "  Downloading apeer_ometiff_library-1.10.1-py3-none-any.whl (19 kB)\n",
            "Requirement already satisfied: numpy>=1.18.5 in /usr/local/lib/python3.7/dist-packages (from apeer-ometiff-library) (1.21.6)\n",
            "Collecting tifffile==2020.6.3\n",
            "  Downloading tifffile-2020.6.3-py3-none-any.whl (133 kB)\n",
            "\u001b[K     |████████████████████████████████| 133 kB 14.6 MB/s \n",
            "\u001b[?25hCollecting imagecodecs==2020.5.30\n",
            "  Downloading imagecodecs-2020.5.30-cp37-cp37m-manylinux2014_x86_64.whl (17.9 MB)\n",
            "\u001b[K     |████████████████████████████████| 17.9 MB 1.7 MB/s \n",
            "\u001b[?25hInstalling collected packages: tifffile, imagecodecs, apeer-ometiff-library\n",
            "  Attempting uninstall: tifffile\n",
            "    Found existing installation: tifffile 2021.11.2\n",
            "    Uninstalling tifffile-2021.11.2:\n",
            "      Successfully uninstalled tifffile-2021.11.2\n",
            "Successfully installed apeer-ometiff-library-1.10.1 imagecodecs-2020.5.30 tifffile-2020.6.3\n"
          ]
        },
        {
          "output_type": "display_data",
          "data": {
            "application/vnd.colab-display-data+json": {
              "pip_warning": {
                "packages": [
                  "tifffile"
                ]
              }
            }
          },
          "metadata": {}
        }
      ]
    },
    {
      "cell_type": "code",
      "source": [
        "from apeer_ometiff_library import io"
      ],
      "metadata": {
        "id": "yCfAtMNvPA0j"
      },
      "execution_count": null,
      "outputs": []
    },
    {
      "cell_type": "code",
      "source": [
        "# Expand image array to 5D of order (T, Z, C, X, Y)\n",
        "# This is the convention for OMETIFF format as written by APEER library\n",
        "final = np.expand_dims(final, axis=0)\n",
        "final=np.swapaxes(final, 2, 4)\n",
        "\n",
        "final = final.astype(np.int8)"
      ],
      "metadata": {
        "id": "B-7QGSnnPJnW"
      },
      "execution_count": null,
      "outputs": []
    },
    {
      "cell_type": "code",
      "source": [
        "print(\"Shape of the segmented volume is: T, Z, C, X, Y \", final.shape)\n",
        "print(final.dtype)"
      ],
      "metadata": {
        "colab": {
          "base_uri": "https://localhost:8080/"
        },
        "id": "ZGg83I6qPJp5",
        "outputId": "a7a61021-6756-4b4c-9d16-38ab26a30e1a"
      },
      "execution_count": null,
      "outputs": [
        {
          "output_type": "stream",
          "name": "stdout",
          "text": [
            "Shape of the segmented volume is: T, Z, C, X, Y  (1, 448, 4, 512, 512)\n",
            "int8\n"
          ]
        }
      ]
    },
    {
      "cell_type": "code",
      "source": [
        "# Write dataset as multi-dimensional OMETIFF *image*\n",
        "io.write_ometiff(\"/content/drive/MyDrive/Colab Notebooks/data_for_3D_Unet/segmented_multi_channel_bita.ome.tiff\", final)"
      ],
      "metadata": {
        "id": "yTU18HovPJr-"
      },
      "execution_count": null,
      "outputs": []
    },
    {
      "cell_type": "code",
      "source": [],
      "metadata": {
        "id": "ntifiMfoPJuy"
      },
      "execution_count": null,
      "outputs": []
    },
    {
      "cell_type": "code",
      "source": [],
      "metadata": {
        "id": "PvoASjsdPJwy"
      },
      "execution_count": null,
      "outputs": []
    }
  ]
}