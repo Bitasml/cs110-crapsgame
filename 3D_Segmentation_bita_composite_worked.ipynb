{
  "cells": [
    {
      "cell_type": "markdown",
      "metadata": {
        "id": "view-in-github",
        "colab_type": "text"
      },
      "source": [
        "<a href=\"https://colab.research.google.com/github/Bitasml/cs110-crapsgame/blob/master/3D_Segmentation_bita_composite_worked.ipynb\" target=\"_parent\"><img src=\"https://colab.research.google.com/assets/colab-badge.svg\" alt=\"Open In Colab\"/></a>"
      ]
    },
    {
      "cell_type": "code",
      "execution_count": null,
      "metadata": {
        "id": "HrqfpsBpD_PE"
      },
      "outputs": [],
      "source": []
    },
    {
      "cell_type": "code",
      "execution_count": null,
      "metadata": {
        "colab": {
          "base_uri": "https://localhost:8080/"
        },
        "id": "BXOsote6EIU_",
        "outputId": "a1385111-aa2c-43dc-ff32-6d09d4143a8c"
      },
      "outputs": [
        {
          "output_type": "stream",
          "name": "stdout",
          "text": [
            "Colab only includes TensorFlow 2.x; %tensorflow_version has no effect.\n"
          ]
        }
      ],
      "source": [
        "#Latest Tensorflow (2.4) is giving error for some of the libraries we will be using, \n",
        "# especially segmentation models 3D. \n",
        "#Therefore, I am defining TF version 1.x. \n",
        "#If you have your own 3D unet model, you can try the latest TF version.\n",
        "%tensorflow_version 2.x"
      ]
    },
    {
      "cell_type": "code",
      "execution_count": null,
      "metadata": {
        "colab": {
          "base_uri": "https://localhost:8080/"
        },
        "id": "r-tT5ersETsV",
        "outputId": "c168688a-51a5-4f6a-9772-2032ddbb170f"
      },
      "outputs": [
        {
          "output_type": "stream",
          "name": "stdout",
          "text": [
            "Looking in indexes: https://pypi.org/simple, https://us-python.pkg.dev/colab-wheels/public/simple/\n",
            "Requirement already satisfied: classification-models-3D in /usr/local/lib/python3.7/dist-packages (1.0.6)\n",
            "Looking in indexes: https://pypi.org/simple, https://us-python.pkg.dev/colab-wheels/public/simple/\n",
            "Requirement already satisfied: efficientnet-3D in /usr/local/lib/python3.7/dist-packages (1.0.2)\n",
            "Looking in indexes: https://pypi.org/simple, https://us-python.pkg.dev/colab-wheels/public/simple/\n",
            "Requirement already satisfied: segmentation-models-3D in /usr/local/lib/python3.7/dist-packages (1.0.4)\n",
            "Requirement already satisfied: tensorflow>=2.8.0 in /usr/local/lib/python3.7/dist-packages (from segmentation-models-3D) (2.9.2)\n",
            "Requirement already satisfied: keras-applications>=1.0.8 in /usr/local/lib/python3.7/dist-packages (from segmentation-models-3D) (1.0.8)\n",
            "Requirement already satisfied: classification-models-3D>=1.0.6 in /usr/local/lib/python3.7/dist-packages (from segmentation-models-3D) (1.0.6)\n",
            "Requirement already satisfied: numpy>=1.9.1 in /usr/local/lib/python3.7/dist-packages (from keras-applications>=1.0.8->segmentation-models-3D) (1.21.6)\n",
            "Requirement already satisfied: h5py in /usr/local/lib/python3.7/dist-packages (from keras-applications>=1.0.8->segmentation-models-3D) (3.1.0)\n",
            "Requirement already satisfied: typing-extensions>=3.6.6 in /usr/local/lib/python3.7/dist-packages (from tensorflow>=2.8.0->segmentation-models-3D) (4.1.1)\n",
            "Requirement already satisfied: packaging in /usr/local/lib/python3.7/dist-packages (from tensorflow>=2.8.0->segmentation-models-3D) (21.3)\n",
            "Requirement already satisfied: grpcio<2.0,>=1.24.3 in /usr/local/lib/python3.7/dist-packages (from tensorflow>=2.8.0->segmentation-models-3D) (1.50.0)\n",
            "Requirement already satisfied: tensorboard<2.10,>=2.9 in /usr/local/lib/python3.7/dist-packages (from tensorflow>=2.8.0->segmentation-models-3D) (2.9.1)\n",
            "Requirement already satisfied: setuptools in /usr/local/lib/python3.7/dist-packages (from tensorflow>=2.8.0->segmentation-models-3D) (57.4.0)\n",
            "Requirement already satisfied: gast<=0.4.0,>=0.2.1 in /usr/local/lib/python3.7/dist-packages (from tensorflow>=2.8.0->segmentation-models-3D) (0.4.0)\n",
            "Requirement already satisfied: google-pasta>=0.1.1 in /usr/local/lib/python3.7/dist-packages (from tensorflow>=2.8.0->segmentation-models-3D) (0.2.0)\n",
            "Requirement already satisfied: flatbuffers<2,>=1.12 in /usr/local/lib/python3.7/dist-packages (from tensorflow>=2.8.0->segmentation-models-3D) (1.12)\n",
            "Requirement already satisfied: termcolor>=1.1.0 in /usr/local/lib/python3.7/dist-packages (from tensorflow>=2.8.0->segmentation-models-3D) (2.1.0)\n",
            "Requirement already satisfied: astunparse>=1.6.0 in /usr/local/lib/python3.7/dist-packages (from tensorflow>=2.8.0->segmentation-models-3D) (1.6.3)\n",
            "Requirement already satisfied: keras-preprocessing>=1.1.1 in /usr/local/lib/python3.7/dist-packages (from tensorflow>=2.8.0->segmentation-models-3D) (1.1.2)\n",
            "Requirement already satisfied: opt-einsum>=2.3.2 in /usr/local/lib/python3.7/dist-packages (from tensorflow>=2.8.0->segmentation-models-3D) (3.3.0)\n",
            "Requirement already satisfied: tensorflow-io-gcs-filesystem>=0.23.1 in /usr/local/lib/python3.7/dist-packages (from tensorflow>=2.8.0->segmentation-models-3D) (0.27.0)\n",
            "Requirement already satisfied: wrapt>=1.11.0 in /usr/local/lib/python3.7/dist-packages (from tensorflow>=2.8.0->segmentation-models-3D) (1.14.1)\n",
            "Requirement already satisfied: libclang>=13.0.0 in /usr/local/lib/python3.7/dist-packages (from tensorflow>=2.8.0->segmentation-models-3D) (14.0.6)\n",
            "Requirement already satisfied: tensorflow-estimator<2.10.0,>=2.9.0rc0 in /usr/local/lib/python3.7/dist-packages (from tensorflow>=2.8.0->segmentation-models-3D) (2.9.0)\n",
            "Requirement already satisfied: keras<2.10.0,>=2.9.0rc0 in /usr/local/lib/python3.7/dist-packages (from tensorflow>=2.8.0->segmentation-models-3D) (2.9.0)\n",
            "Requirement already satisfied: six>=1.12.0 in /usr/local/lib/python3.7/dist-packages (from tensorflow>=2.8.0->segmentation-models-3D) (1.15.0)\n",
            "Requirement already satisfied: protobuf<3.20,>=3.9.2 in /usr/local/lib/python3.7/dist-packages (from tensorflow>=2.8.0->segmentation-models-3D) (3.19.6)\n",
            "Requirement already satisfied: absl-py>=1.0.0 in /usr/local/lib/python3.7/dist-packages (from tensorflow>=2.8.0->segmentation-models-3D) (1.3.0)\n",
            "Requirement already satisfied: wheel<1.0,>=0.23.0 in /usr/local/lib/python3.7/dist-packages (from astunparse>=1.6.0->tensorflow>=2.8.0->segmentation-models-3D) (0.38.4)\n",
            "Requirement already satisfied: cached-property in /usr/local/lib/python3.7/dist-packages (from h5py->keras-applications>=1.0.8->segmentation-models-3D) (1.5.2)\n",
            "Requirement already satisfied: requests<3,>=2.21.0 in /usr/local/lib/python3.7/dist-packages (from tensorboard<2.10,>=2.9->tensorflow>=2.8.0->segmentation-models-3D) (2.23.0)\n",
            "Requirement already satisfied: google-auth-oauthlib<0.5,>=0.4.1 in /usr/local/lib/python3.7/dist-packages (from tensorboard<2.10,>=2.9->tensorflow>=2.8.0->segmentation-models-3D) (0.4.6)\n",
            "Requirement already satisfied: tensorboard-data-server<0.7.0,>=0.6.0 in /usr/local/lib/python3.7/dist-packages (from tensorboard<2.10,>=2.9->tensorflow>=2.8.0->segmentation-models-3D) (0.6.1)\n",
            "Requirement already satisfied: markdown>=2.6.8 in /usr/local/lib/python3.7/dist-packages (from tensorboard<2.10,>=2.9->tensorflow>=2.8.0->segmentation-models-3D) (3.4.1)\n",
            "Requirement already satisfied: google-auth<3,>=1.6.3 in /usr/local/lib/python3.7/dist-packages (from tensorboard<2.10,>=2.9->tensorflow>=2.8.0->segmentation-models-3D) (2.14.1)\n",
            "Requirement already satisfied: werkzeug>=1.0.1 in /usr/local/lib/python3.7/dist-packages (from tensorboard<2.10,>=2.9->tensorflow>=2.8.0->segmentation-models-3D) (1.0.1)\n",
            "Requirement already satisfied: tensorboard-plugin-wit>=1.6.0 in /usr/local/lib/python3.7/dist-packages (from tensorboard<2.10,>=2.9->tensorflow>=2.8.0->segmentation-models-3D) (1.8.1)\n",
            "Requirement already satisfied: cachetools<6.0,>=2.0.0 in /usr/local/lib/python3.7/dist-packages (from google-auth<3,>=1.6.3->tensorboard<2.10,>=2.9->tensorflow>=2.8.0->segmentation-models-3D) (5.2.0)\n",
            "Requirement already satisfied: pyasn1-modules>=0.2.1 in /usr/local/lib/python3.7/dist-packages (from google-auth<3,>=1.6.3->tensorboard<2.10,>=2.9->tensorflow>=2.8.0->segmentation-models-3D) (0.2.8)\n",
            "Requirement already satisfied: rsa<5,>=3.1.4 in /usr/local/lib/python3.7/dist-packages (from google-auth<3,>=1.6.3->tensorboard<2.10,>=2.9->tensorflow>=2.8.0->segmentation-models-3D) (4.9)\n",
            "Requirement already satisfied: requests-oauthlib>=0.7.0 in /usr/local/lib/python3.7/dist-packages (from google-auth-oauthlib<0.5,>=0.4.1->tensorboard<2.10,>=2.9->tensorflow>=2.8.0->segmentation-models-3D) (1.3.1)\n",
            "Requirement already satisfied: importlib-metadata>=4.4 in /usr/local/lib/python3.7/dist-packages (from markdown>=2.6.8->tensorboard<2.10,>=2.9->tensorflow>=2.8.0->segmentation-models-3D) (4.13.0)\n",
            "Requirement already satisfied: zipp>=0.5 in /usr/local/lib/python3.7/dist-packages (from importlib-metadata>=4.4->markdown>=2.6.8->tensorboard<2.10,>=2.9->tensorflow>=2.8.0->segmentation-models-3D) (3.10.0)\n",
            "Requirement already satisfied: pyasn1<0.5.0,>=0.4.6 in /usr/local/lib/python3.7/dist-packages (from pyasn1-modules>=0.2.1->google-auth<3,>=1.6.3->tensorboard<2.10,>=2.9->tensorflow>=2.8.0->segmentation-models-3D) (0.4.8)\n",
            "Requirement already satisfied: chardet<4,>=3.0.2 in /usr/local/lib/python3.7/dist-packages (from requests<3,>=2.21.0->tensorboard<2.10,>=2.9->tensorflow>=2.8.0->segmentation-models-3D) (3.0.4)\n",
            "Requirement already satisfied: urllib3!=1.25.0,!=1.25.1,<1.26,>=1.21.1 in /usr/local/lib/python3.7/dist-packages (from requests<3,>=2.21.0->tensorboard<2.10,>=2.9->tensorflow>=2.8.0->segmentation-models-3D) (1.24.3)\n",
            "Requirement already satisfied: certifi>=2017.4.17 in /usr/local/lib/python3.7/dist-packages (from requests<3,>=2.21.0->tensorboard<2.10,>=2.9->tensorflow>=2.8.0->segmentation-models-3D) (2022.9.24)\n",
            "Requirement already satisfied: idna<3,>=2.5 in /usr/local/lib/python3.7/dist-packages (from requests<3,>=2.21.0->tensorboard<2.10,>=2.9->tensorflow>=2.8.0->segmentation-models-3D) (2.10)\n",
            "Requirement already satisfied: oauthlib>=3.0.0 in /usr/local/lib/python3.7/dist-packages (from requests-oauthlib>=0.7.0->google-auth-oauthlib<0.5,>=0.4.1->tensorboard<2.10,>=2.9->tensorflow>=2.8.0->segmentation-models-3D) (3.2.2)\n",
            "Requirement already satisfied: pyparsing!=3.0.5,>=2.0.2 in /usr/local/lib/python3.7/dist-packages (from packaging->tensorflow>=2.8.0->segmentation-models-3D) (3.0.9)\n"
          ]
        }
      ],
      "source": [
        "#Install all dependencies for sgementation-models-3D library.\n",
        "#We will use this library to call 3D unet.\n",
        "#Alternative, you can define your own Unet, if you have skills!\n",
        "!pip install classification-models-3D\n",
        "!pip install efficientnet-3D\n",
        "!pip install segmentation-models-3D"
      ]
    },
    {
      "cell_type": "code",
      "execution_count": null,
      "metadata": {
        "colab": {
          "base_uri": "https://localhost:8080/"
        },
        "id": "BGHz6skHET0n",
        "outputId": "52d36e88-7fd2-44b9-b3d4-5f707fcb429e"
      },
      "outputs": [
        {
          "output_type": "stream",
          "name": "stdout",
          "text": [
            "Looking in indexes: https://pypi.org/simple, https://us-python.pkg.dev/colab-wheels/public/simple/\n",
            "Requirement already satisfied: patchify in /usr/local/lib/python3.7/dist-packages (0.2.3)\n",
            "Requirement already satisfied: numpy<2,>=1 in /usr/local/lib/python3.7/dist-packages (from patchify) (1.21.6)\n"
          ]
        }
      ],
      "source": [
        "#Use patchify to break large volumes into smaller for training \n",
        "#and also to put patches back together after prediction.\n",
        "!pip install patchify"
      ]
    },
    {
      "cell_type": "code",
      "execution_count": null,
      "metadata": {
        "colab": {
          "base_uri": "https://localhost:8080/"
        },
        "id": "M6qhHngNET3I",
        "outputId": "ddc1e027-3bd6-434f-be87-9b245fdba4c4"
      },
      "outputs": [
        {
          "output_type": "stream",
          "name": "stdout",
          "text": [
            "2.9.2\n",
            "2.9.0\n"
          ]
        }
      ],
      "source": [
        "import tensorflow as tf\n",
        "import keras\n",
        "print(tf.__version__)\n",
        "print(keras.__version__)\n",
        "\n"
      ]
    },
    {
      "cell_type": "code",
      "execution_count": null,
      "metadata": {
        "id": "sqHcBjQWET6Q"
      },
      "outputs": [],
      "source": [
        "#Make sure the GPU is available. \n",
        "#import tensorflow as tf\n",
        "#device_name = tf.test.gpu_device_name()\n",
        "#if device_name != '/device:GPU:0':\n",
        " # raise SystemError('GPU device not found')\n",
        "#print('Found GPU at: {}'.format(device_name))"
      ]
    },
    {
      "cell_type": "code",
      "execution_count": null,
      "metadata": {
        "colab": {
          "base_uri": "https://localhost:8080/"
        },
        "id": "jcnpuUDcGmRS",
        "outputId": "dd095bad-ce17-469b-dfa4-e1b361ce4e9c"
      },
      "outputs": [
        {
          "output_type": "stream",
          "name": "stdout",
          "text": [
            "Looking in indexes: https://pypi.org/simple, https://us-python.pkg.dev/colab-wheels/public/simple/\n",
            "Requirement already satisfied: segmentation-models-3D in /usr/local/lib/python3.7/dist-packages (1.0.4)\n",
            "Requirement already satisfied: tensorflow>=2.8.0 in /usr/local/lib/python3.7/dist-packages (from segmentation-models-3D) (2.9.2)\n",
            "Requirement already satisfied: keras-applications>=1.0.8 in /usr/local/lib/python3.7/dist-packages (from segmentation-models-3D) (1.0.8)\n",
            "Requirement already satisfied: classification-models-3D>=1.0.6 in /usr/local/lib/python3.7/dist-packages (from segmentation-models-3D) (1.0.6)\n",
            "Requirement already satisfied: h5py in /usr/local/lib/python3.7/dist-packages (from keras-applications>=1.0.8->segmentation-models-3D) (3.1.0)\n",
            "Requirement already satisfied: numpy>=1.9.1 in /usr/local/lib/python3.7/dist-packages (from keras-applications>=1.0.8->segmentation-models-3D) (1.21.6)\n",
            "Requirement already satisfied: keras-preprocessing>=1.1.1 in /usr/local/lib/python3.7/dist-packages (from tensorflow>=2.8.0->segmentation-models-3D) (1.1.2)\n",
            "Requirement already satisfied: tensorboard<2.10,>=2.9 in /usr/local/lib/python3.7/dist-packages (from tensorflow>=2.8.0->segmentation-models-3D) (2.9.1)\n",
            "Requirement already satisfied: setuptools in /usr/local/lib/python3.7/dist-packages (from tensorflow>=2.8.0->segmentation-models-3D) (57.4.0)\n",
            "Requirement already satisfied: packaging in /usr/local/lib/python3.7/dist-packages (from tensorflow>=2.8.0->segmentation-models-3D) (21.3)\n",
            "Requirement already satisfied: protobuf<3.20,>=3.9.2 in /usr/local/lib/python3.7/dist-packages (from tensorflow>=2.8.0->segmentation-models-3D) (3.19.6)\n",
            "Requirement already satisfied: absl-py>=1.0.0 in /usr/local/lib/python3.7/dist-packages (from tensorflow>=2.8.0->segmentation-models-3D) (1.3.0)\n",
            "Requirement already satisfied: six>=1.12.0 in /usr/local/lib/python3.7/dist-packages (from tensorflow>=2.8.0->segmentation-models-3D) (1.15.0)\n",
            "Requirement already satisfied: google-pasta>=0.1.1 in /usr/local/lib/python3.7/dist-packages (from tensorflow>=2.8.0->segmentation-models-3D) (0.2.0)\n",
            "Requirement already satisfied: flatbuffers<2,>=1.12 in /usr/local/lib/python3.7/dist-packages (from tensorflow>=2.8.0->segmentation-models-3D) (1.12)\n",
            "Requirement already satisfied: typing-extensions>=3.6.6 in /usr/local/lib/python3.7/dist-packages (from tensorflow>=2.8.0->segmentation-models-3D) (4.1.1)\n",
            "Requirement already satisfied: grpcio<2.0,>=1.24.3 in /usr/local/lib/python3.7/dist-packages (from tensorflow>=2.8.0->segmentation-models-3D) (1.50.0)\n",
            "Requirement already satisfied: termcolor>=1.1.0 in /usr/local/lib/python3.7/dist-packages (from tensorflow>=2.8.0->segmentation-models-3D) (2.1.0)\n",
            "Requirement already satisfied: tensorflow-io-gcs-filesystem>=0.23.1 in /usr/local/lib/python3.7/dist-packages (from tensorflow>=2.8.0->segmentation-models-3D) (0.27.0)\n",
            "Requirement already satisfied: wrapt>=1.11.0 in /usr/local/lib/python3.7/dist-packages (from tensorflow>=2.8.0->segmentation-models-3D) (1.14.1)\n",
            "Requirement already satisfied: gast<=0.4.0,>=0.2.1 in /usr/local/lib/python3.7/dist-packages (from tensorflow>=2.8.0->segmentation-models-3D) (0.4.0)\n",
            "Requirement already satisfied: astunparse>=1.6.0 in /usr/local/lib/python3.7/dist-packages (from tensorflow>=2.8.0->segmentation-models-3D) (1.6.3)\n",
            "Requirement already satisfied: opt-einsum>=2.3.2 in /usr/local/lib/python3.7/dist-packages (from tensorflow>=2.8.0->segmentation-models-3D) (3.3.0)\n",
            "Requirement already satisfied: keras<2.10.0,>=2.9.0rc0 in /usr/local/lib/python3.7/dist-packages (from tensorflow>=2.8.0->segmentation-models-3D) (2.9.0)\n",
            "Requirement already satisfied: tensorflow-estimator<2.10.0,>=2.9.0rc0 in /usr/local/lib/python3.7/dist-packages (from tensorflow>=2.8.0->segmentation-models-3D) (2.9.0)\n",
            "Requirement already satisfied: libclang>=13.0.0 in /usr/local/lib/python3.7/dist-packages (from tensorflow>=2.8.0->segmentation-models-3D) (14.0.6)\n",
            "Requirement already satisfied: wheel<1.0,>=0.23.0 in /usr/local/lib/python3.7/dist-packages (from astunparse>=1.6.0->tensorflow>=2.8.0->segmentation-models-3D) (0.38.4)\n",
            "Requirement already satisfied: cached-property in /usr/local/lib/python3.7/dist-packages (from h5py->keras-applications>=1.0.8->segmentation-models-3D) (1.5.2)\n",
            "Requirement already satisfied: google-auth<3,>=1.6.3 in /usr/local/lib/python3.7/dist-packages (from tensorboard<2.10,>=2.9->tensorflow>=2.8.0->segmentation-models-3D) (2.14.1)\n",
            "Requirement already satisfied: requests<3,>=2.21.0 in /usr/local/lib/python3.7/dist-packages (from tensorboard<2.10,>=2.9->tensorflow>=2.8.0->segmentation-models-3D) (2.23.0)\n",
            "Requirement already satisfied: tensorboard-data-server<0.7.0,>=0.6.0 in /usr/local/lib/python3.7/dist-packages (from tensorboard<2.10,>=2.9->tensorflow>=2.8.0->segmentation-models-3D) (0.6.1)\n",
            "Requirement already satisfied: markdown>=2.6.8 in /usr/local/lib/python3.7/dist-packages (from tensorboard<2.10,>=2.9->tensorflow>=2.8.0->segmentation-models-3D) (3.4.1)\n",
            "Requirement already satisfied: tensorboard-plugin-wit>=1.6.0 in /usr/local/lib/python3.7/dist-packages (from tensorboard<2.10,>=2.9->tensorflow>=2.8.0->segmentation-models-3D) (1.8.1)\n",
            "Requirement already satisfied: werkzeug>=1.0.1 in /usr/local/lib/python3.7/dist-packages (from tensorboard<2.10,>=2.9->tensorflow>=2.8.0->segmentation-models-3D) (1.0.1)\n",
            "Requirement already satisfied: google-auth-oauthlib<0.5,>=0.4.1 in /usr/local/lib/python3.7/dist-packages (from tensorboard<2.10,>=2.9->tensorflow>=2.8.0->segmentation-models-3D) (0.4.6)\n",
            "Requirement already satisfied: rsa<5,>=3.1.4 in /usr/local/lib/python3.7/dist-packages (from google-auth<3,>=1.6.3->tensorboard<2.10,>=2.9->tensorflow>=2.8.0->segmentation-models-3D) (4.9)\n",
            "Requirement already satisfied: pyasn1-modules>=0.2.1 in /usr/local/lib/python3.7/dist-packages (from google-auth<3,>=1.6.3->tensorboard<2.10,>=2.9->tensorflow>=2.8.0->segmentation-models-3D) (0.2.8)\n",
            "Requirement already satisfied: cachetools<6.0,>=2.0.0 in /usr/local/lib/python3.7/dist-packages (from google-auth<3,>=1.6.3->tensorboard<2.10,>=2.9->tensorflow>=2.8.0->segmentation-models-3D) (5.2.0)\n",
            "Requirement already satisfied: requests-oauthlib>=0.7.0 in /usr/local/lib/python3.7/dist-packages (from google-auth-oauthlib<0.5,>=0.4.1->tensorboard<2.10,>=2.9->tensorflow>=2.8.0->segmentation-models-3D) (1.3.1)\n",
            "Requirement already satisfied: importlib-metadata>=4.4 in /usr/local/lib/python3.7/dist-packages (from markdown>=2.6.8->tensorboard<2.10,>=2.9->tensorflow>=2.8.0->segmentation-models-3D) (4.13.0)\n",
            "Requirement already satisfied: zipp>=0.5 in /usr/local/lib/python3.7/dist-packages (from importlib-metadata>=4.4->markdown>=2.6.8->tensorboard<2.10,>=2.9->tensorflow>=2.8.0->segmentation-models-3D) (3.10.0)\n",
            "Requirement already satisfied: pyasn1<0.5.0,>=0.4.6 in /usr/local/lib/python3.7/dist-packages (from pyasn1-modules>=0.2.1->google-auth<3,>=1.6.3->tensorboard<2.10,>=2.9->tensorflow>=2.8.0->segmentation-models-3D) (0.4.8)\n",
            "Requirement already satisfied: certifi>=2017.4.17 in /usr/local/lib/python3.7/dist-packages (from requests<3,>=2.21.0->tensorboard<2.10,>=2.9->tensorflow>=2.8.0->segmentation-models-3D) (2022.9.24)\n",
            "Requirement already satisfied: urllib3!=1.25.0,!=1.25.1,<1.26,>=1.21.1 in /usr/local/lib/python3.7/dist-packages (from requests<3,>=2.21.0->tensorboard<2.10,>=2.9->tensorflow>=2.8.0->segmentation-models-3D) (1.24.3)\n",
            "Requirement already satisfied: idna<3,>=2.5 in /usr/local/lib/python3.7/dist-packages (from requests<3,>=2.21.0->tensorboard<2.10,>=2.9->tensorflow>=2.8.0->segmentation-models-3D) (2.10)\n",
            "Requirement already satisfied: chardet<4,>=3.0.2 in /usr/local/lib/python3.7/dist-packages (from requests<3,>=2.21.0->tensorboard<2.10,>=2.9->tensorflow>=2.8.0->segmentation-models-3D) (3.0.4)\n",
            "Requirement already satisfied: oauthlib>=3.0.0 in /usr/local/lib/python3.7/dist-packages (from requests-oauthlib>=0.7.0->google-auth-oauthlib<0.5,>=0.4.1->tensorboard<2.10,>=2.9->tensorflow>=2.8.0->segmentation-models-3D) (3.2.2)\n",
            "Requirement already satisfied: pyparsing!=3.0.5,>=2.0.2 in /usr/local/lib/python3.7/dist-packages (from packaging->tensorflow>=2.8.0->segmentation-models-3D) (3.0.9)\n"
          ]
        }
      ],
      "source": [
        "\n",
        "!pip install segmentation-models-3D"
      ]
    },
    {
      "cell_type": "code",
      "execution_count": null,
      "metadata": {
        "colab": {
          "base_uri": "https://localhost:8080/"
        },
        "id": "zuwmrgyVGmZD",
        "outputId": "19f2aba4-ddf8-4727-a609-64afaa204d89"
      },
      "outputs": [
        {
          "output_type": "stream",
          "name": "stdout",
          "text": [
            "Segmentation Models: using `tf.keras` framework.\n"
          ]
        }
      ],
      "source": [
        "import segmentation_models_3D as sm"
      ]
    },
    {
      "cell_type": "code",
      "execution_count": null,
      "metadata": {
        "id": "sLkRPGLiGmbj"
      },
      "outputs": [],
      "source": [
        "from skimage import io\n",
        "from patchify import patchify, unpatchify\n",
        "import numpy as np\n",
        "from matplotlib import pyplot as plt\n",
        "from keras import backend as K\n",
        "from keras.utils import to_categorical\n",
        "from sklearn.model_selection import train_test_split"
      ]
    },
    {
      "cell_type": "code",
      "execution_count": null,
      "metadata": {
        "id": "wMF8F0yXGmeH"
      },
      "outputs": [],
      "source": [
        "#Load input images and masks. \n",
        "#Here we load 256x256x256 pixel volume. We will break it into patches of 64x64x64 for training. \n",
        "image = io.imread('/content/drive/MyDrive/Colab Notebooks/data/composite-bright.tif')\n",
        "image = image.astype('float')\n",
        "img_patches = patchify(image, (64, 64, 64), step=64)  #Step=64 for 64 patches means no overlap\n",
        "\n",
        "\n",
        "mask = io.imread('/content/drive/MyDrive/Colab Notebooks/data/MASK_composite.tif')\n",
        "mask = mask.astype('float')\n",
        "mask_patches = patchify(mask, (64, 64, 64), step=64)  "
      ]
    },
    {
      "cell_type": "code",
      "execution_count": null,
      "metadata": {
        "colab": {
          "base_uri": "https://localhost:8080/"
        },
        "id": "4IBXnwofkGQw",
        "outputId": "0bfb41c7-d882-4cd1-9d29-eba122c757fd"
      },
      "outputs": [
        {
          "output_type": "stream",
          "name": "stdout",
          "text": [
            "(256, 256, 256)\n",
            "(4, 4, 4, 64, 64, 64)\n",
            "(4, 4, 4, 64, 64, 64)\n"
          ]
        }
      ],
      "source": [
        "print(image.shape)\n",
        "print(img_patches.shape)\n",
        "print(mask_patches.shape)"
      ]
    },
    {
      "cell_type": "code",
      "execution_count": null,
      "metadata": {
        "colab": {
          "base_uri": "https://localhost:8080/"
        },
        "id": "CcINOcoNNzk3",
        "outputId": "7f51e201-a6e4-48cc-c967-d0531a8f71d7"
      },
      "outputs": [
        {
          "output_type": "stream",
          "name": "stdout",
          "text": [
            "(4, 4, 4, 64, 64, 64)\n"
          ]
        }
      ],
      "source": [
        "print(img_patches.shape)"
      ]
    },
    {
      "cell_type": "code",
      "source": [
        "plt.imshow(image[25])"
      ],
      "metadata": {
        "colab": {
          "base_uri": "https://localhost:8080/",
          "height": 287
        },
        "id": "WPmLfe1b9_JF",
        "outputId": "ae12a482-f0b3-4cd2-d5dd-e91756068afa"
      },
      "execution_count": null,
      "outputs": [
        {
          "output_type": "execute_result",
          "data": {
            "text/plain": [
              "<matplotlib.image.AxesImage at 0x7f1a513efed0>"
            ]
          },
          "metadata": {},
          "execution_count": 14
        },
        {
          "output_type": "display_data",
          "data": {
            "text/plain": [
              "<Figure size 432x288 with 1 Axes>"
            ],
            "image/png": "[encoded data removed]"
          },
          "metadata": {
            "needs_background": "light"
          }
        }
      ]
    },
    {
      "cell_type": "code",
      "source": [
        "plt.imshow(mask[25])"
      ],
      "metadata": {
        "colab": {
          "base_uri": "https://localhost:8080/",
          "height": 287
        },
        "id": "zaO5jA52-LIL",
        "outputId": "93f6a10e-704c-4bbe-9144-03ead5951b02"
      },
      "execution_count": null,
      "outputs": [
        {
          "output_type": "execute_result",
          "data": {
            "text/plain": [
              "<matplotlib.image.AxesImage at 0x7f1a4f6e2e10>"
            ]
          },
          "metadata": {},
          "execution_count": 15
        },
        {
          "output_type": "display_data",
          "data": {
            "text/plain": [
              "<Figure size 432x288 with 1 Axes>"
            ],
            "image/png": "[encoded data removed]"
          },
          "metadata": {
            "needs_background": "light"
          }
        }
      ]
    },
    {
      "cell_type": "code",
      "execution_count": null,
      "metadata": {
        "colab": {
          "base_uri": "https://localhost:8080/",
          "height": 286
        },
        "id": "IVnYyVZXNaaP",
        "outputId": "85c9c4d0-b7ac-403f-ada5-7b1146f0d9b0"
      },
      "outputs": [
        {
          "output_type": "execute_result",
          "data": {
            "text/plain": [
              "<matplotlib.image.AxesImage at 0x7f1a4f6670d0>"
            ]
          },
          "metadata": {},
          "execution_count": 16
        },
        {
          "output_type": "display_data",
          "data": {
            "text/plain": [
              "<Figure size 432x288 with 1 Axes>"
            ],
            "image/png": "[encoded data removed]"
          },
          "metadata": {
            "needs_background": "light"
          }
        }
      ],
      "source": [
        "plt.imshow(img_patches[1,2,3,:,:,45])\n"
      ]
    },
    {
      "cell_type": "code",
      "execution_count": null,
      "metadata": {
        "colab": {
          "base_uri": "https://localhost:8080/",
          "height": 286
        },
        "id": "y0LFuQLMwZKU",
        "outputId": "04885483-9629-4e97-ae6a-f00116d17073"
      },
      "outputs": [
        {
          "output_type": "execute_result",
          "data": {
            "text/plain": [
              "<matplotlib.image.AxesImage at 0x7f1a4f5d6710>"
            ]
          },
          "metadata": {},
          "execution_count": 17
        },
        {
          "output_type": "display_data",
          "data": {
            "text/plain": [
              "<Figure size 432x288 with 1 Axes>"
            ],
            "image/png": "[encoded data removed]"
          },
          "metadata": {
            "needs_background": "light"
          }
        }
      ],
      "source": [
        "plt.imshow(mask_patches[1,2,3,:,:,45])"
      ]
    },
    {
      "cell_type": "code",
      "execution_count": null,
      "metadata": {
        "colab": {
          "base_uri": "https://localhost:8080/"
        },
        "id": "ctPR2XPiNacx",
        "outputId": "ac8ce151-2132-4d99-a1ea-cbcf0fbf8b79"
      },
      "outputs": [
        {
          "output_type": "stream",
          "name": "stdout",
          "text": [
            "(64, 64, 64, 64)\n",
            "(64, 64, 64, 64)\n"
          ]
        }
      ],
      "source": [
        "input_img = np.reshape(img_patches, (-1, img_patches.shape[3], img_patches.shape[4], img_patches.shape[5]))\n",
        "input_mask = np.reshape(mask_patches, (-1, mask_patches.shape[3], mask_patches.shape[4], mask_patches.shape[5]))\n",
        "\n",
        "print(input_img.shape)  # n_patches, x, y, z\n",
        "print(input_mask.shape)  # n_patches, x, y, z"
      ]
    },
    {
      "cell_type": "code",
      "execution_count": null,
      "metadata": {
        "id": "4gOWbRsKNafI"
      },
      "outputs": [],
      "source": [
        "n_classes=2"
      ]
    },
    {
      "cell_type": "code",
      "execution_count": null,
      "metadata": {
        "colab": {
          "base_uri": "https://localhost:8080/"
        },
        "id": "wuXIf_pTNaiP",
        "outputId": "560fbe93-21c0-44cf-e4ff-12e74f7ec8eb"
      },
      "outputs": [
        {
          "output_type": "stream",
          "name": "stdout",
          "text": [
            "(64, 64, 64, 64, 3)\n",
            "(64, 64, 64, 64, 1)\n",
            "hi\n",
            "(64, 64, 64, 64, 2)\n",
            "(57, 64, 64, 64, 3)\n",
            "(7, 64, 64, 64, 3)\n",
            "2\n",
            "(57, 64, 64, 64, 2)\n",
            "(7, 64, 64, 64, 2)\n"
          ]
        }
      ],
      "source": [
        "from tensorflow.python import train\n",
        "#Convert grey image to 3 channels by copying channel 3 times.\n",
        "#We do this as our unet model expects 3 channel input. \n",
        "\n",
        "train_img = np.stack((input_img,)*3, axis=-1)\n",
        "train_mask = np.expand_dims((input_mask/128), axis=4)\n",
        "\n",
        "print(train_img.shape)\n",
        "print(train_mask.shape)\n",
        "#print(train_mask)\n",
        "print(\"hi\")\n",
        "\n",
        "\n",
        "train_mask_cat = to_categorical(train_mask, num_classes=n_classes)\n",
        "\n",
        "#train_mask_cat = tf.keras.utils.to_categorical(train_mask, num_classes=None, dtype='float32')\n",
        "\n",
        "#print(train_mask_cat.shape)\n",
        "\n",
        "\n",
        "X_train, X_test, y_train, y_test = train_test_split(train_img, train_mask_cat , test_size = 0.10, random_state = 0)\n",
        "\n",
        "print(train_mask_cat.shape)\n",
        "print(X_train.shape)\n",
        "print(X_test.shape)\n",
        "print(\"2\")\n",
        "\n",
        "print(y_train.shape)\n",
        "print(y_test.shape)"
      ]
    },
    {
      "cell_type": "markdown",
      "metadata": {
        "id": "c_p7lqFVvaeE"
      },
      "source": [
        "# New section"
      ]
    },
    {
      "cell_type": "code",
      "execution_count": null,
      "metadata": {
        "id": "4vPniqpfOW3Z"
      },
      "outputs": [],
      "source": [
        "# Loss Function and coefficients to be used during training:\n",
        "def dice_coefficient(y_true, y_pred):\n",
        "    smoothing_factor = 1\n",
        "    flat_y_true = K.flatten(y_true)\n",
        "    flat_y_pred = K.flatten(y_pred)\n",
        "    return (2. * K.sum(flat_y_true * flat_y_pred) + smoothing_factor) / (K.sum(flat_y_true) + K.sum(flat_y_pred) + smoothing_factor)\n",
        "\n",
        "def dice_coefficient_loss(y_true, y_pred):\n",
        "    return 1 - dice_coefficient(y_true, y_pred)"
      ]
    },
    {
      "cell_type": "code",
      "execution_count": null,
      "metadata": {
        "id": "bCE2wcEGOW6M"
      },
      "outputs": [],
      "source": [
        "#Define parameters for our model.\n",
        "\n",
        "encoder_weights = 'imagenet'\n",
        "BACKBONE = 'vgg16'  #Try vgg16, efficientnetb7, inceptionv3, resnet50\n",
        "activation = 'softmax'\n",
        "patch_size = 64\n",
        "n_classes = 2\n",
        "channels= 3\n",
        "\n",
        "\n",
        "\n",
        "LR = 0.0001\n",
        "optim = keras.optimizers.Adam(LR)\n",
        "\n",
        "\n",
        "# Segmentation models losses can be combined together by '+' and scaled by integer or float factor\n",
        "# set class weights for dice_loss (car: 1.; pedestrian: 2.; background: 0.5;)\n",
        "dice_loss = sm.losses.DiceLoss(class_weights=np.array([0.5, 0.5, 0, 0])) \n",
        "focal_loss = sm.losses.CategoricalFocalLoss()\n",
        "#total_loss = dice_loss + (1 * focal_loss)\n",
        "\n",
        "# actulally total_loss can be imported directly from library, above example just show you how to manipulate with losses\n",
        "#total_loss = sm.losses.binary_focal_dice_loss # or sm.losses.categorical_focal_dice_loss \n",
        "total_loss = sm.losses.categorical_focal_dice_loss\n",
        "\n",
        "metrics = [sm.metrics.IOUScore(threshold=0.5), sm.metrics.FScore(threshold=0.5)]\n",
        "#print(metrics)"
      ]
    },
    {
      "cell_type": "code",
      "execution_count": null,
      "metadata": {
        "id": "J5qzNHN1OW97"
      },
      "outputs": [],
      "source": [
        "preprocess_input = sm.get_preprocessing(BACKBONE)"
      ]
    },
    {
      "cell_type": "code",
      "execution_count": null,
      "metadata": {
        "colab": {
          "base_uri": "https://localhost:8080/"
        },
        "id": "OdVtPQJKOW_U",
        "outputId": "6f76a33f-e8b6-4d57-a9ec-4808139bc204"
      },
      "outputs": [
        {
          "output_type": "stream",
          "name": "stdout",
          "text": [
            "(57, 64, 64, 64, 3)\n",
            "(7, 64, 64, 64, 3)\n"
          ]
        }
      ],
      "source": [
        "#Preprocess input data - otherwise you end up with garbage resutls \n",
        "# and potentially model that does not converge.\n",
        "X_train_prep = preprocess_input(X_train)\n",
        "X_test_prep = preprocess_input(X_test)\n",
        "\n",
        "print(X_train_prep.shape)\n",
        "print(X_test_prep.shape)"
      ]
    },
    {
      "cell_type": "code",
      "execution_count": null,
      "metadata": {
        "colab": {
          "base_uri": "https://localhost:8080/"
        },
        "id": "1_QhoRA5OXBy",
        "outputId": "d1dd3157-9589-4788-c0ec-859ef4f21537"
      },
      "outputs": [
        {
          "output_type": "stream",
          "name": "stdout",
          "text": [
            "Model: \"model_3\"\n",
            "__________________________________________________________________________________________________\n",
            " Layer (type)                   Output Shape         Param #     Connected to                     \n",
            "==================================================================================================\n",
            " input_4 (InputLayer)           [(None, 64, 64, 64,  0           []                               \n",
            "                                 3)]                                                              \n",
            "                                                                                                  \n",
            " block1_conv1 (Conv3D)          (None, 64, 64, 64,   5248        ['input_4[0][0]']                \n",
            "                                64)                                                               \n",
            "                                                                                                  \n",
            " block1_conv2 (Conv3D)          (None, 64, 64, 64,   110656      ['block1_conv1[0][0]']           \n",
            "                                64)                                                               \n",
            "                                                                                                  \n",
            " block1_pool (MaxPooling3D)     (None, 32, 32, 32,   0           ['block1_conv2[0][0]']           \n",
            "                                64)                                                               \n",
            "                                                                                                  \n",
            " block2_conv1 (Conv3D)          (None, 32, 32, 32,   221312      ['block1_pool[0][0]']            \n",
            "                                128)                                                              \n",
            "                                                                                                  \n",
            " block2_conv2 (Conv3D)          (None, 32, 32, 32,   442496      ['block2_conv1[0][0]']           \n",
            "                                128)                                                              \n",
            "                                                                                                  \n",
            " block2_pool (MaxPooling3D)     (None, 16, 16, 16,   0           ['block2_conv2[0][0]']           \n",
            "                                128)                                                              \n",
            "                                                                                                  \n",
            " block3_conv1 (Conv3D)          (None, 16, 16, 16,   884992      ['block2_pool[0][0]']            \n",
            "                                256)                                                              \n",
            "                                                                                                  \n",
            " block3_conv2 (Conv3D)          (None, 16, 16, 16,   1769728     ['block3_conv1[0][0]']           \n",
            "                                256)                                                              \n",
            "                                                                                                  \n",
            " block3_conv3 (Conv3D)          (None, 16, 16, 16,   1769728     ['block3_conv2[0][0]']           \n",
            "                                256)                                                              \n",
            "                                                                                                  \n",
            " block3_pool (MaxPooling3D)     (None, 8, 8, 8, 256  0           ['block3_conv3[0][0]']           \n",
            "                                )                                                                 \n",
            "                                                                                                  \n",
            " block4_conv1 (Conv3D)          (None, 8, 8, 8, 512  3539456     ['block3_pool[0][0]']            \n",
            "                                )                                                                 \n",
            "                                                                                                  \n",
            " block4_conv2 (Conv3D)          (None, 8, 8, 8, 512  7078400     ['block4_conv1[0][0]']           \n",
            "                                )                                                                 \n",
            "                                                                                                  \n",
            " block4_conv3 (Conv3D)          (None, 8, 8, 8, 512  7078400     ['block4_conv2[0][0]']           \n",
            "                                )                                                                 \n",
            "                                                                                                  \n",
            " block4_pool (MaxPooling3D)     (None, 4, 4, 4, 512  0           ['block4_conv3[0][0]']           \n",
            "                                )                                                                 \n",
            "                                                                                                  \n",
            " block5_conv1 (Conv3D)          (None, 4, 4, 4, 512  7078400     ['block4_pool[0][0]']            \n",
            "                                )                                                                 \n",
            "                                                                                                  \n",
            " block5_conv2 (Conv3D)          (None, 4, 4, 4, 512  7078400     ['block5_conv1[0][0]']           \n",
            "                                )                                                                 \n",
            "                                                                                                  \n",
            " block5_conv3 (Conv3D)          (None, 4, 4, 4, 512  7078400     ['block5_conv2[0][0]']           \n",
            "                                )                                                                 \n",
            "                                                                                                  \n",
            " block5_pool (MaxPooling3D)     (None, 2, 2, 2, 512  0           ['block5_conv3[0][0]']           \n",
            "                                )                                                                 \n",
            "                                                                                                  \n",
            " center_block1_conv (Conv3D)    (None, 2, 2, 2, 512  7077888     ['block5_pool[0][0]']            \n",
            "                                )                                                                 \n",
            "                                                                                                  \n",
            " center_block1_bn (BatchNormali  (None, 2, 2, 2, 512  2048       ['center_block1_conv[0][0]']     \n",
            " zation)                        )                                                                 \n",
            "                                                                                                  \n",
            " center_block1_relu (Activation  (None, 2, 2, 2, 512  0          ['center_block1_bn[0][0]']       \n",
            " )                              )                                                                 \n",
            "                                                                                                  \n",
            " center_block2_conv (Conv3D)    (None, 2, 2, 2, 512  7077888     ['center_block1_relu[0][0]']     \n",
            "                                )                                                                 \n",
            "                                                                                                  \n",
            " center_block2_bn (BatchNormali  (None, 2, 2, 2, 512  2048       ['center_block2_conv[0][0]']     \n",
            " zation)                        )                                                                 \n",
            "                                                                                                  \n",
            " center_block2_relu (Activation  (None, 2, 2, 2, 512  0          ['center_block2_bn[0][0]']       \n",
            " )                              )                                                                 \n",
            "                                                                                                  \n",
            " decoder_stage0_upsampling (UpS  (None, 4, 4, 4, 512  0          ['center_block2_relu[0][0]']     \n",
            " ampling3D)                     )                                                                 \n",
            "                                                                                                  \n",
            " decoder_stage0_concat (Concate  (None, 4, 4, 4, 102  0          ['decoder_stage0_upsampling[0][0]\n",
            " nate)                          4)                               ',                               \n",
            "                                                                  'block5_conv3[0][0]']           \n",
            "                                                                                                  \n",
            " decoder_stage0a_conv (Conv3D)  (None, 4, 4, 4, 256  7077888     ['decoder_stage0_concat[0][0]']  \n",
            "                                )                                                                 \n",
            "                                                                                                  \n",
            " decoder_stage0a_bn (BatchNorma  (None, 4, 4, 4, 256  1024       ['decoder_stage0a_conv[0][0]']   \n",
            " lization)                      )                                                                 \n",
            "                                                                                                  \n",
            " decoder_stage0a_relu (Activati  (None, 4, 4, 4, 256  0          ['decoder_stage0a_bn[0][0]']     \n",
            " on)                            )                                                                 \n",
            "                                                                                                  \n",
            " decoder_stage0b_conv (Conv3D)  (None, 4, 4, 4, 256  1769472     ['decoder_stage0a_relu[0][0]']   \n",
            "                                )                                                                 \n",
            "                                                                                                  \n",
            " decoder_stage0b_bn (BatchNorma  (None, 4, 4, 4, 256  1024       ['decoder_stage0b_conv[0][0]']   \n",
            " lization)                      )                                                                 \n",
            "                                                                                                  \n",
            " decoder_stage0b_relu (Activati  (None, 4, 4, 4, 256  0          ['decoder_stage0b_bn[0][0]']     \n",
            " on)                            )                                                                 \n",
            "                                                                                                  \n",
            " decoder_stage1_upsampling (UpS  (None, 8, 8, 8, 256  0          ['decoder_stage0b_relu[0][0]']   \n",
            " ampling3D)                     )                                                                 \n",
            "                                                                                                  \n",
            " decoder_stage1_concat (Concate  (None, 8, 8, 8, 768  0          ['decoder_stage1_upsampling[0][0]\n",
            " nate)                          )                                ',                               \n",
            "                                                                  'block4_conv3[0][0]']           \n",
            "                                                                                                  \n",
            " decoder_stage1a_conv (Conv3D)  (None, 8, 8, 8, 128  2654208     ['decoder_stage1_concat[0][0]']  \n",
            "                                )                                                                 \n",
            "                                                                                                  \n",
            " decoder_stage1a_bn (BatchNorma  (None, 8, 8, 8, 128  512        ['decoder_stage1a_conv[0][0]']   \n",
            " lization)                      )                                                                 \n",
            "                                                                                                  \n",
            " decoder_stage1a_relu (Activati  (None, 8, 8, 8, 128  0          ['decoder_stage1a_bn[0][0]']     \n",
            " on)                            )                                                                 \n",
            "                                                                                                  \n",
            " decoder_stage1b_conv (Conv3D)  (None, 8, 8, 8, 128  442368      ['decoder_stage1a_relu[0][0]']   \n",
            "                                )                                                                 \n",
            "                                                                                                  \n",
            " decoder_stage1b_bn (BatchNorma  (None, 8, 8, 8, 128  512        ['decoder_stage1b_conv[0][0]']   \n",
            " lization)                      )                                                                 \n",
            "                                                                                                  \n",
            " decoder_stage1b_relu (Activati  (None, 8, 8, 8, 128  0          ['decoder_stage1b_bn[0][0]']     \n",
            " on)                            )                                                                 \n",
            "                                                                                                  \n",
            " decoder_stage2_upsampling (UpS  (None, 16, 16, 16,   0          ['decoder_stage1b_relu[0][0]']   \n",
            " ampling3D)                     128)                                                              \n",
            "                                                                                                  \n",
            " decoder_stage2_concat (Concate  (None, 16, 16, 16,   0          ['decoder_stage2_upsampling[0][0]\n",
            " nate)                          384)                             ',                               \n",
            "                                                                  'block3_conv3[0][0]']           \n",
            "                                                                                                  \n",
            " decoder_stage2a_conv (Conv3D)  (None, 16, 16, 16,   663552      ['decoder_stage2_concat[0][0]']  \n",
            "                                64)                                                               \n",
            "                                                                                                  \n",
            " decoder_stage2a_bn (BatchNorma  (None, 16, 16, 16,   256        ['decoder_stage2a_conv[0][0]']   \n",
            " lization)                      64)                                                               \n",
            "                                                                                                  \n",
            " decoder_stage2a_relu (Activati  (None, 16, 16, 16,   0          ['decoder_stage2a_bn[0][0]']     \n",
            " on)                            64)                                                               \n",
            "                                                                                                  \n",
            " decoder_stage2b_conv (Conv3D)  (None, 16, 16, 16,   110592      ['decoder_stage2a_relu[0][0]']   \n",
            "                                64)                                                               \n",
            "                                                                                                  \n",
            " decoder_stage2b_bn (BatchNorma  (None, 16, 16, 16,   256        ['decoder_stage2b_conv[0][0]']   \n",
            " lization)                      64)                                                               \n",
            "                                                                                                  \n",
            " decoder_stage2b_relu (Activati  (None, 16, 16, 16,   0          ['decoder_stage2b_bn[0][0]']     \n",
            " on)                            64)                                                               \n",
            "                                                                                                  \n",
            " decoder_stage3_upsampling (UpS  (None, 32, 32, 32,   0          ['decoder_stage2b_relu[0][0]']   \n",
            " ampling3D)                     64)                                                               \n",
            "                                                                                                  \n",
            " decoder_stage3_concat (Concate  (None, 32, 32, 32,   0          ['decoder_stage3_upsampling[0][0]\n",
            " nate)                          192)                             ',                               \n",
            "                                                                  'block2_conv2[0][0]']           \n",
            "                                                                                                  \n",
            " decoder_stage3a_conv (Conv3D)  (None, 32, 32, 32,   165888      ['decoder_stage3_concat[0][0]']  \n",
            "                                32)                                                               \n",
            "                                                                                                  \n",
            " decoder_stage3a_bn (BatchNorma  (None, 32, 32, 32,   128        ['decoder_stage3a_conv[0][0]']   \n",
            " lization)                      32)                                                               \n",
            "                                                                                                  \n",
            " decoder_stage3a_relu (Activati  (None, 32, 32, 32,   0          ['decoder_stage3a_bn[0][0]']     \n",
            " on)                            32)                                                               \n",
            "                                                                                                  \n",
            " decoder_stage3b_conv (Conv3D)  (None, 32, 32, 32,   27648       ['decoder_stage3a_relu[0][0]']   \n",
            "                                32)                                                               \n",
            "                                                                                                  \n",
            " decoder_stage3b_bn (BatchNorma  (None, 32, 32, 32,   128        ['decoder_stage3b_conv[0][0]']   \n",
            " lization)                      32)                                                               \n",
            "                                                                                                  \n",
            " decoder_stage3b_relu (Activati  (None, 32, 32, 32,   0          ['decoder_stage3b_bn[0][0]']     \n",
            " on)                            32)                                                               \n",
            "                                                                                                  \n",
            " decoder_stage4_upsampling (UpS  (None, 64, 64, 64,   0          ['decoder_stage3b_relu[0][0]']   \n",
            " ampling3D)                     32)                                                               \n",
            "                                                                                                  \n",
            " decoder_stage4a_conv (Conv3D)  (None, 64, 64, 64,   13824       ['decoder_stage4_upsampling[0][0]\n",
            "                                16)                              ']                               \n",
            "                                                                                                  \n",
            " decoder_stage4a_bn (BatchNorma  (None, 64, 64, 64,   64         ['decoder_stage4a_conv[0][0]']   \n",
            " lization)                      16)                                                               \n",
            "                                                                                                  \n",
            " decoder_stage4a_relu (Activati  (None, 64, 64, 64,   0          ['decoder_stage4a_bn[0][0]']     \n",
            " on)                            16)                                                               \n",
            "                                                                                                  \n",
            " decoder_stage4b_conv (Conv3D)  (None, 64, 64, 64,   6912        ['decoder_stage4a_relu[0][0]']   \n",
            "                                16)                                                               \n",
            "                                                                                                  \n",
            " decoder_stage4b_bn (BatchNorma  (None, 64, 64, 64,   64         ['decoder_stage4b_conv[0][0]']   \n",
            " lization)                      16)                                                               \n",
            "                                                                                                  \n",
            " decoder_stage4b_relu (Activati  (None, 64, 64, 64,   0          ['decoder_stage4b_bn[0][0]']     \n",
            " on)                            16)                                                               \n",
            "                                                                                                  \n",
            " final_conv (Conv3D)            (None, 64, 64, 64,   866         ['decoder_stage4b_relu[0][0]']   \n",
            "                                2)                                                                \n",
            "                                                                                                  \n",
            " softmax (Activation)           (None, 64, 64, 64,   0           ['final_conv[0][0]']             \n",
            "                                2)                                                                \n",
            "                                                                                                  \n",
            "==================================================================================================\n",
            "Total params: 71,232,674\n",
            "Trainable params: 71,228,642\n",
            "Non-trainable params: 4,032\n",
            "__________________________________________________________________________________________________\n",
            "None\n"
          ]
        }
      ],
      "source": [
        "#Define the model. Here we use Unet but we can also use other model architectures from the library.\n",
        "model = sm.Unet(BACKBONE, classes= n_classes, \n",
        "                input_shape=(patch_size, patch_size, patch_size, channels), \n",
        "                encoder_weights=encoder_weights,\n",
        "                activation=activation)\n",
        "\n",
        "#model.compile(optimizer = optim, loss= total_loss , metrics=metrics)\n",
        "\n",
        "model.compile(optimizer=optim, loss=keras.losses.categorical_crossentropy, metrics=metrics)\n",
        "\n",
        "print(model.summary())\n"
      ]
    },
    {
      "cell_type": "code",
      "execution_count": null,
      "metadata": {
        "colab": {
          "base_uri": "https://localhost:8080/"
        },
        "id": "DvlDVfLPOnn7",
        "outputId": "9c4c9905-b3dd-4f2f-a5b6-4bc7ae599a76"
      },
      "outputs": [
        {
          "output_type": "stream",
          "name": "stdout",
          "text": [
            "Epoch 1/100\n",
            "8/8 [==============================] - 13s 2s/step - loss: 0.0164 - iou_score: 0.8849 - f1-score: 0.9350 - val_loss: 0.0405 - val_iou_score: 0.8229 - val_f1-score: 0.8934\n",
            "Epoch 2/100\n",
            "8/8 [==============================] - 13s 2s/step - loss: 0.0157 - iou_score: 0.8906 - f1-score: 0.9387 - val_loss: 0.0386 - val_iou_score: 0.8456 - val_f1-score: 0.9095\n",
            "Epoch 3/100\n",
            "8/8 [==============================] - 13s 2s/step - loss: 0.0152 - iou_score: 0.9020 - f1-score: 0.9450 - val_loss: 0.0357 - val_iou_score: 0.8384 - val_f1-score: 0.9044\n",
            "Epoch 4/100\n",
            "8/8 [==============================] - 13s 2s/step - loss: 0.0148 - iou_score: 0.8870 - f1-score: 0.9364 - val_loss: 0.0341 - val_iou_score: 0.8536 - val_f1-score: 0.9149\n",
            "Epoch 5/100\n",
            "8/8 [==============================] - 13s 2s/step - loss: 0.0143 - iou_score: 0.8926 - f1-score: 0.9400 - val_loss: 0.0335 - val_iou_score: 0.8351 - val_f1-score: 0.9021\n",
            "Epoch 6/100\n",
            "8/8 [==============================] - 13s 2s/step - loss: 0.0139 - iou_score: 0.8961 - f1-score: 0.9421 - val_loss: 0.0313 - val_iou_score: 0.8553 - val_f1-score: 0.9160\n",
            "Epoch 7/100\n",
            "8/8 [==============================] - 13s 2s/step - loss: 0.0136 - iou_score: 0.8919 - f1-score: 0.9393 - val_loss: 0.0304 - val_iou_score: 0.8611 - val_f1-score: 0.9199\n",
            "Epoch 8/100\n",
            "8/8 [==============================] - 13s 2s/step - loss: 0.0131 - iou_score: 0.8952 - f1-score: 0.9415 - val_loss: 0.0290 - val_iou_score: 0.8612 - val_f1-score: 0.9200\n",
            "Epoch 9/100\n",
            "8/8 [==============================] - 13s 2s/step - loss: 0.0127 - iou_score: 0.9022 - f1-score: 0.9457 - val_loss: 0.0286 - val_iou_score: 0.8529 - val_f1-score: 0.9144\n",
            "Epoch 10/100\n",
            "8/8 [==============================] - 13s 2s/step - loss: 0.0125 - iou_score: 0.8907 - f1-score: 0.9385 - val_loss: 0.0277 - val_iou_score: 0.8715 - val_f1-score: 0.9268\n",
            "Epoch 11/100\n",
            "8/8 [==============================] - 13s 2s/step - loss: 0.0122 - iou_score: 0.8993 - f1-score: 0.9438 - val_loss: 0.0262 - val_iou_score: 0.8659 - val_f1-score: 0.9231\n",
            "Epoch 12/100\n",
            "8/8 [==============================] - 13s 2s/step - loss: 0.0118 - iou_score: 0.8933 - f1-score: 0.9397 - val_loss: 0.0266 - val_iou_score: 0.8576 - val_f1-score: 0.9176\n",
            "Epoch 13/100\n",
            "8/8 [==============================] - 13s 2s/step - loss: 0.0115 - iou_score: 0.9049 - f1-score: 0.9475 - val_loss: 0.0256 - val_iou_score: 0.8761 - val_f1-score: 0.9298\n",
            "Epoch 14/100\n",
            "8/8 [==============================] - 13s 2s/step - loss: 0.0113 - iou_score: 0.9024 - f1-score: 0.9459 - val_loss: 0.0241 - val_iou_score: 0.8687 - val_f1-score: 0.9249\n",
            "Epoch 15/100\n",
            "8/8 [==============================] - 13s 2s/step - loss: 0.0110 - iou_score: 0.9036 - f1-score: 0.9467 - val_loss: 0.0239 - val_iou_score: 0.8813 - val_f1-score: 0.9331\n",
            "Epoch 16/100\n",
            "8/8 [==============================] - 13s 2s/step - loss: 0.0111 - iou_score: 0.8972 - f1-score: 0.9425 - val_loss: 0.0234 - val_iou_score: 0.8549 - val_f1-score: 0.9157\n",
            "Epoch 17/100\n",
            "8/8 [==============================] - 13s 2s/step - loss: 0.0112 - iou_score: 0.8997 - f1-score: 0.9443 - val_loss: 0.0253 - val_iou_score: 0.8785 - val_f1-score: 0.9313\n",
            "Epoch 18/100\n",
            "8/8 [==============================] - 13s 2s/step - loss: 0.0105 - iou_score: 0.9041 - f1-score: 0.9470 - val_loss: 0.0221 - val_iou_score: 0.8750 - val_f1-score: 0.9290\n",
            "Epoch 19/100\n",
            "8/8 [==============================] - 13s 2s/step - loss: 0.0105 - iou_score: 0.9051 - f1-score: 0.9476 - val_loss: 0.0229 - val_iou_score: 0.8648 - val_f1-score: 0.9224\n",
            "Epoch 20/100\n",
            "8/8 [==============================] - 13s 2s/step - loss: 0.0101 - iou_score: 0.9013 - f1-score: 0.9450 - val_loss: 0.0235 - val_iou_score: 0.8829 - val_f1-score: 0.9341\n",
            "Epoch 21/100\n",
            "8/8 [==============================] - 13s 2s/step - loss: 0.0098 - iou_score: 0.9079 - f1-score: 0.9491 - val_loss: 0.0208 - val_iou_score: 0.8823 - val_f1-score: 0.9337\n",
            "Epoch 22/100\n",
            "8/8 [==============================] - 13s 2s/step - loss: 0.0095 - iou_score: 0.9150 - f1-score: 0.9536 - val_loss: 0.0201 - val_iou_score: 0.8913 - val_f1-score: 0.9393\n",
            "Epoch 23/100\n",
            "8/8 [==============================] - 13s 2s/step - loss: 0.0094 - iou_score: 0.9091 - f1-score: 0.9499 - val_loss: 0.0193 - val_iou_score: 0.8856 - val_f1-score: 0.9358\n",
            "Epoch 24/100\n",
            "8/8 [==============================] - 13s 2s/step - loss: 0.0093 - iou_score: 0.9139 - f1-score: 0.9528 - val_loss: 0.0194 - val_iou_score: 0.8822 - val_f1-score: 0.9337\n",
            "Epoch 25/100\n",
            "8/8 [==============================] - 13s 2s/step - loss: 0.0090 - iou_score: 0.8970 - f1-score: 0.9405 - val_loss: 0.0202 - val_iou_score: 0.8915 - val_f1-score: 0.9395\n",
            "Epoch 26/100\n",
            "8/8 [==============================] - 13s 2s/step - loss: 0.0088 - iou_score: 0.9165 - f1-score: 0.9544 - val_loss: 0.0189 - val_iou_score: 0.8898 - val_f1-score: 0.9384\n",
            "Epoch 27/100\n",
            "8/8 [==============================] - 13s 2s/step - loss: 0.0088 - iou_score: 0.9108 - f1-score: 0.9508 - val_loss: 0.0193 - val_iou_score: 0.8980 - val_f1-score: 0.9435\n",
            "Epoch 28/100\n",
            "8/8 [==============================] - 13s 2s/step - loss: 0.0086 - iou_score: 0.8671 - f1-score: 0.8993 - val_loss: 0.0190 - val_iou_score: 0.8961 - val_f1-score: 0.9423\n",
            "Epoch 29/100\n",
            "8/8 [==============================] - 13s 2s/step - loss: 0.0085 - iou_score: 0.9008 - f1-score: 0.9433 - val_loss: 0.0181 - val_iou_score: 0.8989 - val_f1-score: 0.9441\n",
            "Epoch 30/100\n",
            "8/8 [==============================] - 13s 2s/step - loss: 0.0082 - iou_score: 0.9208 - f1-score: 0.9570 - val_loss: 0.0178 - val_iou_score: 0.9024 - val_f1-score: 0.9462\n",
            "Epoch 31/100\n",
            "8/8 [==============================] - 13s 2s/step - loss: 0.0082 - iou_score: 0.9204 - f1-score: 0.9568 - val_loss: 0.0198 - val_iou_score: 0.8980 - val_f1-score: 0.9435\n",
            "Epoch 32/100\n",
            "8/8 [==============================] - 13s 2s/step - loss: 0.0081 - iou_score: 0.9228 - f1-score: 0.9582 - val_loss: 0.0174 - val_iou_score: 0.8963 - val_f1-score: 0.9425\n",
            "Epoch 33/100\n",
            "8/8 [==============================] - 13s 2s/step - loss: 0.0080 - iou_score: 0.9211 - f1-score: 0.9572 - val_loss: 0.0172 - val_iou_score: 0.9009 - val_f1-score: 0.9453\n",
            "Epoch 34/100\n",
            "8/8 [==============================] - 13s 2s/step - loss: 0.0079 - iou_score: 0.9237 - f1-score: 0.9587 - val_loss: 0.0188 - val_iou_score: 0.8997 - val_f1-score: 0.9446\n",
            "Epoch 35/100\n",
            "8/8 [==============================] - 13s 2s/step - loss: 0.0078 - iou_score: 0.9219 - f1-score: 0.9577 - val_loss: 0.0172 - val_iou_score: 0.9008 - val_f1-score: 0.9452\n",
            "Epoch 36/100\n",
            "8/8 [==============================] - 13s 2s/step - loss: 0.0076 - iou_score: 0.9333 - f1-score: 0.9640 - val_loss: 0.0176 - val_iou_score: 0.9018 - val_f1-score: 0.9458\n",
            "Epoch 37/100\n",
            "8/8 [==============================] - 13s 2s/step - loss: 0.0074 - iou_score: 0.9278 - f1-score: 0.9611 - val_loss: 0.0168 - val_iou_score: 0.9071 - val_f1-score: 0.9490\n",
            "Epoch 38/100\n",
            "8/8 [==============================] - 13s 2s/step - loss: 0.0073 - iou_score: 0.9284 - f1-score: 0.9615 - val_loss: 0.0163 - val_iou_score: 0.9078 - val_f1-score: 0.9494\n",
            "Epoch 39/100\n",
            "8/8 [==============================] - 13s 2s/step - loss: 0.0070 - iou_score: 0.9291 - f1-score: 0.9619 - val_loss: 0.0163 - val_iou_score: 0.9076 - val_f1-score: 0.9493\n",
            "Epoch 40/100\n",
            "8/8 [==============================] - 13s 2s/step - loss: 0.0070 - iou_score: 0.9186 - f1-score: 0.9551 - val_loss: 0.0159 - val_iou_score: 0.9103 - val_f1-score: 0.9509\n",
            "Epoch 41/100\n",
            "8/8 [==============================] - 13s 2s/step - loss: 0.0069 - iou_score: 0.9310 - f1-score: 0.9630 - val_loss: 0.0199 - val_iou_score: 0.8906 - val_f1-score: 0.9390\n",
            "Epoch 42/100\n",
            "8/8 [==============================] - 13s 2s/step - loss: 0.0069 - iou_score: 0.9396 - f1-score: 0.9676 - val_loss: 0.0151 - val_iou_score: 0.9099 - val_f1-score: 0.9507\n",
            "Epoch 43/100\n",
            "8/8 [==============================] - 13s 2s/step - loss: 0.0068 - iou_score: 0.9237 - f1-score: 0.9584 - val_loss: 0.0167 - val_iou_score: 0.9078 - val_f1-score: 0.9495\n",
            "Epoch 44/100\n",
            "8/8 [==============================] - 13s 2s/step - loss: 0.0068 - iou_score: 0.9300 - f1-score: 0.9624 - val_loss: 0.0188 - val_iou_score: 0.9008 - val_f1-score: 0.9453\n",
            "Epoch 45/100\n",
            "8/8 [==============================] - 13s 2s/step - loss: 0.0067 - iou_score: 0.9297 - f1-score: 0.9622 - val_loss: 0.0152 - val_iou_score: 0.9087 - val_f1-score: 0.9500\n",
            "Epoch 46/100\n",
            "8/8 [==============================] - 13s 2s/step - loss: 0.0065 - iou_score: 0.9302 - f1-score: 0.9625 - val_loss: 0.0157 - val_iou_score: 0.9100 - val_f1-score: 0.9508\n",
            "Epoch 47/100\n",
            "8/8 [==============================] - 13s 2s/step - loss: 0.0065 - iou_score: 0.9308 - f1-score: 0.9629 - val_loss: 0.0169 - val_iou_score: 0.9046 - val_f1-score: 0.9475\n",
            "Epoch 48/100\n",
            "8/8 [==============================] - 13s 2s/step - loss: 0.0067 - iou_score: 0.9263 - f1-score: 0.9602 - val_loss: 0.0181 - val_iou_score: 0.8985 - val_f1-score: 0.9438\n",
            "Epoch 49/100\n",
            "8/8 [==============================] - 13s 2s/step - loss: 0.0069 - iou_score: 0.9214 - f1-score: 0.9568 - val_loss: 0.0153 - val_iou_score: 0.8911 - val_f1-score: 0.9392\n",
            "Epoch 50/100\n",
            "8/8 [==============================] - 13s 2s/step - loss: 0.0065 - iou_score: 0.9300 - f1-score: 0.9624 - val_loss: 0.0152 - val_iou_score: 0.9073 - val_f1-score: 0.9491\n",
            "Epoch 51/100\n",
            "8/8 [==============================] - 13s 2s/step - loss: 0.0064 - iou_score: 0.9403 - f1-score: 0.9679 - val_loss: 0.0166 - val_iou_score: 0.9049 - val_f1-score: 0.9477\n",
            "Epoch 52/100\n",
            "8/8 [==============================] - 13s 2s/step - loss: 0.0063 - iou_score: 0.8753 - f1-score: 0.9040 - val_loss: 0.0146 - val_iou_score: 0.9045 - val_f1-score: 0.9475\n",
            "Epoch 53/100\n",
            "8/8 [==============================] - 13s 2s/step - loss: 0.0061 - iou_score: 0.9342 - f1-score: 0.9648 - val_loss: 0.0143 - val_iou_score: 0.9141 - val_f1-score: 0.9532\n",
            "Epoch 54/100\n",
            "8/8 [==============================] - 13s 2s/step - loss: 0.0060 - iou_score: 0.9374 - f1-score: 0.9666 - val_loss: 0.0139 - val_iou_score: 0.9130 - val_f1-score: 0.9526\n",
            "Epoch 55/100\n",
            "8/8 [==============================] - 13s 2s/step - loss: 0.0060 - iou_score: 0.9284 - f1-score: 0.9613 - val_loss: 0.0204 - val_iou_score: 0.8751 - val_f1-score: 0.9291\n",
            "Epoch 56/100\n",
            "8/8 [==============================] - 13s 2s/step - loss: 0.0064 - iou_score: 0.9278 - f1-score: 0.9611 - val_loss: 0.0138 - val_iou_score: 0.9114 - val_f1-score: 0.9516\n",
            "Epoch 57/100\n",
            "8/8 [==============================] - 13s 2s/step - loss: 0.0063 - iou_score: 0.9164 - f1-score: 0.9531 - val_loss: 0.0135 - val_iou_score: 0.9121 - val_f1-score: 0.9520\n",
            "Epoch 58/100\n",
            "8/8 [==============================] - 13s 2s/step - loss: 0.0061 - iou_score: 0.9303 - f1-score: 0.9625 - val_loss: 0.0134 - val_iou_score: 0.9155 - val_f1-score: 0.9541\n",
            "Epoch 59/100\n",
            "8/8 [==============================] - 13s 2s/step - loss: 0.0059 - iou_score: 0.9348 - f1-score: 0.9651 - val_loss: 0.0152 - val_iou_score: 0.9074 - val_f1-score: 0.9492\n",
            "Epoch 60/100\n",
            "8/8 [==============================] - 13s 2s/step - loss: 0.0060 - iou_score: 0.9243 - f1-score: 0.9589 - val_loss: 0.0130 - val_iou_score: 0.9132 - val_f1-score: 0.9527\n",
            "Epoch 61/100\n",
            "8/8 [==============================] - 13s 2s/step - loss: 0.0059 - iou_score: 0.9132 - f1-score: 0.9509 - val_loss: 0.0130 - val_iou_score: 0.9170 - val_f1-score: 0.9549\n",
            "Epoch 62/100\n",
            "8/8 [==============================] - 13s 2s/step - loss: 0.0060 - iou_score: 0.9294 - f1-score: 0.9619 - val_loss: 0.0170 - val_iou_score: 0.9009 - val_f1-score: 0.9453\n",
            "Epoch 63/100\n",
            "8/8 [==============================] - 13s 2s/step - loss: 0.0057 - iou_score: 0.9328 - f1-score: 0.9640 - val_loss: 0.0129 - val_iou_score: 0.9156 - val_f1-score: 0.9541\n",
            "Epoch 64/100\n",
            "8/8 [==============================] - 13s 2s/step - loss: 0.0056 - iou_score: 0.9211 - f1-score: 0.9563 - val_loss: 0.0162 - val_iou_score: 0.9033 - val_f1-score: 0.9468\n",
            "Epoch 65/100\n",
            "8/8 [==============================] - 13s 2s/step - loss: 0.0055 - iou_score: 0.9336 - f1-score: 0.9644 - val_loss: 0.0154 - val_iou_score: 0.9087 - val_f1-score: 0.9500\n",
            "Epoch 66/100\n",
            "8/8 [==============================] - 13s 2s/step - loss: 0.0056 - iou_score: 0.9340 - f1-score: 0.9647 - val_loss: 0.0132 - val_iou_score: 0.9136 - val_f1-score: 0.9529\n",
            "Epoch 67/100\n",
            "8/8 [==============================] - 13s 2s/step - loss: 0.0054 - iou_score: 0.9399 - f1-score: 0.9680 - val_loss: 0.0132 - val_iou_score: 0.9160 - val_f1-score: 0.9544\n",
            "Epoch 68/100\n",
            "8/8 [==============================] - 13s 2s/step - loss: 0.0054 - iou_score: 0.9166 - f1-score: 0.9528 - val_loss: 0.0138 - val_iou_score: 0.9152 - val_f1-score: 0.9539\n",
            "Epoch 69/100\n",
            "8/8 [==============================] - 13s 2s/step - loss: 0.0052 - iou_score: 0.9392 - f1-score: 0.9677 - val_loss: 0.0131 - val_iou_score: 0.9181 - val_f1-score: 0.9556\n",
            "Epoch 70/100\n",
            "8/8 [==============================] - 13s 2s/step - loss: 0.0052 - iou_score: 0.9378 - f1-score: 0.9669 - val_loss: 0.0126 - val_iou_score: 0.9185 - val_f1-score: 0.9558\n",
            "Epoch 71/100\n",
            "8/8 [==============================] - 13s 2s/step - loss: 0.0051 - iou_score: 0.8850 - f1-score: 0.9096 - val_loss: 0.0149 - val_iou_score: 0.9113 - val_f1-score: 0.9516\n",
            "Epoch 72/100\n",
            "8/8 [==============================] - 13s 2s/step - loss: 0.0051 - iou_score: 0.9340 - f1-score: 0.9645 - val_loss: 0.0144 - val_iou_score: 0.9127 - val_f1-score: 0.9524\n",
            "Epoch 73/100\n",
            "8/8 [==============================] - 13s 2s/step - loss: 0.0054 - iou_score: 0.9377 - f1-score: 0.9668 - val_loss: 0.0152 - val_iou_score: 0.9117 - val_f1-score: 0.9518\n",
            "Epoch 74/100\n",
            "8/8 [==============================] - 13s 2s/step - loss: 0.0053 - iou_score: 0.9351 - f1-score: 0.9653 - val_loss: 0.0125 - val_iou_score: 0.9189 - val_f1-score: 0.9561\n",
            "Epoch 75/100\n",
            "8/8 [==============================] - 13s 2s/step - loss: 0.0049 - iou_score: 0.9436 - f1-score: 0.9701 - val_loss: 0.0128 - val_iou_score: 0.9188 - val_f1-score: 0.9560\n",
            "Epoch 76/100\n",
            "8/8 [==============================] - 13s 2s/step - loss: 0.0049 - iou_score: 0.9422 - f1-score: 0.9693 - val_loss: 0.0133 - val_iou_score: 0.9188 - val_f1-score: 0.9560\n",
            "Epoch 77/100\n",
            "8/8 [==============================] - 13s 2s/step - loss: 0.0048 - iou_score: 0.8892 - f1-score: 0.9119 - val_loss: 0.0135 - val_iou_score: 0.9174 - val_f1-score: 0.9552\n",
            "Epoch 78/100\n",
            "8/8 [==============================] - 13s 2s/step - loss: 0.0047 - iou_score: 0.9450 - f1-score: 0.9709 - val_loss: 0.0141 - val_iou_score: 0.9157 - val_f1-score: 0.9542\n",
            "Epoch 79/100\n",
            "8/8 [==============================] - 13s 2s/step - loss: 0.0048 - iou_score: 0.9419 - f1-score: 0.9692 - val_loss: 0.0125 - val_iou_score: 0.9165 - val_f1-score: 0.9547\n",
            "Epoch 80/100\n",
            "8/8 [==============================] - 13s 2s/step - loss: 0.0048 - iou_score: 0.9376 - f1-score: 0.9667 - val_loss: 0.0139 - val_iou_score: 0.9145 - val_f1-score: 0.9535\n",
            "Epoch 81/100\n",
            "8/8 [==============================] - 13s 2s/step - loss: 0.0048 - iou_score: 0.9380 - f1-score: 0.9669 - val_loss: 0.0136 - val_iou_score: 0.9155 - val_f1-score: 0.9541\n",
            "Epoch 82/100\n",
            "8/8 [==============================] - 13s 2s/step - loss: 0.0047 - iou_score: 0.9432 - f1-score: 0.9699 - val_loss: 0.0127 - val_iou_score: 0.9196 - val_f1-score: 0.9565\n",
            "Epoch 83/100\n",
            "8/8 [==============================] - 13s 2s/step - loss: 0.0049 - iou_score: 0.9386 - f1-score: 0.9673 - val_loss: 0.0141 - val_iou_score: 0.9143 - val_f1-score: 0.9533\n",
            "Epoch 84/100\n",
            "8/8 [==============================] - 13s 2s/step - loss: 0.0047 - iou_score: 0.9421 - f1-score: 0.9693 - val_loss: 0.0114 - val_iou_score: 0.9223 - val_f1-score: 0.9581\n",
            "Epoch 85/100\n",
            "8/8 [==============================] - 13s 2s/step - loss: 0.0045 - iou_score: 0.8887 - f1-score: 0.9117 - val_loss: 0.0160 - val_iou_score: 0.9084 - val_f1-score: 0.9498\n",
            "Epoch 86/100\n",
            "8/8 [==============================] - 13s 2s/step - loss: 0.0045 - iou_score: 0.9463 - f1-score: 0.9717 - val_loss: 0.0130 - val_iou_score: 0.9213 - val_f1-score: 0.9574\n",
            "Epoch 87/100\n",
            "8/8 [==============================] - 13s 2s/step - loss: 0.0044 - iou_score: 0.9432 - f1-score: 0.9698 - val_loss: 0.0132 - val_iou_score: 0.9191 - val_f1-score: 0.9562\n",
            "Epoch 88/100\n",
            "8/8 [==============================] - 13s 2s/step - loss: 0.0043 - iou_score: 0.9432 - f1-score: 0.9698 - val_loss: 0.0128 - val_iou_score: 0.9206 - val_f1-score: 0.9570\n",
            "Epoch 89/100\n",
            "8/8 [==============================] - 13s 2s/step - loss: 0.0043 - iou_score: 0.9490 - f1-score: 0.9731 - val_loss: 0.0136 - val_iou_score: 0.9167 - val_f1-score: 0.9547\n",
            "Epoch 90/100\n",
            "8/8 [==============================] - 13s 2s/step - loss: 0.0044 - iou_score: 0.9447 - f1-score: 0.9707 - val_loss: 0.0126 - val_iou_score: 0.9203 - val_f1-score: 0.9569\n",
            "Epoch 91/100\n",
            "8/8 [==============================] - 13s 2s/step - loss: 0.0043 - iou_score: 0.9462 - f1-score: 0.9716 - val_loss: 0.0130 - val_iou_score: 0.9178 - val_f1-score: 0.9554\n",
            "Epoch 92/100\n",
            "8/8 [==============================] - 13s 2s/step - loss: 0.0044 - iou_score: 0.9425 - f1-score: 0.9695 - val_loss: 0.0119 - val_iou_score: 0.9191 - val_f1-score: 0.9562\n",
            "Epoch 93/100\n",
            "8/8 [==============================] - 13s 2s/step - loss: 0.0044 - iou_score: 0.9445 - f1-score: 0.9706 - val_loss: 0.0126 - val_iou_score: 0.9192 - val_f1-score: 0.9562\n",
            "Epoch 94/100\n",
            "8/8 [==============================] - 13s 2s/step - loss: 0.0044 - iou_score: 0.9455 - f1-score: 0.9711 - val_loss: 0.0123 - val_iou_score: 0.9202 - val_f1-score: 0.9568\n",
            "Epoch 95/100\n",
            "8/8 [==============================] - 13s 2s/step - loss: 0.0043 - iou_score: 0.9458 - f1-score: 0.9714 - val_loss: 0.0123 - val_iou_score: 0.9215 - val_f1-score: 0.9576\n",
            "Epoch 96/100\n",
            "8/8 [==============================] - 13s 2s/step - loss: 0.0042 - iou_score: 0.9391 - f1-score: 0.9674 - val_loss: 0.0114 - val_iou_score: 0.9196 - val_f1-score: 0.9565\n",
            "Epoch 97/100\n",
            "8/8 [==============================] - 13s 2s/step - loss: 0.0042 - iou_score: 0.9469 - f1-score: 0.9719 - val_loss: 0.0135 - val_iou_score: 0.9177 - val_f1-score: 0.9554\n",
            "Epoch 98/100\n",
            "8/8 [==============================] - 13s 2s/step - loss: 0.0043 - iou_score: 0.8891 - f1-score: 0.9119 - val_loss: 0.0111 - val_iou_score: 0.9234 - val_f1-score: 0.9587\n",
            "Epoch 99/100\n",
            "8/8 [==============================] - 13s 2s/step - loss: 0.0041 - iou_score: 0.9489 - f1-score: 0.9731 - val_loss: 0.0121 - val_iou_score: 0.9190 - val_f1-score: 0.9561\n",
            "Epoch 100/100\n",
            "8/8 [==============================] - 13s 2s/step - loss: 0.0040 - iou_score: 0.9476 - f1-score: 0.9723 - val_loss: 0.0145 - val_iou_score: 0.9124 - val_f1-score: 0.9522\n"
          ]
        }
      ],
      "source": [
        "#Fit the model\n",
        "history=model.fit(X_train_prep, \n",
        "          y_train,\n",
        "          batch_size=8, \n",
        "          epochs=100,\n",
        "          verbose=1,\n",
        "          validation_data=(X_test_prep, y_test))"
      ]
    },
    {
      "cell_type": "code",
      "execution_count": null,
      "metadata": {
        "id": "PRw1EiG-OnqZ"
      },
      "outputs": [],
      "source": [
        "#Save model for future use\n",
        "model.save('/content/drive/MyDrive/Colab Notebooks/ml_composite_model.h5')"
      ]
    },
    {
      "cell_type": "code",
      "execution_count": null,
      "metadata": {
        "id": "696yT5BTOnuZ",
        "colab": {
          "base_uri": "https://localhost:8080/",
          "height": 573
        },
        "outputId": "e06d676d-5745-4bc9-b207-b8fbaa55cdde"
      },
      "outputs": [
        {
          "output_type": "display_data",
          "data": {
            "text/plain": [
              "<Figure size 432x288 with 1 Axes>"
            ],
            "image/png": "[encoded data removed]"
          },
          "metadata": {
            "needs_background": "light"
          }
        },
        {
          "output_type": "display_data",
          "data": {
            "text/plain": [
              "<Figure size 432x288 with 1 Axes>"
            ],
            "image/png": "[encoded data removed]"
          },
          "metadata": {
            "needs_background": "light"
          }
        }
      ],
      "source": [
        "###\n",
        "#plot the training and validation IoU and loss at each epoch\n",
        "loss = history.history['loss']\n",
        "val_loss = history.history['val_loss']\n",
        "epochs = range(1, len(loss) + 1)\n",
        "plt.plot(epochs, loss, 'y', label='Training loss')\n",
        "plt.plot(epochs, val_loss, 'r', label='Validation loss')\n",
        "plt.title('Training and validation loss')\n",
        "plt.xlabel('Epochs')\n",
        "plt.ylabel('Loss')\n",
        "plt.legend()\n",
        "plt.show()\n",
        "\n",
        "# loss=keras.losses.categorical_crossentropy\n",
        "\n",
        "\n",
        "accuracy = history.history['iou_score']\n",
        "val_accuracy = history.history['val_iou_score']\n",
        "\n",
        "#acc = history.history['binary_accuracy']\n",
        "#val_acc = history.history['val_binary_accuracy']\n",
        "\n",
        "plt.plot(epochs, accuracy, 'y', label='Training IOU')\n",
        "plt.plot(epochs, val_accuracy, 'r', label='Validation IOU')\n",
        "plt.title('Training and validation IOU')\n",
        "plt.xlabel('Epochs')\n",
        "plt.ylabel('IOU')\n",
        "plt.legend()\n",
        "plt.show()"
      ]
    },
    {
      "cell_type": "code",
      "execution_count": null,
      "metadata": {
        "id": "7NVaffiNOwIL"
      },
      "outputs": [],
      "source": [
        "#Load the pretrained model for testing and predictions. \n",
        "from keras.models import load_model\n",
        "my_model = load_model('/content/drive/MyDrive/Colab Notebooks/ml_composite_model.h5', compile=False)\n",
        "#If you load a different model do not forget to preprocess accordingly. "
      ]
    },
    {
      "cell_type": "code",
      "execution_count": null,
      "metadata": {
        "id": "ytG5otOVOwKq",
        "colab": {
          "base_uri": "https://localhost:8080/"
        },
        "outputId": "b77193d9-ea3f-40f8-db86-a0429e24686c"
      },
      "outputs": [
        {
          "output_type": "stream",
          "name": "stdout",
          "text": [
            "1/1 [==============================] - 1s 526ms/step\n"
          ]
        }
      ],
      "source": [
        "#Predict on the test data\n",
        "y_pred=my_model.predict(X_test)\n",
        "y_pred_argmax=np.argmax(y_pred, axis=4)\n",
        "y_test_argmax = np.argmax(y_test, axis=4)"
      ]
    },
    {
      "cell_type": "code",
      "execution_count": null,
      "metadata": {
        "id": "hzJWIvSwOwM9",
        "colab": {
          "base_uri": "https://localhost:8080/"
        },
        "outputId": "c8f4496e-aaa2-4958-8d02-e0c38bebf406"
      },
      "outputs": [
        {
          "output_type": "stream",
          "name": "stdout",
          "text": [
            "(7, 64, 64, 64)\n",
            "(7, 64, 64, 64)\n",
            "[0 1]\n",
            "Mean IoU = 0.14757583\n"
          ]
        }
      ],
      "source": [
        "print(y_pred_argmax.shape)\n",
        "print(y_test_argmax.shape)\n",
        "print(np.unique(y_pred_argmax))\n",
        "#Using built in keras function for IoU\n",
        "#Only works on TF > 2.0\n",
        "from keras.metrics import MeanIoU\n",
        "from keras.metrics import MeanIoU\n",
        "n_classes = 2\n",
        "IOU_keras = MeanIoU(num_classes=n_classes)  \n",
        "IOU_keras.update_state(y_test_argmax, y_pred_argmax)\n",
        "print(\"Mean IoU =\", IOU_keras.result().numpy())"
      ]
    },
    {
      "cell_type": "code",
      "execution_count": null,
      "metadata": {
        "id": "759UdgiSOwPh",
        "colab": {
          "base_uri": "https://localhost:8080/"
        },
        "outputId": "1a21e34d-d7b8-4c54-f9c0-7dd4f0aba00d"
      },
      "outputs": [
        {
          "output_type": "stream",
          "name": "stdout",
          "text": [
            "1/1 [==============================] - 0s 24ms/step\n",
            "(64, 64, 64)\n"
          ]
        }
      ],
      "source": [
        "#Test some random images\n",
        "import random\n",
        "test_img_number = random.randint(0, len(X_test))\n",
        "test_img = X_test[test_img_number]\n",
        "ground_truth=y_test[test_img_number]\n",
        "\n",
        "test_img_input=np.expand_dims(test_img, 0)\n",
        "test_img_input1 = preprocess_input(test_img_input)\n",
        "\n",
        "test_pred1 = my_model.predict(test_img_input1)\n",
        "test_prediction1 = np.argmax(test_pred1, axis=4)[0,:,:,:]\n",
        "print(test_prediction1.shape)"
      ]
    },
    {
      "cell_type": "code",
      "execution_count": null,
      "metadata": {
        "id": "hCtVSgJsOwRf",
        "colab": {
          "base_uri": "https://localhost:8080/"
        },
        "outputId": "f6e51088-1131-4ee0-8f1d-5fd8c897a57b"
      },
      "outputs": [
        {
          "output_type": "stream",
          "name": "stdout",
          "text": [
            "(64, 64, 64, 3)\n"
          ]
        }
      ],
      "source": [
        "ground_truth_argmax = np.argmax(ground_truth, axis=3)\n",
        "print(test_img.shape)"
      ]
    },
    {
      "cell_type": "code",
      "execution_count": null,
      "metadata": {
        "id": "IMPx6bb6OwT6",
        "colab": {
          "base_uri": "https://localhost:8080/",
          "height": 261
        },
        "outputId": "866942c6-d271-4899-c667-4f12c453e363"
      },
      "outputs": [
        {
          "output_type": "display_data",
          "data": {
            "text/plain": [
              "<Figure size 864x576 with 3 Axes>"
            ],
            "image/png": "[encoded data removed]"
          },
          "metadata": {
            "needs_background": "light"
          }
        }
      ],
      "source": [
        "#Plot individual slices from test predictions for verification\n",
        "slice = 42\n",
        "plt.figure(figsize=(12, 8))\n",
        "plt.subplot(231)\n",
        "plt.title('Testing Image')\n",
        "plt.imshow(test_img[slice,:,:,0], cmap='gray')\n",
        "plt.subplot(232)\n",
        "plt.title('Testing Label')\n",
        "plt.imshow(ground_truth_argmax[slice,:,:])\n",
        "plt.subplot(233)\n",
        "plt.title('Prediction on test image')\n",
        "plt.imshow(test_prediction1[slice,:,:])\n",
        "plt.show()"
      ]
    },
    {
      "cell_type": "code",
      "execution_count": null,
      "metadata": {
        "id": "1SfnNv2wO5f1",
        "colab": {
          "base_uri": "https://localhost:8080/"
        },
        "outputId": "7b98b66f-60cc-4bd5-89d7-1a4fb0867d6d"
      },
      "outputs": [
        {
          "output_type": "stream",
          "name": "stdout",
          "text": [
            "(256, 512, 512)\n",
            "(4, 8, 8, 64, 64, 64)\n"
          ]
        }
      ],
      "source": [
        "#Break the large image (volume) into patches of same size as the training images (patches)\n",
        "large_image = io.imread('/content/drive/MyDrive/Colab Notebooks/data/new_composite-512x512x256.tif')\n",
        "patches = patchify(large_image, (64, 64, 64), step=64)  #Step=256 for 256 patches means no overlap\n",
        "print(large_image.shape)\n",
        "print(patches.shape)"
      ]
    },
    {
      "cell_type": "code",
      "execution_count": null,
      "metadata": {
        "id": "OA1bJ9FqO5iG",
        "colab": {
          "base_uri": "https://localhost:8080/"
        },
        "outputId": "8f05041e-51f9-48b3-a0cf-d47d14d09b28"
      },
      "outputs": [
        {
          "output_type": "stream",
          "name": "stdout",
          "text": [
            "1/1 [==============================] - 0s 27ms/step\n",
            "1/1 [==============================] - 0s 30ms/step\n",
            "1/1 [==============================] - 0s 25ms/step\n",
            "1/1 [==============================] - 0s 27ms/step\n",
            "1/1 [==============================] - 0s 23ms/step\n",
            "1/1 [==============================] - 0s 25ms/step\n",
            "1/1 [==============================] - 0s 25ms/step\n",
            "1/1 [==============================] - 0s 31ms/step\n",
            "1/1 [==============================] - 0s 36ms/step\n",
            "1/1 [==============================] - 0s 30ms/step\n",
            "1/1 [==============================] - 0s 26ms/step\n",
            "1/1 [==============================] - 0s 27ms/step\n",
            "1/1 [==============================] - 0s 26ms/step\n",
            "1/1 [==============================] - 0s 25ms/step\n",
            "1/1 [==============================] - 0s 25ms/step\n",
            "1/1 [==============================] - 0s 24ms/step\n",
            "1/1 [==============================] - 0s 30ms/step\n",
            "1/1 [==============================] - 0s 24ms/step\n",
            "1/1 [==============================] - 0s 27ms/step\n",
            "1/1 [==============================] - 0s 24ms/step\n",
            "1/1 [==============================] - 0s 27ms/step\n",
            "1/1 [==============================] - 0s 26ms/step\n",
            "1/1 [==============================] - 0s 24ms/step\n",
            "1/1 [==============================] - 0s 24ms/step\n",
            "1/1 [==============================] - 0s 24ms/step\n",
            "1/1 [==============================] - 0s 28ms/step\n",
            "1/1 [==============================] - 0s 24ms/step\n",
            "1/1 [==============================] - 0s 29ms/step\n",
            "1/1 [==============================] - 0s 25ms/step\n",
            "1/1 [==============================] - 0s 28ms/step\n",
            "1/1 [==============================] - 0s 27ms/step\n",
            "1/1 [==============================] - 0s 24ms/step\n",
            "1/1 [==============================] - 0s 24ms/step\n",
            "1/1 [==============================] - 0s 28ms/step\n",
            "1/1 [==============================] - 0s 26ms/step\n",
            "1/1 [==============================] - 0s 27ms/step\n",
            "1/1 [==============================] - 0s 24ms/step\n",
            "1/1 [==============================] - 0s 29ms/step\n",
            "1/1 [==============================] - 0s 28ms/step\n",
            "1/1 [==============================] - 0s 24ms/step\n",
            "1/1 [==============================] - 0s 26ms/step\n",
            "1/1 [==============================] - 0s 29ms/step\n",
            "1/1 [==============================] - 0s 25ms/step\n",
            "1/1 [==============================] - 0s 29ms/step\n",
            "1/1 [==============================] - 0s 26ms/step\n",
            "1/1 [==============================] - 0s 26ms/step\n",
            "1/1 [==============================] - 0s 24ms/step\n",
            "1/1 [==============================] - 0s 25ms/step\n",
            "1/1 [==============================] - 0s 23ms/step\n",
            "1/1 [==============================] - 0s 24ms/step\n",
            "1/1 [==============================] - 0s 27ms/step\n",
            "1/1 [==============================] - 0s 25ms/step\n",
            "1/1 [==============================] - 0s 25ms/step\n",
            "1/1 [==============================] - 0s 23ms/step\n",
            "1/1 [==============================] - 0s 25ms/step\n",
            "1/1 [==============================] - 0s 27ms/step\n",
            "1/1 [==============================] - 0s 27ms/step\n",
            "1/1 [==============================] - 0s 25ms/step\n",
            "1/1 [==============================] - 0s 26ms/step\n",
            "1/1 [==============================] - 0s 27ms/step\n",
            "1/1 [==============================] - 0s 27ms/step\n",
            "1/1 [==============================] - 0s 24ms/step\n",
            "1/1 [==============================] - 0s 25ms/step\n",
            "1/1 [==============================] - 0s 26ms/step\n",
            "1/1 [==============================] - 0s 29ms/step\n",
            "1/1 [==============================] - 0s 26ms/step\n",
            "1/1 [==============================] - 0s 25ms/step\n",
            "1/1 [==============================] - 0s 26ms/step\n",
            "1/1 [==============================] - 0s 23ms/step\n",
            "1/1 [==============================] - 0s 24ms/step\n",
            "1/1 [==============================] - 0s 24ms/step\n",
            "1/1 [==============================] - 0s 27ms/step\n",
            "1/1 [==============================] - 0s 23ms/step\n",
            "1/1 [==============================] - 0s 30ms/step\n",
            "1/1 [==============================] - 0s 31ms/step\n",
            "1/1 [==============================] - 0s 31ms/step\n",
            "1/1 [==============================] - 0s 28ms/step\n",
            "1/1 [==============================] - 0s 28ms/step\n",
            "1/1 [==============================] - 0s 24ms/step\n",
            "1/1 [==============================] - 0s 29ms/step\n",
            "1/1 [==============================] - 0s 27ms/step\n",
            "1/1 [==============================] - 0s 24ms/step\n",
            "1/1 [==============================] - 0s 23ms/step\n",
            "1/1 [==============================] - 0s 24ms/step\n",
            "1/1 [==============================] - 0s 24ms/step\n",
            "1/1 [==============================] - 0s 23ms/step\n",
            "1/1 [==============================] - 0s 29ms/step\n",
            "1/1 [==============================] - 0s 28ms/step\n",
            "1/1 [==============================] - 0s 26ms/step\n",
            "1/1 [==============================] - 0s 27ms/step\n",
            "1/1 [==============================] - 0s 23ms/step\n",
            "1/1 [==============================] - 0s 25ms/step\n",
            "1/1 [==============================] - 0s 26ms/step\n",
            "1/1 [==============================] - 0s 26ms/step\n",
            "1/1 [==============================] - 0s 26ms/step\n",
            "1/1 [==============================] - 0s 28ms/step\n",
            "1/1 [==============================] - 0s 24ms/step\n",
            "1/1 [==============================] - 0s 24ms/step\n",
            "1/1 [==============================] - 0s 27ms/step\n",
            "1/1 [==============================] - 0s 36ms/step\n",
            "1/1 [==============================] - 0s 24ms/step\n",
            "1/1 [==============================] - 0s 27ms/step\n",
            "1/1 [==============================] - 0s 24ms/step\n",
            "1/1 [==============================] - 0s 24ms/step\n",
            "1/1 [==============================] - 0s 23ms/step\n",
            "1/1 [==============================] - 0s 24ms/step\n",
            "1/1 [==============================] - 0s 24ms/step\n",
            "1/1 [==============================] - 0s 26ms/step\n",
            "1/1 [==============================] - 0s 24ms/step\n",
            "1/1 [==============================] - 0s 34ms/step\n",
            "1/1 [==============================] - 0s 28ms/step\n",
            "1/1 [==============================] - 0s 24ms/step\n",
            "1/1 [==============================] - 0s 23ms/step\n",
            "1/1 [==============================] - 0s 25ms/step\n",
            "1/1 [==============================] - 0s 22ms/step\n",
            "1/1 [==============================] - 0s 24ms/step\n",
            "1/1 [==============================] - 0s 25ms/step\n",
            "1/1 [==============================] - 0s 23ms/step\n",
            "1/1 [==============================] - 0s 23ms/step\n",
            "1/1 [==============================] - 0s 23ms/step\n",
            "1/1 [==============================] - 0s 23ms/step\n",
            "1/1 [==============================] - 0s 24ms/step\n",
            "1/1 [==============================] - 0s 29ms/step\n",
            "1/1 [==============================] - 0s 25ms/step\n",
            "1/1 [==============================] - 0s 24ms/step\n",
            "1/1 [==============================] - 0s 25ms/step\n",
            "1/1 [==============================] - 0s 24ms/step\n",
            "1/1 [==============================] - 0s 28ms/step\n",
            "1/1 [==============================] - 0s 24ms/step\n",
            "1/1 [==============================] - 0s 26ms/step\n",
            "1/1 [==============================] - 0s 24ms/step\n",
            "1/1 [==============================] - 0s 25ms/step\n",
            "1/1 [==============================] - 0s 24ms/step\n",
            "1/1 [==============================] - 0s 27ms/step\n",
            "1/1 [==============================] - 0s 23ms/step\n",
            "1/1 [==============================] - 0s 27ms/step\n",
            "1/1 [==============================] - 0s 25ms/step\n",
            "1/1 [==============================] - 0s 26ms/step\n",
            "1/1 [==============================] - 0s 24ms/step\n",
            "1/1 [==============================] - 0s 25ms/step\n",
            "1/1 [==============================] - 0s 23ms/step\n",
            "1/1 [==============================] - 0s 25ms/step\n",
            "1/1 [==============================] - 0s 25ms/step\n",
            "1/1 [==============================] - 0s 24ms/step\n",
            "1/1 [==============================] - 0s 25ms/step\n",
            "1/1 [==============================] - 0s 24ms/step\n",
            "1/1 [==============================] - 0s 24ms/step\n",
            "1/1 [==============================] - 0s 24ms/step\n",
            "1/1 [==============================] - 0s 24ms/step\n",
            "1/1 [==============================] - 0s 28ms/step\n",
            "1/1 [==============================] - 0s 26ms/step\n",
            "1/1 [==============================] - 0s 25ms/step\n",
            "1/1 [==============================] - 0s 25ms/step\n",
            "1/1 [==============================] - 0s 26ms/step\n",
            "1/1 [==============================] - 0s 27ms/step\n",
            "1/1 [==============================] - 0s 27ms/step\n",
            "1/1 [==============================] - 0s 30ms/step\n",
            "1/1 [==============================] - 0s 24ms/step\n",
            "1/1 [==============================] - 0s 28ms/step\n",
            "1/1 [==============================] - 0s 23ms/step\n",
            "1/1 [==============================] - 0s 26ms/step\n",
            "1/1 [==============================] - 0s 25ms/step\n",
            "1/1 [==============================] - 0s 27ms/step\n",
            "1/1 [==============================] - 0s 24ms/step\n",
            "1/1 [==============================] - 0s 24ms/step\n",
            "1/1 [==============================] - 0s 28ms/step\n",
            "1/1 [==============================] - 0s 24ms/step\n",
            "1/1 [==============================] - 0s 24ms/step\n",
            "1/1 [==============================] - 0s 25ms/step\n",
            "1/1 [==============================] - 0s 24ms/step\n",
            "1/1 [==============================] - 0s 25ms/step\n",
            "1/1 [==============================] - 0s 26ms/step\n",
            "1/1 [==============================] - 0s 24ms/step\n",
            "1/1 [==============================] - 0s 25ms/step\n",
            "1/1 [==============================] - 0s 25ms/step\n",
            "1/1 [==============================] - 0s 24ms/step\n",
            "1/1 [==============================] - 0s 23ms/step\n",
            "1/1 [==============================] - 0s 23ms/step\n",
            "1/1 [==============================] - 0s 26ms/step\n",
            "1/1 [==============================] - 0s 26ms/step\n",
            "1/1 [==============================] - 0s 27ms/step\n",
            "1/1 [==============================] - 0s 23ms/step\n",
            "1/1 [==============================] - 0s 34ms/step\n",
            "1/1 [==============================] - 0s 25ms/step\n",
            "1/1 [==============================] - 0s 24ms/step\n",
            "1/1 [==============================] - 0s 25ms/step\n",
            "1/1 [==============================] - 0s 28ms/step\n",
            "1/1 [==============================] - 0s 25ms/step\n",
            "1/1 [==============================] - 0s 29ms/step\n",
            "1/1 [==============================] - 0s 25ms/step\n",
            "1/1 [==============================] - 0s 24ms/step\n",
            "1/1 [==============================] - 0s 26ms/step\n",
            "1/1 [==============================] - 0s 24ms/step\n",
            "1/1 [==============================] - 0s 27ms/step\n",
            "1/1 [==============================] - 0s 29ms/step\n",
            "1/1 [==============================] - 0s 23ms/step\n",
            "1/1 [==============================] - 0s 24ms/step\n",
            "1/1 [==============================] - 0s 23ms/step\n",
            "1/1 [==============================] - 0s 31ms/step\n",
            "1/1 [==============================] - 0s 28ms/step\n",
            "1/1 [==============================] - 0s 24ms/step\n",
            "1/1 [==============================] - 0s 32ms/step\n",
            "1/1 [==============================] - 0s 24ms/step\n",
            "1/1 [==============================] - 0s 24ms/step\n",
            "1/1 [==============================] - 0s 25ms/step\n",
            "1/1 [==============================] - 0s 23ms/step\n",
            "1/1 [==============================] - 0s 24ms/step\n",
            "1/1 [==============================] - 0s 23ms/step\n",
            "1/1 [==============================] - 0s 28ms/step\n",
            "1/1 [==============================] - 0s 25ms/step\n",
            "1/1 [==============================] - 0s 24ms/step\n",
            "1/1 [==============================] - 0s 27ms/step\n",
            "1/1 [==============================] - 0s 24ms/step\n",
            "1/1 [==============================] - 0s 27ms/step\n",
            "1/1 [==============================] - 0s 28ms/step\n",
            "1/1 [==============================] - 0s 23ms/step\n",
            "1/1 [==============================] - 0s 31ms/step\n",
            "1/1 [==============================] - 0s 25ms/step\n",
            "1/1 [==============================] - 0s 25ms/step\n",
            "1/1 [==============================] - 0s 25ms/step\n",
            "1/1 [==============================] - 0s 24ms/step\n",
            "1/1 [==============================] - 0s 24ms/step\n",
            "1/1 [==============================] - 0s 25ms/step\n",
            "1/1 [==============================] - 0s 31ms/step\n",
            "1/1 [==============================] - 0s 27ms/step\n",
            "1/1 [==============================] - 0s 26ms/step\n",
            "1/1 [==============================] - 0s 23ms/step\n",
            "1/1 [==============================] - 0s 28ms/step\n",
            "1/1 [==============================] - 0s 23ms/step\n",
            "1/1 [==============================] - 0s 23ms/step\n",
            "1/1 [==============================] - 0s 25ms/step\n",
            "1/1 [==============================] - 0s 29ms/step\n",
            "1/1 [==============================] - 0s 27ms/step\n",
            "1/1 [==============================] - 0s 24ms/step\n",
            "1/1 [==============================] - 0s 27ms/step\n",
            "1/1 [==============================] - 0s 24ms/step\n",
            "1/1 [==============================] - 0s 28ms/step\n",
            "1/1 [==============================] - 0s 27ms/step\n",
            "1/1 [==============================] - 0s 23ms/step\n",
            "1/1 [==============================] - 0s 23ms/step\n",
            "1/1 [==============================] - 0s 30ms/step\n",
            "1/1 [==============================] - 0s 29ms/step\n",
            "1/1 [==============================] - 0s 27ms/step\n",
            "1/1 [==============================] - 0s 30ms/step\n",
            "1/1 [==============================] - 0s 25ms/step\n",
            "1/1 [==============================] - 0s 27ms/step\n",
            "1/1 [==============================] - 0s 24ms/step\n",
            "1/1 [==============================] - 0s 26ms/step\n",
            "1/1 [==============================] - 0s 27ms/step\n",
            "1/1 [==============================] - 0s 24ms/step\n",
            "1/1 [==============================] - 0s 24ms/step\n",
            "1/1 [==============================] - 0s 26ms/step\n",
            "1/1 [==============================] - 0s 24ms/step\n",
            "1/1 [==============================] - 0s 24ms/step\n",
            "1/1 [==============================] - 0s 28ms/step\n",
            "1/1 [==============================] - 0s 28ms/step\n"
          ]
        }
      ],
      "source": [
        "# Predict each 3D patch   \n",
        "predicted_patches = []\n",
        "for i in range(patches.shape[0]):\n",
        "  for j in range(patches.shape[1]):\n",
        "    for k in range(patches.shape[2]):\n",
        "      #print(i,j,k)\n",
        "      single_patch = patches[i,j,k, :,:,:]\n",
        "      single_patch_3ch = np.stack((single_patch,)*3, axis=-1)\n",
        "      single_patch_3ch_input = preprocess_input(np.expand_dims(single_patch_3ch, axis=0))\n",
        "      single_patch_prediction = my_model.predict(single_patch_3ch_input)\n",
        "      single_patch_prediction_argmax = np.argmax(single_patch_prediction, axis=4)[0,:,:,:]\n",
        "      predicted_patches.append(single_patch_prediction_argmax)\n",
        "      "
      ]
    },
    {
      "cell_type": "code",
      "execution_count": null,
      "metadata": {
        "id": "9kKj-pvMO5kX",
        "colab": {
          "base_uri": "https://localhost:8080/"
        },
        "outputId": "630ec369-951c-4a9a-f4af-3534077714c9"
      },
      "outputs": [
        {
          "output_type": "stream",
          "name": "stdout",
          "text": [
            "(256, 64, 64, 64)\n"
          ]
        }
      ],
      "source": [
        "#Convert list to numpy array\n",
        "predicted_patches = np.array(predicted_patches)\n",
        "print(predicted_patches.shape)"
      ]
    },
    {
      "cell_type": "code",
      "execution_count": null,
      "metadata": {
        "id": "vrguJmthO5mo",
        "colab": {
          "base_uri": "https://localhost:8080/"
        },
        "outputId": "f1a757e5-7636-4821-a85d-33c81fe16c7c"
      },
      "outputs": [
        {
          "output_type": "stream",
          "name": "stdout",
          "text": [
            "(4, 8, 8, 64, 64, 64)\n"
          ]
        }
      ],
      "source": [
        "#Reshape to the shape we had after patchifying\n",
        "predicted_patches_reshaped = np.reshape(predicted_patches, \n",
        "                                        (patches.shape[0], patches.shape[1], patches.shape[2],\n",
        "                                         patches.shape[3], patches.shape[4], patches.shape[5]) )\n",
        "print(predicted_patches_reshaped.shape)"
      ]
    },
    {
      "cell_type": "code",
      "execution_count": null,
      "metadata": {
        "id": "BMo75-LIO5pJ",
        "colab": {
          "base_uri": "https://localhost:8080/"
        },
        "outputId": "c32258e3-58e7-44da-b602-57bc2f93507f"
      },
      "outputs": [
        {
          "output_type": "stream",
          "name": "stdout",
          "text": [
            "(256, 512, 512)\n",
            "int64\n",
            "uint8\n"
          ]
        }
      ],
      "source": [
        "#Repach individual patches into the orginal volume shape\n",
        "reconstructed_image = unpatchify(predicted_patches_reshaped, large_image.shape)\n",
        "print(reconstructed_image.shape)\n",
        "print(reconstructed_image.dtype)\n",
        "#Convert to uint8 so we can open image in most image viewing software packages\n",
        "reconstructed_image=reconstructed_image.astype(np.uint8)\n",
        "print(reconstructed_image.dtype)"
      ]
    },
    {
      "cell_type": "code",
      "execution_count": null,
      "metadata": {
        "id": "sf-yZ_CBPAqV"
      },
      "outputs": [],
      "source": [
        "#Now save it as segmented volume.\n",
        "from tifffile import imsave\n",
        "imsave('/content/drive/MyDrive/Colab Notebooks/data/segmented_bita.tif', reconstructed_image)"
      ]
    },
    {
      "cell_type": "code",
      "execution_count": null,
      "metadata": {
        "id": "gF0GawPXPAs2",
        "colab": {
          "base_uri": "https://localhost:8080/"
        },
        "outputId": "aa09cb38-023a-4de0-8c36-3c93b0e69f18"
      },
      "outputs": [
        {
          "output_type": "stream",
          "name": "stdout",
          "text": [
            "[0 1]\n"
          ]
        }
      ],
      "source": [
        "print(np.unique(reconstructed_image))"
      ]
    },
    {
      "cell_type": "code",
      "execution_count": null,
      "metadata": {
        "id": "uuTD4WlCPAvN"
      },
      "outputs": [],
      "source": [
        "#Seperate each channel/segment to be combined as multiple channels.\n",
        "num_segments=4\n",
        "segm0 = (reconstructed_image == 0)\n",
        "segm1 = (reconstructed_image == 1)\n",
        "\n",
        "\n",
        "final = np.empty((reconstructed_image.shape[0], reconstructed_image.shape[1], reconstructed_image.shape[2], num_segments))\n",
        "final[:,:,:,0] = segm0\n",
        "final[:,:,:,1] = segm1\n"
      ]
    },
    {
      "cell_type": "code",
      "execution_count": null,
      "metadata": {
        "id": "gME25udkPAxa",
        "colab": {
          "base_uri": "https://localhost:8080/"
        },
        "outputId": "5e530760-fb34-4078-a3a9-0123dec8fd9e"
      },
      "outputs": [
        {
          "output_type": "stream",
          "name": "stdout",
          "text": [
            "Looking in indexes: https://pypi.org/simple, https://us-python.pkg.dev/colab-wheels/public/simple/\n",
            "Requirement already satisfied: apeer-ometiff-library in /usr/local/lib/python3.7/dist-packages (1.10.1)\n",
            "Requirement already satisfied: numpy>=1.18.5 in /usr/local/lib/python3.7/dist-packages (from apeer-ometiff-library) (1.21.6)\n",
            "Requirement already satisfied: tifffile==2020.6.3 in /usr/local/lib/python3.7/dist-packages (from apeer-ometiff-library) (2020.6.3)\n",
            "Requirement already satisfied: imagecodecs==2020.5.30 in /usr/local/lib/python3.7/dist-packages (from apeer-ometiff-library) (2020.5.30)\n"
          ]
        }
      ],
      "source": [
        "#Use APEER OMETIFF library to read and write multidimensional images\n",
        "!pip install apeer-ometiff-library"
      ]
    },
    {
      "cell_type": "code",
      "execution_count": null,
      "metadata": {
        "id": "yCfAtMNvPA0j"
      },
      "outputs": [],
      "source": [
        "from apeer_ometiff_library import io"
      ]
    },
    {
      "cell_type": "code",
      "execution_count": null,
      "metadata": {
        "id": "B-7QGSnnPJnW"
      },
      "outputs": [],
      "source": [
        "# Expand image array to 5D of order (T, Z, C, X, Y)\n",
        "# This is the convention for OMETIFF format as written by APEER library\n",
        "final = np.expand_dims(final, axis=0)\n",
        "final=np.swapaxes(final, 2, 4)\n",
        "\n",
        "final = final.astype(np.int8)"
      ]
    },
    {
      "cell_type": "code",
      "execution_count": null,
      "metadata": {
        "id": "ZGg83I6qPJp5",
        "colab": {
          "base_uri": "https://localhost:8080/"
        },
        "outputId": "01344b22-70d3-41a9-d54a-66c42f153a1c"
      },
      "outputs": [
        {
          "output_type": "stream",
          "name": "stdout",
          "text": [
            "Shape of the segmented volume is: T, Z, C, X, Y  (1, 256, 4, 512, 512)\n",
            "int8\n"
          ]
        }
      ],
      "source": [
        "print(\"Shape of the segmented volume is: T, Z, C, X, Y \", final.shape)\n",
        "print(final.dtype)"
      ]
    },
    {
      "cell_type": "code",
      "execution_count": null,
      "metadata": {
        "id": "yTU18HovPJr-"
      },
      "outputs": [],
      "source": [
        "# Write dataset as multi-dimensional OMETIFF *image*\n",
        "io.write_ometiff(\"/content/drive/MyDrive/Colab Notebooks/data/segmented_composite_bita.ome.tiff\", final)"
      ]
    },
    {
      "cell_type": "code",
      "execution_count": null,
      "metadata": {
        "id": "ntifiMfoPJuy"
      },
      "outputs": [],
      "source": []
    },
    {
      "cell_type": "code",
      "execution_count": null,
      "metadata": {
        "id": "PvoASjsdPJwy"
      },
      "outputs": [],
      "source": []
    }
  ],
  "metadata": {
    "accelerator": "GPU",
    "colab": {
      "provenance": [],
      "mount_file_id": "1krTTt0Hzs0IO0bcNdPDjROFNbPH-o_-S",
      "authorship_tag": "ABX9TyM6ytgohpV5+jX+mUL06rhu",
      "include_colab_link": true
    },
    "gpuClass": "standard",
    "kernelspec": {
      "display_name": "Python 3",
      "name": "python3"
    },
    "language_info": {
      "name": "python"
    }
  },
  "nbformat": 4,
  "nbformat_minor": 0
}